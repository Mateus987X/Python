{
 "cells": [
  {
   "cell_type": "code",
   "execution_count": 1,
   "id": "23a3b5b6-f717-4592-b4a1-25df5c9c125f",
   "metadata": {},
   "outputs": [],
   "source": [
    "#Imports\n",
    "import re\n",
    "import numpy as np\n",
    "import pandas as pd\n",
    "import matplotlib\n",
    "import matplotlib.pyplot as plt\n",
    "import seaborn\n",
    "import warnings\n",
    "warnings.filterwarnings('ignore')"
   ]
  },
  {
   "cell_type": "markdown",
   "id": "d81a5ab4-e3f4-4f01-9c7c-34f4c293ccce",
   "metadata": {},
   "source": [
    "## Carregando os Dados e Compreendendo as Variáveis"
   ]
  },
  {
   "cell_type": "code",
   "execution_count": 2,
   "id": "1d212a18-bc24-4283-9003-dbd0ad4253e4",
   "metadata": {},
   "outputs": [],
   "source": [
    "#Carregando dados\n",
    "df_dsa = pd.read_csv('dataset.csv')"
   ]
  },
  {
   "cell_type": "code",
   "execution_count": 3,
   "id": "bb4f5282-49f9-4009-923c-e7e6152a6ff3",
   "metadata": {},
   "outputs": [
    {
     "name": "stdout",
     "output_type": "stream",
     "text": [
      "<class 'pandas.core.frame.DataFrame'>\n",
      "RangeIndex: 101766 entries, 0 to 101765\n",
      "Data columns (total 50 columns):\n",
      " #   Column                    Non-Null Count   Dtype \n",
      "---  ------                    --------------   ----- \n",
      " 0   encounter_id              101766 non-null  int64 \n",
      " 1   patient_nbr               101766 non-null  int64 \n",
      " 2   race                      101766 non-null  object\n",
      " 3   gender                    101766 non-null  object\n",
      " 4   age                       101766 non-null  object\n",
      " 5   weight                    101766 non-null  object\n",
      " 6   admission_type_id         101766 non-null  int64 \n",
      " 7   discharge_disposition_id  101766 non-null  int64 \n",
      " 8   admission_source_id       101766 non-null  int64 \n",
      " 9   time_in_hospital          101766 non-null  int64 \n",
      " 10  payer_code                101766 non-null  object\n",
      " 11  medical_specialty         101766 non-null  object\n",
      " 12  num_lab_procedures        101766 non-null  int64 \n",
      " 13  num_procedures            101766 non-null  int64 \n",
      " 14  num_medications           101766 non-null  int64 \n",
      " 15  number_outpatient         101766 non-null  int64 \n",
      " 16  number_emergency          101766 non-null  int64 \n",
      " 17  number_inpatient          101766 non-null  int64 \n",
      " 18  diag_1                    101766 non-null  object\n",
      " 19  diag_2                    101766 non-null  object\n",
      " 20  diag_3                    101766 non-null  object\n",
      " 21  number_diagnoses          101766 non-null  int64 \n",
      " 22  max_glu_serum             5346 non-null    object\n",
      " 23  A1Cresult                 17018 non-null   object\n",
      " 24  metformin                 101766 non-null  object\n",
      " 25  repaglinide               101766 non-null  object\n",
      " 26  nateglinide               101766 non-null  object\n",
      " 27  chlorpropamide            101766 non-null  object\n",
      " 28  glimepiride               101766 non-null  object\n",
      " 29  acetohexamide             101766 non-null  object\n",
      " 30  glipizide                 101766 non-null  object\n",
      " 31  glyburide                 101766 non-null  object\n",
      " 32  tolbutamide               101766 non-null  object\n",
      " 33  pioglitazone              101766 non-null  object\n",
      " 34  rosiglitazone             101766 non-null  object\n",
      " 35  acarbose                  101766 non-null  object\n",
      " 36  miglitol                  101766 non-null  object\n",
      " 37  troglitazone              101766 non-null  object\n",
      " 38  tolazamide                101766 non-null  object\n",
      " 39  examide                   101766 non-null  object\n",
      " 40  citoglipton               101766 non-null  object\n",
      " 41  insulin                   101766 non-null  object\n",
      " 42  glyburide-metformin       101766 non-null  object\n",
      " 43  glipizide-metformin       101766 non-null  object\n",
      " 44  glimepiride-pioglitazone  101766 non-null  object\n",
      " 45  metformin-rosiglitazone   101766 non-null  object\n",
      " 46  metformin-pioglitazone    101766 non-null  object\n",
      " 47  change                    101766 non-null  object\n",
      " 48  diabetesMed               101766 non-null  object\n",
      " 49  readmitted                101766 non-null  object\n",
      "dtypes: int64(13), object(37)\n",
      "memory usage: 38.8+ MB\n"
     ]
    }
   ],
   "source": [
    "df_dsa.info()"
   ]
  },
  {
   "cell_type": "markdown",
   "id": "903aa402-c336-493f-b3de-faa31f51254a",
   "metadata": {},
   "source": [
    "## Limpeza e Transformação dos Dados\n"
   ]
  },
  {
   "cell_type": "code",
   "execution_count": 4,
   "id": "405171a7-071e-44e8-8e56-c03cf82a332d",
   "metadata": {},
   "outputs": [
    {
     "data": {
      "text/plain": [
       "encounter_id                    0\n",
       "patient_nbr                     0\n",
       "race                            0\n",
       "gender                          0\n",
       "age                             0\n",
       "weight                          0\n",
       "admission_type_id               0\n",
       "discharge_disposition_id        0\n",
       "admission_source_id             0\n",
       "time_in_hospital                0\n",
       "payer_code                      0\n",
       "medical_specialty               0\n",
       "num_lab_procedures              0\n",
       "num_procedures                  0\n",
       "num_medications                 0\n",
       "number_outpatient               0\n",
       "number_emergency                0\n",
       "number_inpatient                0\n",
       "diag_1                          0\n",
       "diag_2                          0\n",
       "diag_3                          0\n",
       "number_diagnoses                0\n",
       "max_glu_serum               96420\n",
       "A1Cresult                   84748\n",
       "metformin                       0\n",
       "repaglinide                     0\n",
       "nateglinide                     0\n",
       "chlorpropamide                  0\n",
       "glimepiride                     0\n",
       "acetohexamide                   0\n",
       "glipizide                       0\n",
       "glyburide                       0\n",
       "tolbutamide                     0\n",
       "pioglitazone                    0\n",
       "rosiglitazone                   0\n",
       "acarbose                        0\n",
       "miglitol                        0\n",
       "troglitazone                    0\n",
       "tolazamide                      0\n",
       "examide                         0\n",
       "citoglipton                     0\n",
       "insulin                         0\n",
       "glyburide-metformin             0\n",
       "glipizide-metformin             0\n",
       "glimepiride-pioglitazone        0\n",
       "metformin-rosiglitazone         0\n",
       "metformin-pioglitazone          0\n",
       "change                          0\n",
       "diabetesMed                     0\n",
       "readmitted                      0\n",
       "dtype: int64"
      ]
     },
     "execution_count": 4,
     "metadata": {},
     "output_type": "execute_result"
    }
   ],
   "source": [
    "# Verificando valores nulos (ausentes)\n",
    "df_dsa.isnull().sum()"
   ]
  },
  {
   "cell_type": "code",
   "execution_count": 5,
   "id": "87646247-214a-4978-9282-2693d2e57568",
   "metadata": {},
   "outputs": [
    {
     "data": {
      "text/plain": [
       "encounter_id                False\n",
       "patient_nbr                 False\n",
       "race                         True\n",
       "gender                      False\n",
       "age                         False\n",
       "weight                       True\n",
       "admission_type_id           False\n",
       "discharge_disposition_id    False\n",
       "admission_source_id         False\n",
       "time_in_hospital            False\n",
       "payer_code                   True\n",
       "medical_specialty            True\n",
       "num_lab_procedures          False\n",
       "num_procedures              False\n",
       "num_medications             False\n",
       "number_outpatient           False\n",
       "number_emergency            False\n",
       "number_inpatient            False\n",
       "diag_1                       True\n",
       "diag_2                       True\n",
       "diag_3                       True\n",
       "number_diagnoses            False\n",
       "max_glu_serum               False\n",
       "A1Cresult                   False\n",
       "metformin                   False\n",
       "repaglinide                 False\n",
       "nateglinide                 False\n",
       "chlorpropamide              False\n",
       "glimepiride                 False\n",
       "acetohexamide               False\n",
       "glipizide                   False\n",
       "glyburide                   False\n",
       "tolbutamide                 False\n",
       "pioglitazone                False\n",
       "rosiglitazone               False\n",
       "acarbose                    False\n",
       "miglitol                    False\n",
       "troglitazone                False\n",
       "tolazamide                  False\n",
       "examide                     False\n",
       "citoglipton                 False\n",
       "insulin                     False\n",
       "glyburide-metformin         False\n",
       "glipizide-metformin         False\n",
       "glimepiride-pioglitazone    False\n",
       "metformin-rosiglitazone     False\n",
       "metformin-pioglitazone      False\n",
       "change                      False\n",
       "diabetesMed                 False\n",
       "readmitted                  False\n",
       "dtype: bool"
      ]
     },
     "execution_count": 5,
     "metadata": {},
     "output_type": "execute_result"
    }
   ],
   "source": [
    "#Verificando colunas que possuem \"?\"\n",
    "df_dsa.isin(['?']).any()"
   ]
  },
  {
   "cell_type": "code",
   "execution_count": 6,
   "id": "8a77d219-2da3-4b7d-92e1-5cfc02252f38",
   "metadata": {},
   "outputs": [
    {
     "name": "stdout",
     "output_type": "stream",
     "text": [
      "\n",
      "\n",
      "encounter_id: 101766 valores únicos\n",
      "\n",
      "\n",
      "patient_nbr: 71518 valores únicos\n",
      "\n",
      "\n",
      "race: 6 valores únicos\n",
      "['Caucasian' 'AfricanAmerican' '?' 'Other' 'Asian' 'Hispanic']\n",
      "\n",
      "\n",
      "gender: 3 valores únicos\n",
      "['Female' 'Male' 'Unknown/Invalid']\n",
      "\n",
      "\n",
      "age: 10 valores únicos\n",
      "['[0-10)' '[10-20)' '[20-30)' '[30-40)' '[40-50)' '[50-60)' '[60-70)'\n",
      " '[70-80)' '[80-90)' '[90-100)']\n",
      "\n",
      "\n",
      "weight: 10 valores únicos\n",
      "['?' '[75-100)' '[50-75)' '[0-25)' '[100-125)' '[25-50)' '[125-150)'\n",
      " '[175-200)' '[150-175)' '>200']\n",
      "\n",
      "\n",
      "admission_type_id: 8 valores únicos\n",
      "[6 1 2 3 4 5 8 7]\n",
      "\n",
      "\n",
      "discharge_disposition_id: 26 valores únicos\n",
      "\n",
      "\n",
      "admission_source_id: 17 valores únicos\n",
      "\n",
      "\n",
      "time_in_hospital: 14 valores únicos\n",
      "[ 1  3  2  4  5 13 12  9  7 10  6 11  8 14]\n",
      "\n",
      "\n",
      "payer_code: 18 valores únicos\n",
      "\n",
      "\n",
      "medical_specialty: 73 valores únicos\n",
      "\n",
      "\n",
      "num_lab_procedures: 118 valores únicos\n",
      "\n",
      "\n",
      "num_procedures: 7 valores únicos\n",
      "[0 5 1 6 2 3 4]\n",
      "\n",
      "\n",
      "num_medications: 75 valores únicos\n",
      "\n",
      "\n",
      "number_outpatient: 39 valores únicos\n",
      "\n",
      "\n",
      "number_emergency: 33 valores únicos\n",
      "\n",
      "\n",
      "number_inpatient: 21 valores únicos\n",
      "\n",
      "\n",
      "diag_1: 717 valores únicos\n",
      "\n",
      "\n",
      "diag_2: 749 valores únicos\n",
      "\n",
      "\n",
      "diag_3: 790 valores únicos\n",
      "\n",
      "\n",
      "number_diagnoses: 16 valores únicos\n",
      "\n",
      "\n",
      "max_glu_serum: 4 valores únicos\n",
      "[nan '>300' 'Norm' '>200']\n",
      "\n",
      "\n",
      "A1Cresult: 4 valores únicos\n",
      "[nan '>7' '>8' 'Norm']\n",
      "\n",
      "\n",
      "metformin: 4 valores únicos\n",
      "['No' 'Steady' 'Up' 'Down']\n",
      "\n",
      "\n",
      "repaglinide: 4 valores únicos\n",
      "['No' 'Up' 'Steady' 'Down']\n",
      "\n",
      "\n",
      "nateglinide: 4 valores únicos\n",
      "['No' 'Steady' 'Down' 'Up']\n",
      "\n",
      "\n",
      "chlorpropamide: 4 valores únicos\n",
      "['No' 'Steady' 'Down' 'Up']\n",
      "\n",
      "\n",
      "glimepiride: 4 valores únicos\n",
      "['No' 'Steady' 'Down' 'Up']\n",
      "\n",
      "\n",
      "acetohexamide: 2 valores únicos\n",
      "['No' 'Steady']\n",
      "\n",
      "\n",
      "glipizide: 4 valores únicos\n",
      "['No' 'Steady' 'Up' 'Down']\n",
      "\n",
      "\n",
      "glyburide: 4 valores únicos\n",
      "['No' 'Steady' 'Up' 'Down']\n",
      "\n",
      "\n",
      "tolbutamide: 2 valores únicos\n",
      "['No' 'Steady']\n",
      "\n",
      "\n",
      "pioglitazone: 4 valores únicos\n",
      "['No' 'Steady' 'Up' 'Down']\n",
      "\n",
      "\n",
      "rosiglitazone: 4 valores únicos\n",
      "['No' 'Steady' 'Up' 'Down']\n",
      "\n",
      "\n",
      "acarbose: 4 valores únicos\n",
      "['No' 'Steady' 'Up' 'Down']\n",
      "\n",
      "\n",
      "miglitol: 4 valores únicos\n",
      "['No' 'Steady' 'Down' 'Up']\n",
      "\n",
      "\n",
      "troglitazone: 2 valores únicos\n",
      "['No' 'Steady']\n",
      "\n",
      "\n",
      "tolazamide: 3 valores únicos\n",
      "['No' 'Steady' 'Up']\n",
      "\n",
      "\n",
      "examide: 1 valores únicos\n",
      "['No']\n",
      "\n",
      "\n",
      "citoglipton: 1 valores únicos\n",
      "['No']\n",
      "\n",
      "\n",
      "insulin: 4 valores únicos\n",
      "['No' 'Up' 'Steady' 'Down']\n",
      "\n",
      "\n",
      "glyburide-metformin: 4 valores únicos\n",
      "['No' 'Steady' 'Down' 'Up']\n",
      "\n",
      "\n",
      "glipizide-metformin: 2 valores únicos\n",
      "['No' 'Steady']\n",
      "\n",
      "\n",
      "glimepiride-pioglitazone: 2 valores únicos\n",
      "['No' 'Steady']\n",
      "\n",
      "\n",
      "metformin-rosiglitazone: 2 valores únicos\n",
      "['No' 'Steady']\n",
      "\n",
      "\n",
      "metformin-pioglitazone: 2 valores únicos\n",
      "['No' 'Steady']\n",
      "\n",
      "\n",
      "change: 2 valores únicos\n",
      "['No' 'Ch']\n",
      "\n",
      "\n",
      "diabetesMed: 2 valores únicos\n",
      "['No' 'Yes']\n",
      "\n",
      "\n",
      "readmitted: 3 valores únicos\n",
      "['NO' '>30' '<30']\n"
     ]
    }
   ],
   "source": [
    "# Verificando valores únicos\n",
    "for col in list(df_dsa.columns):\n",
    "\n",
    "    # Obtém uma lista de valores únicos\n",
    "    valores_unicos = df_dsa[col].unique()\n",
    "\n",
    "    # Se o número de valores exclusivos for menor que 15, imprima os valores.\n",
    "    # Caso contrário, imprima o número de valores exclusivos\n",
    "    if len(valores_unicos) < 15:\n",
    "        print('\\n')\n",
    "        print( col + ': ' + str(len(valores_unicos)) + ' valores únicos')\n",
    "        print(valores_unicos)\n",
    "    else:\n",
    "        print('\\n')\n",
    "        print(col + ': ' + str(len(valores_unicos)) + ' valores únicos')"
   ]
  },
  {
   "cell_type": "code",
   "execution_count": 7,
   "id": "95389591-f609-4f19-a446-e3dab62bb63b",
   "metadata": {},
   "outputs": [
    {
     "name": "stdout",
     "output_type": "stream",
     "text": [
      "\n",
      "Coluna race tem 2273 valores com o caracter \"?\"\n",
      "Isso representa 2.23 %\n",
      "\n",
      "Coluna weight tem 98569 valores com o caracter \"?\"\n",
      "Isso representa 96.86 %\n",
      "\n",
      "Coluna payer_code tem 40256 valores com o caracter \"?\"\n",
      "Isso representa 39.56 %\n",
      "\n",
      "Coluna medical_specialty tem 49949 valores com o caracter \"?\"\n",
      "Isso representa 49.08 %\n",
      "\n",
      "Coluna diag_1 tem 21 valores com o caracter \"?\"\n",
      "Isso representa 0.02 %\n",
      "\n",
      "Coluna diag_2 tem 358 valores com o caracter \"?\"\n",
      "Isso representa 0.35 %\n",
      "\n",
      "Coluna diag_3 tem 1423 valores com o caracter \"?\"\n",
      "Isso representa 1.4 %\n"
     ]
    }
   ],
   "source": [
    "# Vamos verificar a quantidade e percentual de registros on o valor é igual '?'\n",
    "for col in df_dsa.columns:\n",
    "    if df_dsa[col].dtype == object:\n",
    "        if df_dsa[col][df_dsa[col] == '?'].count() > 0:\n",
    "            print('\\nColuna', col, 'tem', df_dsa[col][df_dsa[col] == '?'].count(), 'valores com o caracter \"?\"')\n",
    "            print('Isso representa', round(df_dsa[col][df_dsa[col] == '?'].count() / len(df_dsa.index) * 100, 2), '%')"
   ]
  },
  {
   "cell_type": "code",
   "execution_count": 8,
   "id": "0a3e92a8-bdc5-4c4a-b00d-b2b3126d403d",
   "metadata": {},
   "outputs": [
    {
     "name": "stdout",
     "output_type": "stream",
     "text": [
      "\n",
      "Coluna gender tem 3 valores com 'Unknown'\n",
      "Isso representa 0.0\n"
     ]
    }
   ],
   "source": [
    "# A coluna gender também apresenta um valor que precisamos tratar\n",
    "print('\\nColuna gender tem', df_dsa['gender'][df_dsa['gender'] == 'Unknown/Invalid'].count(), \"valores com 'Unknown'\")\n",
    "print('Isso representa', round(df_dsa['gender'][df_dsa['gender'] == 'Unknown/Invalid'].count() / len(df_dsa.index) * 100, 2))"
   ]
  },
  {
   "cell_type": "markdown",
   "id": "7464a605-568d-4c63-8d83-dbef3a1d8289",
   "metadata": {},
   "source": [
    "#### Agora a parte importante - decidir o que fazer!\n",
    "* Há valores ausentes sobre peso do paciente em mais de 96% dos registros.\n",
    "* O código do pagador e a especialidade médica também apresentam valores ausentes de 40 a 50%.\n",
    "* As demais variáveis apresentam um baixo percentual de valores ausentes.\n",
    "  \n",
    " O que fazer ?"
   ]
  },
  {
   "cell_type": "markdown",
   "id": "ced35b7f-321b-4761-b9b0-a6174ef2ecff",
   "metadata": {},
   "source": [
    "#### Alternativas:\n",
    "* Colocar a variável peso como categóricas com dois labels: disponível / não disponível (1 e 0).\n",
    "* Criar um código genérico para a variável payer_code como 99 e preencher os valores ausentes.\n",
    "* Criar um tipo genérico para a avariável medical speacility como \"Sem Especialidade Definida\" e preencher os valores ausentes.\n",
    "* Para a variável gender, o ideal é removê-los, já que são apenas 3 registros."
   ]
  },
  {
   "cell_type": "markdown",
   "id": "1542a308-18b5-4e1f-a3ae-589d870861ae",
   "metadata": {},
   "source": [
    "#### Decisão:\n",
    "* 1 - Devido à fraca interpretabilidade dos valores ausentes da variável peso, é melhor simplesmente ignorar a variável e removê-la.\n",
    "* 2 - Vamos descartar as variáveis payer_code e medical_speciality, pois seria difícil tratar quantidade muito grande de valores ausentes.\n",
    "* 3 - Vamos remover os registros com \"?\" das demais variáveis.\n",
    "* 4 - Para a variável gender vamos remover os 3 registros com caregoria \"Unknown/Invalid\"."
   ]
  },
  {
   "cell_type": "code",
   "execution_count": 9,
   "id": "e6546b7c-01e4-416a-b0a0-2105709fa08e",
   "metadata": {},
   "outputs": [],
   "source": [
    "df_dsa = df_dsa.drop(['weight', 'payer_code', 'medical_specialty'], axis = 1)"
   ]
  },
  {
   "cell_type": "markdown",
   "id": "24dd880a-55eb-4b50-9935-68535c7e9439",
   "metadata": {},
   "source": [
    "Para as demais variáveis com baixo percentual de valores ausentes, removemos os registros."
   ]
  },
  {
   "cell_type": "code",
   "execution_count": 10,
   "id": "88442237-d637-4e6e-af9e-a6f66daef756",
   "metadata": {},
   "outputs": [],
   "source": [
    "#Removemos os registros com baixo percentual de valores ausentes\n",
    "df_dsa = df_dsa[df_dsa['race'] != '?']\n",
    "df_dsa = df_dsa[df_dsa['diag_1'] != '?']\n",
    "df_dsa = df_dsa[df_dsa['diag_2'] != '?']\n",
    "df_dsa = df_dsa[df_dsa['diag_3'] != '?']\n",
    "df_dsa = df_dsa[df_dsa['gender'] != 'Unknown/Invalid']"
   ]
  },
  {
   "cell_type": "code",
   "execution_count": 11,
   "id": "0b134af3-da44-477c-8a59-49f3f07871f7",
   "metadata": {},
   "outputs": [
    {
     "data": {
      "text/plain": [
       "encounter_id                False\n",
       "patient_nbr                 False\n",
       "race                        False\n",
       "gender                      False\n",
       "age                         False\n",
       "admission_type_id           False\n",
       "discharge_disposition_id    False\n",
       "admission_source_id         False\n",
       "time_in_hospital            False\n",
       "num_lab_procedures          False\n",
       "num_procedures              False\n",
       "num_medications             False\n",
       "number_outpatient           False\n",
       "number_emergency            False\n",
       "number_inpatient            False\n",
       "diag_1                      False\n",
       "diag_2                      False\n",
       "diag_3                      False\n",
       "number_diagnoses            False\n",
       "max_glu_serum               False\n",
       "A1Cresult                   False\n",
       "metformin                   False\n",
       "repaglinide                 False\n",
       "nateglinide                 False\n",
       "chlorpropamide              False\n",
       "glimepiride                 False\n",
       "acetohexamide               False\n",
       "glipizide                   False\n",
       "glyburide                   False\n",
       "tolbutamide                 False\n",
       "pioglitazone                False\n",
       "rosiglitazone               False\n",
       "acarbose                    False\n",
       "miglitol                    False\n",
       "troglitazone                False\n",
       "tolazamide                  False\n",
       "examide                     False\n",
       "citoglipton                 False\n",
       "insulin                     False\n",
       "glyburide-metformin         False\n",
       "glipizide-metformin         False\n",
       "glimepiride-pioglitazone    False\n",
       "metformin-rosiglitazone     False\n",
       "metformin-pioglitazone      False\n",
       "change                      False\n",
       "diabetesMed                 False\n",
       "readmitted                  False\n",
       "dtype: bool"
      ]
     },
     "execution_count": 11,
     "metadata": {},
     "output_type": "execute_result"
    }
   ],
   "source": [
    "df_dsa.isin(['?']).any()"
   ]
  },
  {
   "cell_type": "code",
   "execution_count": 12,
   "id": "e8c8e530-1129-4460-a158-1e361ff54fa3",
   "metadata": {},
   "outputs": [
    {
     "data": {
      "text/plain": [
       "(98052, 47)"
      ]
     },
     "execution_count": 12,
     "metadata": {},
     "output_type": "execute_result"
    }
   ],
   "source": [
    "df_dsa.shape"
   ]
  },
  {
   "cell_type": "code",
   "execution_count": 13,
   "id": "e304b17c-88ae-4768-b9ea-c4bb281a0eb6",
   "metadata": {},
   "outputs": [
    {
     "data": {
      "text/html": [
       "<div>\n",
       "<style scoped>\n",
       "    .dataframe tbody tr th:only-of-type {\n",
       "        vertical-align: middle;\n",
       "    }\n",
       "\n",
       "    .dataframe tbody tr th {\n",
       "        vertical-align: top;\n",
       "    }\n",
       "\n",
       "    .dataframe thead th {\n",
       "        text-align: right;\n",
       "    }\n",
       "</style>\n",
       "<table border=\"1\" class=\"dataframe\">\n",
       "  <thead>\n",
       "    <tr style=\"text-align: right;\">\n",
       "      <th></th>\n",
       "      <th>examide</th>\n",
       "      <th>citoglipton</th>\n",
       "      <th>metformin-rosiglitazone</th>\n",
       "    </tr>\n",
       "  </thead>\n",
       "  <tbody>\n",
       "    <tr>\n",
       "      <th>1</th>\n",
       "      <td>No</td>\n",
       "      <td>No</td>\n",
       "      <td>No</td>\n",
       "    </tr>\n",
       "    <tr>\n",
       "      <th>2</th>\n",
       "      <td>No</td>\n",
       "      <td>No</td>\n",
       "      <td>No</td>\n",
       "    </tr>\n",
       "    <tr>\n",
       "      <th>3</th>\n",
       "      <td>No</td>\n",
       "      <td>No</td>\n",
       "      <td>No</td>\n",
       "    </tr>\n",
       "    <tr>\n",
       "      <th>4</th>\n",
       "      <td>No</td>\n",
       "      <td>No</td>\n",
       "      <td>No</td>\n",
       "    </tr>\n",
       "    <tr>\n",
       "      <th>5</th>\n",
       "      <td>No</td>\n",
       "      <td>No</td>\n",
       "      <td>No</td>\n",
       "    </tr>\n",
       "  </tbody>\n",
       "</table>\n",
       "</div>"
      ],
      "text/plain": [
       "  examide citoglipton metformin-rosiglitazone\n",
       "1      No          No                      No\n",
       "2      No          No                      No\n",
       "3      No          No                      No\n",
       "4      No          No                      No\n",
       "5      No          No                      No"
      ]
     },
     "execution_count": 13,
     "metadata": {},
     "output_type": "execute_result"
    }
   ],
   "source": [
    "# Checando por variáveis com um único valor (ou seja, constante)\n",
    "df_dsa.loc[:, df_dsa.nunique() == 1].head()"
   ]
  },
  {
   "cell_type": "markdown",
   "id": "7d90d4cb-d9c4-4393-a3b1-2c0f7f202701",
   "metadata": {},
   "source": [
    "> Vamos eliminar as colunas que têm apenas 1 valor único, pois elas não adicionam nada à nossa análise. Queremos analsiar variáveis e não constantes."
   ]
  },
  {
   "cell_type": "code",
   "execution_count": 14,
   "id": "556fa45d-4d2f-4020-ba2a-f5dc730731ad",
   "metadata": {},
   "outputs": [],
   "source": [
    "# Removendo variáveis com valores únicos\n",
    "df_dsa = df_dsa.loc[:, df_dsa.nunique() != 1]"
   ]
  },
  {
   "cell_type": "code",
   "execution_count": 15,
   "id": "e8b9e204-1f2a-418b-87a4-1b6050de313d",
   "metadata": {},
   "outputs": [
    {
     "data": {
      "text/plain": [
       "(98052, 44)"
      ]
     },
     "execution_count": 15,
     "metadata": {},
     "output_type": "execute_result"
    }
   ],
   "source": [
    "df_dsa.shape"
   ]
  },
  {
   "cell_type": "code",
   "execution_count": 16,
   "id": "d995d840-c3f9-4f1d-8aad-df19c97d6db7",
   "metadata": {},
   "outputs": [
    {
     "data": {
      "text/plain": [
       "max_glu_serum    94.688533\n",
       "A1Cresult        83.485294\n",
       "dtype: float64"
      ]
     },
     "execution_count": 16,
     "metadata": {},
     "output_type": "execute_result"
    }
   ],
   "source": [
    "valores_ausentes = (df_dsa.isnull().sum() / len(df_dsa)) * 100 \n",
    "valores_ausentes[valores_ausentes > 0]"
   ]
  },
  {
   "cell_type": "code",
   "execution_count": 17,
   "id": "4ce8cc7a-e6d7-4659-b286-2a97fa57d975",
   "metadata": {},
   "outputs": [],
   "source": [
    "df_dsa = df_dsa.drop(['max_glu_serum', 'A1Cresult'], axis = 1)"
   ]
  },
  {
   "cell_type": "markdown",
   "id": "21caedef-3073-423c-8608-6f031eed1985",
   "metadata": {},
   "source": [
    "# Engenharia de Atributos"
   ]
  },
  {
   "cell_type": "markdown",
   "id": "5c83793c-0a2d-49a2-9115-88337336d023",
   "metadata": {},
   "source": [
    "## Ajustando a Variável Alvo para Estratificação de Risco\n",
    "Uma readmissão hospitalar ocorre quando um paciente que recebe alta do hospital é readmitido novamente dentro de um certo período de tempo. As taxas de readmissão hospitalar para certas condições aogra são consideradas um indicador da qualidade do hospital e também afetam negativamente o custo médico.\n",
    "\n",
    "Nossa variável alvo é 'readmiited', Queremos saber se um paciente será readmitido no hospital ou não.\n",
    "\n",
    "A variável possui os valores:\n",
    "-- < 30 (readmissão em menos de 30 dias)\n",
    "-- > 30 (readmissão em mais de 30 dias)\n",
    "-- No (sem readmissão)\n",
    "\n",
    "Nós podemos combinar a redmissão antes de 30 dias e após 30 dias em uma categoria (valor 1 - classe positiva) e nenhuma readmissão em outra categoria (valor 0 - classe negativa) para tornar nosso problema classificação binária."
   ]
  },
  {
   "cell_type": "code",
   "execution_count": 18,
   "id": "e307fe8e-5b17-477f-a485-78cb5845836a",
   "metadata": {},
   "outputs": [
    {
     "data": {
      "text/plain": [
       "readmitted\n",
       "NO     52337\n",
       ">30    34649\n",
       "<30    11066\n",
       "Name: count, dtype: int64"
      ]
     },
     "execution_count": 18,
     "metadata": {},
     "output_type": "execute_result"
    }
   ],
   "source": [
    "df_dsa['readmitted'].value_counts()"
   ]
  },
  {
   "cell_type": "code",
   "execution_count": 19,
   "id": "d109f70d-7f11-4e46-96de-48a4d2adb1e1",
   "metadata": {},
   "outputs": [],
   "source": [
    "#Primeiro, vamos criar uma cópia do dataset até aqui\n",
    "dados_clean1 = df_dsa.copy()\n",
    "\n",
    "#Se precisar voltar a este ponto, apenas execute:\n",
    "#df_dsa = dados_clean1\n",
    "\n",
    "#Assim não terá que executar todo jupyter notebook até aqui :-)"
   ]
  },
  {
   "cell_type": "code",
   "execution_count": 20,
   "id": "2dccc0f1-96cb-46b2-8d2f-f3ae83950dff",
   "metadata": {},
   "outputs": [],
   "source": [
    "# Ajustando a variável alvo\n",
    "# '0' significa que não foi readmitido\n",
    "# '1' significa que foi readmitido, não importa quantos dias após a alta\n",
    "\n",
    "df_dsa['readmitted'] = df_dsa['readmitted'].replace('>30', 1)\n",
    "df_dsa['readmitted'] = df_dsa['readmitted'].replace('<30', 1)\n",
    "df_dsa['readmitted'] = df_dsa['readmitted'].replace('NO', 0)"
   ]
  },
  {
   "cell_type": "code",
   "execution_count": 21,
   "id": "73017337-80c9-4d7a-ad4f-f742db0454ec",
   "metadata": {},
   "outputs": [
    {
     "data": {
      "text/plain": [
       "readmitted\n",
       "0    53.38\n",
       "1    46.62\n",
       "Name: count, dtype: float64"
      ]
     },
     "execution_count": 21,
     "metadata": {},
     "output_type": "execute_result"
    }
   ],
   "source": [
    "#Verificar a proporção de cada classe\n",
    "round(df_dsa.readmitted.value_counts() / len(df_dsa) * 100,2)"
   ]
  },
  {
   "cell_type": "code",
   "execution_count": 22,
   "id": "53b9ac6c-edb7-4ab8-b6ae-919ca4c49e7d",
   "metadata": {},
   "outputs": [
    {
     "data": {
      "image/png": "[encoded data removed]",
      "text/plain": [
       "<Figure size 640x480 with 1 Axes>"
      ]
     },
     "metadata": {},
     "output_type": "display_data"
    }
   ],
   "source": [
    "# Vamos visualizar de forma gráfica\n",
    "\n",
    "# Percentual de cada valor da variável alvo\n",
    "percentual = round(df_dsa.readmitted.value_counts() / len(df_dsa.index) * 100, 0)\n",
    "\n",
    "#Labels\n",
    "labels = ['Não readmitido', 'Readmitido']\n",
    "\n",
    "#Plot\n",
    "plt.axis(\"equal\")\n",
    "plt.pie(percentual,\n",
    "        labels = labels,\n",
    "        radius = 1.6,\n",
    "        autopct = '%1.2f%%',\n",
    "        explode = [0.05,0.05],\n",
    "        startangle = 90,\n",
    "        shadow = True,\n",
    "        counterclock = False,\n",
    "        pctdistance = 0.6)\n",
    "plt.show()"
   ]
  },
  {
   "cell_type": "markdown",
   "id": "c0c05532-6d05-4b09-8b58-0b387ef760c7",
   "metadata": {},
   "source": [
    "## Recategorização de Variável\n",
    "Como tratamos a variável idade?"
   ]
  },
  {
   "cell_type": "code",
   "execution_count": 23,
   "id": "50fe5a87-860d-414d-a64e-b652df6697ed",
   "metadata": {},
   "outputs": [
    {
     "data": {
      "text/plain": [
       "dtype('O')"
      ]
     },
     "execution_count": 23,
     "metadata": {},
     "output_type": "execute_result"
    }
   ],
   "source": [
    "# Tipo de variável\n",
    "df_dsa.age.dtype"
   ]
  },
  {
   "cell_type": "code",
   "execution_count": 24,
   "id": "f27e924b-855a-4103-bb31-65227d6f1014",
   "metadata": {
    "scrolled": true
   },
   "outputs": [
    {
     "data": {
      "text/plain": [
       "age\n",
       "[0-10)         65\n",
       "[10-20)       466\n",
       "[20-30)      1478\n",
       "[30-40)      3548\n",
       "[40-50)      9265\n",
       "[50-60)     16697\n",
       "[60-70)     21809\n",
       "[70-80)     25305\n",
       "[80-90)     16702\n",
       "[90-100)     2717\n",
       "dtype: int64"
      ]
     },
     "execution_count": 24,
     "metadata": {},
     "output_type": "execute_result"
    }
   ],
   "source": [
    "df_dsa.groupby('age').size()"
   ]
  },
  {
   "cell_type": "code",
   "execution_count": 25,
   "id": "88256865-0ba0-42ce-ad6c-bd4a8bc87653",
   "metadata": {},
   "outputs": [
    {
     "data": {
      "image/png": "[encoded data removed]",
      "text/plain": [
       "<Figure size 640x480 with 1 Axes>"
      ]
     },
     "metadata": {},
     "output_type": "display_data"
    }
   ],
   "source": [
    "#Plot\n",
    "#Agrupando os dados por idade e plotando o gráfico de barras\n",
    "df_dsa.groupby('age').size().plot(kind = 'bar', color = 'green')\n",
    "\n",
    "plt.ylabel('Contagem')\n",
    "\n",
    "plt.xticks(rotation = 45)\n",
    "\n",
    "plt.show()"
   ]
  },
  {
   "cell_type": "markdown",
   "id": "74462430-7eeb-488d-a89d-d98c2a865c74",
   "metadata": {},
   "source": [
    "Podemos perceber que a mioria dos pacientes está na faixa entre 50 e 90 anos.\n",
    "\n",
    "Existem diferentes maneiras de lidar com essa variável. O conjunto de dados nos dá a idade apenas como categorias nas faixas de 10 anos, portanto, não sabemos a idade exata de cada paciente.\n",
    "\n",
    "Podemos adotar duas abordagens:\n",
    "\n",
    "1 - Se queremos ver o efeito do aumento da idade na readmissão do paciente, mesmo que de maneira grosseira, podemos assumir que a idade do paciente, em média, esteja no ponto médio da categoria de idade. Por exemplo, se a mtegoria de idade do paciente é de 20 a 30 anos, assumimos a idade = 25 anos. Então, convertemos categorias de idade em pontos médios, resultando em uma variável numérica.\n",
    "\n",
    "2 - Podemos recategorizar a variável, distribuindo os pacientes por um número menor de faixas e manter a variável como categórica. Nesse caso, poderíamos avaliar o risco por faixa etária e não por idade.\n",
    "\n",
    "\n",
    "Adotaremos a opção 2 pois altera menos a informação contida nos dados."
   ]
  },
  {
   "cell_type": "code",
   "execution_count": 26,
   "id": "182e2dfc-e1e4-4e12-8c18-4639369fb7e0",
   "metadata": {},
   "outputs": [],
   "source": [
    "#Recategorizamos 'idade' para que a população seja distribuída de maneira mais uniforme\n",
    "\n",
    "#Classificamos como faixa de 0-50 pacientes de até 50 anos\n",
    "df_dsa['age'] = pd.Series(['[0-50]' if val in ['[0-10)', '[10-20)', '[20-30)', '[30-40)', '[40-50)'] else val\n",
    "                           for val in df_dsa['age']], index = df_dsa.index)\n",
    "#Acima de 80 anos ficam na faixa de 80-100\n",
    "df_dsa['age'] = pd.Series(['[80-100]' if val in ['[80-90)', '[90-100)'] else val\n",
    "                           for val in df_dsa['age']], index = df_dsa.index)"
   ]
  },
  {
   "cell_type": "code",
   "execution_count": 27,
   "id": "4fef6d82-bead-4862-8042-cf5a8345ce21",
   "metadata": {},
   "outputs": [
    {
     "data": {
      "text/plain": [
       "dtype('O')"
      ]
     },
     "execution_count": 27,
     "metadata": {},
     "output_type": "execute_result"
    }
   ],
   "source": [
    "df_dsa.age.dtype"
   ]
  },
  {
   "cell_type": "code",
   "execution_count": 28,
   "id": "4f277c25-50de-4ca9-bde9-e11c6fc70c2f",
   "metadata": {},
   "outputs": [
    {
     "data": {
      "image/png": "[encoded data removed]",
      "text/plain": [
       "<Figure size 640x480 with 1 Axes>"
      ]
     },
     "metadata": {},
     "output_type": "display_data"
    }
   ],
   "source": [
    "#Plot\n",
    "#Agrupando os dados por idade e plotando o gráfico de barras\n",
    "df_dsa.groupby('age').size().plot(kind = 'bar', color = 'green')\n",
    "\n",
    "plt.ylabel('Contagem')\n",
    "\n",
    "plt.xticks(rotation = 45)\n",
    "\n",
    "plt.show()"
   ]
  },
  {
   "cell_type": "markdown",
   "id": "e16f9ec7-f146-4118-b564-9303834e5707",
   "metadata": {},
   "source": [
    "Como tratamentos variáveis do tipo ID? \n",
    "\n",
    "Seguiremos com a Recategorização de Variável.\n",
    "As variáveis 'admission_type_id', 'charge_disposition_id' e 'admission_source_id' têm valores com significado semelhante. Eles podem ser mesclados para ter menores valores."
   ]
  },
  {
   "cell_type": "markdown",
   "id": "944847b0-b2da-4d62-bc27-3979e05b2230",
   "metadata": {},
   "source": [
    "#### Variável \"admission_type_id\""
   ]
  },
  {
   "cell_type": "code",
   "execution_count": 29,
   "id": "61a11409-7041-4484-b275-781851888cbb",
   "metadata": {},
   "outputs": [
    {
     "data": {
      "text/plain": [
       "array([1, 2, 3, 6, 4, 5, 8, 7], dtype=int64)"
      ]
     },
     "execution_count": 29,
     "metadata": {},
     "output_type": "execute_result"
    }
   ],
   "source": [
    "#Mostra valores únicos\n",
    "df_dsa.admission_type_id.unique()"
   ]
  },
  {
   "cell_type": "code",
   "execution_count": 30,
   "id": "f0f98deb-5d5a-4633-9efb-2b2387343cea",
   "metadata": {},
   "outputs": [
    {
     "data": {
      "text/plain": [
       "8"
      ]
     },
     "execution_count": 30,
     "metadata": {},
     "output_type": "execute_result"
    }
   ],
   "source": [
    "#Mostra o número de valores únicos\n",
    "df_dsa.admission_type_id.nunique()"
   ]
  },
  {
   "cell_type": "code",
   "execution_count": 31,
   "id": "e6ef27a3-23c7-4c4b-b2f4-5abf17fd729a",
   "metadata": {},
   "outputs": [],
   "source": [
    "#A variável 'admission_type_id' contém 8 níveis\n",
    "#Reduziremos os níveis de 'admission_type_id' para duas categorias\n",
    "df_dsa['admission_type_id'] = pd.Series(['Emergencia' if val == 1 else 'Outro'\n",
    "                                         for val in df_dsa['admission_type_id']], index = df_dsa.index)"
   ]
  },
  {
   "cell_type": "code",
   "execution_count": 32,
   "id": "694544e8-362c-46e7-92f2-e2041d9594eb",
   "metadata": {},
   "outputs": [
    {
     "data": {
      "text/plain": [
       "2"
      ]
     },
     "execution_count": 32,
     "metadata": {},
     "output_type": "execute_result"
    }
   ],
   "source": [
    "df_dsa.admission_type_id.nunique()"
   ]
  },
  {
   "cell_type": "code",
   "execution_count": 33,
   "id": "e3e5ed17-ce64-4b51-9309-7932cad5ac2e",
   "metadata": {},
   "outputs": [
    {
     "data": {
      "text/plain": [
       "admission_type_id\n",
       "Emergencia    52178\n",
       "Outro         45874\n",
       "Name: count, dtype: int64"
      ]
     },
     "execution_count": 33,
     "metadata": {},
     "output_type": "execute_result"
    }
   ],
   "source": [
    "df_dsa.admission_type_id.value_counts()"
   ]
  },
  {
   "cell_type": "markdown",
   "id": "cebca131-e35c-443e-a828-f63e163eedd8",
   "metadata": {},
   "source": [
    "#### Variável \"discharge_disposition_id\""
   ]
  },
  {
   "cell_type": "code",
   "execution_count": 34,
   "id": "0563ee69-21ad-41bb-92bb-66e88b95a636",
   "metadata": {},
   "outputs": [
    {
     "data": {
      "text/plain": [
       "array([ 1,  3,  6,  2,  5, 11,  7, 25, 10,  4, 14, 18,  8, 13, 12, 16, 17,\n",
       "       22, 23,  9, 20, 15, 24, 28, 19, 27], dtype=int64)"
      ]
     },
     "execution_count": 34,
     "metadata": {},
     "output_type": "execute_result"
    }
   ],
   "source": [
    "df_dsa.discharge_disposition_id.unique()"
   ]
  },
  {
   "cell_type": "code",
   "execution_count": 35,
   "id": "de7d3123-8afb-4ca2-8413-8dfbf2fb3165",
   "metadata": {},
   "outputs": [
    {
     "data": {
      "text/plain": [
       "26"
      ]
     },
     "execution_count": 35,
     "metadata": {},
     "output_type": "execute_result"
    }
   ],
   "source": [
    "df_dsa.discharge_disposition_id.nunique()"
   ]
  },
  {
   "cell_type": "code",
   "execution_count": 36,
   "id": "bc39c2b1-1ed3-45bb-a70d-d1f16b8e905d",
   "metadata": {},
   "outputs": [],
   "source": [
    "#A varável \"discharge_dispostion_id' contém 26 níveis\n",
    "#Reduziremos os níveis de \"discharge_dispostion_id\" para duas categorias\n",
    "df_dsa['discharge_disposition_id'] = pd.Series(['Casa' if val == 1 else 'Outro'\n",
    "                                                for val in df_dsa['discharge_disposition_id']], index = df_dsa.index)"
   ]
  },
  {
   "cell_type": "code",
   "execution_count": 37,
   "id": "6f64f084-6a3a-46d8-9089-2947a2c06174",
   "metadata": {},
   "outputs": [
    {
     "data": {
      "text/plain": [
       "2"
      ]
     },
     "execution_count": 37,
     "metadata": {},
     "output_type": "execute_result"
    }
   ],
   "source": [
    "df_dsa.discharge_disposition_id.nunique()\n"
   ]
  },
  {
   "cell_type": "code",
   "execution_count": 38,
   "id": "f8151676-36d7-4991-b71d-264e2155f0aa",
   "metadata": {},
   "outputs": [
    {
     "data": {
      "text/plain": [
       "discharge_disposition_id\n",
       "Casa     57609\n",
       "Outro    40443\n",
       "Name: count, dtype: int64"
      ]
     },
     "execution_count": 38,
     "metadata": {},
     "output_type": "execute_result"
    }
   ],
   "source": [
    "df_dsa.discharge_disposition_id.value_counts()\n"
   ]
  },
  {
   "cell_type": "markdown",
   "id": "c4ad4ce5-7bb8-40c4-b37a-f6fddec095c7",
   "metadata": {},
   "source": [
    "#### Variável admission_source_id"
   ]
  },
  {
   "cell_type": "code",
   "execution_count": 39,
   "id": "074edef9-36fb-40d5-b467-2649eabc220e",
   "metadata": {},
   "outputs": [
    {
     "data": {
      "text/plain": [
       "array([ 7,  2,  4,  1,  5,  6, 20,  3, 17,  8,  9, 14, 10, 22, 11, 25, 13],\n",
       "      dtype=int64)"
      ]
     },
     "execution_count": 39,
     "metadata": {},
     "output_type": "execute_result"
    }
   ],
   "source": [
    "df_dsa.admission_source_id.unique()"
   ]
  },
  {
   "cell_type": "code",
   "execution_count": 40,
   "id": "d9699550-e0e4-4b0d-ba8a-316ca782cf34",
   "metadata": {},
   "outputs": [
    {
     "data": {
      "text/plain": [
       "17"
      ]
     },
     "execution_count": 40,
     "metadata": {},
     "output_type": "execute_result"
    }
   ],
   "source": [
    "df_dsa.admission_source_id.nunique()\n"
   ]
  },
  {
   "cell_type": "code",
   "execution_count": 41,
   "id": "e0e5c4a3-5382-4cd2-9886-ed8187a59d7d",
   "metadata": {},
   "outputs": [
    {
     "data": {
      "text/plain": [
       "admission_source_id\n",
       "7     55951\n",
       "1     28355\n",
       "17     6602\n",
       "4      2945\n",
       "6      1893\n",
       "2      1031\n",
       "5       846\n",
       "3       179\n",
       "20      160\n",
       "9        49\n",
       "8        15\n",
       "22       12\n",
       "10        7\n",
       "14        2\n",
       "11        2\n",
       "25        2\n",
       "13        1\n",
       "Name: count, dtype: int64"
      ]
     },
     "execution_count": 41,
     "metadata": {},
     "output_type": "execute_result"
    }
   ],
   "source": [
    "df_dsa.admission_source_id.value_counts()"
   ]
  },
  {
   "cell_type": "code",
   "execution_count": 42,
   "id": "0078c74b-62a1-4750-903e-f65c7352c9f9",
   "metadata": {},
   "outputs": [],
   "source": [
    "#A variável 'admission_source_id' contém 17 níveis\n",
    "# Reduziremos os níveis de 'admission_source_id' para três gategorias\n",
    "df_dsa['admission_source_id'] = pd.Series(['Sala_Emergencia' if val == 7 else 'Recomendacao' if val == 1 else 'Outro'\n",
    "                                  for val in df_dsa['admission_source_id']], index = df_dsa.index)"
   ]
  },
  {
   "cell_type": "code",
   "execution_count": 43,
   "id": "7f7d3698-3961-4ef0-8d78-2d4cb54acac9",
   "metadata": {},
   "outputs": [
    {
     "data": {
      "text/plain": [
       "admission_source_id\n",
       "Sala_Emergencia    57.062579\n",
       "Recomendacao       28.918329\n",
       "Outro              14.019092\n",
       "Name: count, dtype: float64"
      ]
     },
     "execution_count": 43,
     "metadata": {},
     "output_type": "execute_result"
    }
   ],
   "source": [
    "df_dsa['admission_source_id'].value_counts()/ len(df_dsa) * 100"
   ]
  },
  {
   "cell_type": "markdown",
   "id": "f43badab-f54b-4b51-b6e8-43c499e33e86",
   "metadata": {},
   "source": [
    "## Engenharia de Atributos com Base no Conhecimento de Domínio\n",
    "Como tratamos as variáveis 'diag_1', 'diag_2' e 'diag_3' que representam o diagnóstico médico ?"
   ]
  },
  {
   "cell_type": "code",
   "execution_count": 44,
   "id": "b3c78944-2d20-4bb6-9de2-c66c0ae3b4fb",
   "metadata": {},
   "outputs": [
    {
     "data": {
      "text/html": [
       "<div>\n",
       "<style scoped>\n",
       "    .dataframe tbody tr th:only-of-type {\n",
       "        vertical-align: middle;\n",
       "    }\n",
       "\n",
       "    .dataframe tbody tr th {\n",
       "        vertical-align: top;\n",
       "    }\n",
       "\n",
       "    .dataframe thead th {\n",
       "        text-align: right;\n",
       "    }\n",
       "</style>\n",
       "<table border=\"1\" class=\"dataframe\">\n",
       "  <thead>\n",
       "    <tr style=\"text-align: right;\">\n",
       "      <th></th>\n",
       "      <th>diag_1</th>\n",
       "      <th>diag_2</th>\n",
       "      <th>diag_3</th>\n",
       "    </tr>\n",
       "  </thead>\n",
       "  <tbody>\n",
       "    <tr>\n",
       "      <th>1</th>\n",
       "      <td>276</td>\n",
       "      <td>250.01</td>\n",
       "      <td>255</td>\n",
       "    </tr>\n",
       "    <tr>\n",
       "      <th>2</th>\n",
       "      <td>648</td>\n",
       "      <td>250</td>\n",
       "      <td>V27</td>\n",
       "    </tr>\n",
       "    <tr>\n",
       "      <th>3</th>\n",
       "      <td>8</td>\n",
       "      <td>250.43</td>\n",
       "      <td>403</td>\n",
       "    </tr>\n",
       "    <tr>\n",
       "      <th>4</th>\n",
       "      <td>197</td>\n",
       "      <td>157</td>\n",
       "      <td>250</td>\n",
       "    </tr>\n",
       "    <tr>\n",
       "      <th>5</th>\n",
       "      <td>414</td>\n",
       "      <td>411</td>\n",
       "      <td>250</td>\n",
       "    </tr>\n",
       "  </tbody>\n",
       "</table>\n",
       "</div>"
      ],
      "text/plain": [
       "  diag_1  diag_2 diag_3\n",
       "1    276  250.01    255\n",
       "2    648     250    V27\n",
       "3      8  250.43    403\n",
       "4    197     157    250\n",
       "5    414     411    250"
      ]
     },
     "execution_count": 44,
     "metadata": {},
     "output_type": "execute_result"
    }
   ],
   "source": [
    "#Visualiza os dados\n",
    "df_dsa[['diag_1', 'diag_2', 'diag_3']].head()"
   ]
  },
  {
   "cell_type": "markdown",
   "id": "a32402fd-eb7e-4a48-ba37-44f3fa304e19",
   "metadata": {},
   "source": [
    "O conjunto de dados contém até três dianósticos para um determinado paciente (primário, secundário e adicional).\n",
    "\n",
    "\n",
    "No entanto, cada um deles tem códigos ICD-9 exclusivos e é extremamente difícil incluí-los no modelo e interpretar de forma significativa.\n",
    "\n",
    "\n",
    "Portanto, reduziremos esses códigos de diagnósticos para 4 categorias considerando a comorbidade.\n"
   ]
  },
  {
   "cell_type": "code",
   "execution_count": 45,
   "id": "6e2cc079-6220-4e00-aa5a-fe7953d3016c",
   "metadata": {},
   "outputs": [],
   "source": [
    "#Concatena 3 variáveis em um dataframe\n",
    "diagnostico = df_dsa[['diag_1', 'diag_2', 'diag_3']]"
   ]
  },
  {
   "cell_type": "code",
   "execution_count": 46,
   "id": "879b2cfa-f46b-4ad4-9a09-d7365f611089",
   "metadata": {},
   "outputs": [
    {
     "data": {
      "text/html": [
       "<div>\n",
       "<style scoped>\n",
       "    .dataframe tbody tr th:only-of-type {\n",
       "        vertical-align: middle;\n",
       "    }\n",
       "\n",
       "    .dataframe tbody tr th {\n",
       "        vertical-align: top;\n",
       "    }\n",
       "\n",
       "    .dataframe thead th {\n",
       "        text-align: right;\n",
       "    }\n",
       "</style>\n",
       "<table border=\"1\" class=\"dataframe\">\n",
       "  <thead>\n",
       "    <tr style=\"text-align: right;\">\n",
       "      <th></th>\n",
       "      <th>diag_1</th>\n",
       "      <th>diag_2</th>\n",
       "      <th>diag_3</th>\n",
       "    </tr>\n",
       "  </thead>\n",
       "  <tbody>\n",
       "    <tr>\n",
       "      <th>1</th>\n",
       "      <td>276</td>\n",
       "      <td>250.01</td>\n",
       "      <td>255</td>\n",
       "    </tr>\n",
       "    <tr>\n",
       "      <th>2</th>\n",
       "      <td>648</td>\n",
       "      <td>250</td>\n",
       "      <td>V27</td>\n",
       "    </tr>\n",
       "    <tr>\n",
       "      <th>3</th>\n",
       "      <td>8</td>\n",
       "      <td>250.43</td>\n",
       "      <td>403</td>\n",
       "    </tr>\n",
       "    <tr>\n",
       "      <th>4</th>\n",
       "      <td>197</td>\n",
       "      <td>157</td>\n",
       "      <td>250</td>\n",
       "    </tr>\n",
       "    <tr>\n",
       "      <th>5</th>\n",
       "      <td>414</td>\n",
       "      <td>411</td>\n",
       "      <td>250</td>\n",
       "    </tr>\n",
       "    <tr>\n",
       "      <th>6</th>\n",
       "      <td>414</td>\n",
       "      <td>411</td>\n",
       "      <td>V45</td>\n",
       "    </tr>\n",
       "    <tr>\n",
       "      <th>7</th>\n",
       "      <td>428</td>\n",
       "      <td>492</td>\n",
       "      <td>250</td>\n",
       "    </tr>\n",
       "    <tr>\n",
       "      <th>8</th>\n",
       "      <td>398</td>\n",
       "      <td>427</td>\n",
       "      <td>38</td>\n",
       "    </tr>\n",
       "    <tr>\n",
       "      <th>9</th>\n",
       "      <td>434</td>\n",
       "      <td>198</td>\n",
       "      <td>486</td>\n",
       "    </tr>\n",
       "    <tr>\n",
       "      <th>10</th>\n",
       "      <td>250.7</td>\n",
       "      <td>403</td>\n",
       "      <td>996</td>\n",
       "    </tr>\n",
       "  </tbody>\n",
       "</table>\n",
       "</div>"
      ],
      "text/plain": [
       "   diag_1  diag_2 diag_3\n",
       "1     276  250.01    255\n",
       "2     648     250    V27\n",
       "3       8  250.43    403\n",
       "4     197     157    250\n",
       "5     414     411    250\n",
       "6     414     411    V45\n",
       "7     428     492    250\n",
       "8     398     427     38\n",
       "9     434     198    486\n",
       "10  250.7     403    996"
      ]
     },
     "execution_count": 46,
     "metadata": {},
     "output_type": "execute_result"
    }
   ],
   "source": [
    "#Visualiza os dados\n",
    "diagnostico.head(10)"
   ]
  },
  {
   "cell_type": "code",
   "execution_count": 47,
   "id": "2fbc1d6d-63ed-407c-843f-f6423ec8e52b",
   "metadata": {},
   "outputs": [
    {
     "data": {
      "text/plain": [
       "diag_1    False\n",
       "diag_2    False\n",
       "diag_3    False\n",
       "dtype: bool"
      ]
     },
     "execution_count": 47,
     "metadata": {},
     "output_type": "execute_result"
    }
   ],
   "source": [
    "#Verifica se há valores ausentes\n",
    "diagnostico.isnull().any()"
   ]
  },
  {
   "cell_type": "markdown",
   "id": "e6feccd2-bf2f-4b98-8f0b-d3e0899cfa05",
   "metadata": {},
   "source": [
    "### Calculando a Comorbidade com Engenharia de Atributos"
   ]
  },
  {
   "cell_type": "code",
   "execution_count": 48,
   "id": "38d6cae5-aabb-4833-9b88-df990e9fa49d",
   "metadata": {},
   "outputs": [],
   "source": [
    "# Função que calcula a Comorbidade\n",
    "def calcula_comorbidade(row):\n",
    "    \n",
    "    # Código 250 indica diabetes\n",
    "    codigos_doenca_diabetes = \"^[2][5][0]\"\n",
    "    \n",
    "    # Códigos 39x (x = valor entre 0 e 9)\n",
    "    # Códigos 4zx (z = valor entre 0 e 6 e x = valor entre 0 e 9)\n",
    "    # Esses códigos indicam problemas circulatórios\n",
    "    codigos_doenca_circulatorios = \"^[3][9][0-9]|^[4][0-6][0-9]\"\n",
    "    \n",
    "    # Inicializa variável de retorno\n",
    "    valor = 0\n",
    "    \n",
    "    # Valor 0 indica que:\n",
    "    # Diabetes e problemas circulatórios não foram detectados de forma simultânea no paciente\n",
    "    if(not(bool(re.match(codigos_doenca_diabetes, str(np.array(row['diag_1']))))) and\n",
    "       not(bool(re.match(codigos_doenca_diabetes, str(np.array(row['diag_2']))))) and \n",
    "       not(bool(re.match(codigos_doenca_diabetes, str(np.array(row['diag_3'])))))) and (not(\n",
    "        bool(re.match(codigos_doenca_circulatorios, str(np.array(row['diag_1']))))) and not(\n",
    "        bool(re.match(codigos_doenca_circulatorios, str(np.array(row['diag_2']))))) and not(\n",
    "        bool(re.match(codigos_doenca_circulatorios, str(np.array(row['diag_3'])))))):\n",
    "        valor = 0\n",
    "        \n",
    "    # Valor 1 indica que:\n",
    "    # Pelo menos um diagnóstico de diabetes e problemas circulatórios foram detectados de forma \n",
    "    # simultânea no paciente\n",
    "    if(bool(re.match(codigos_doenca_diabetes, str(np.array(row['diag_1'])))) or \n",
    "       bool(re.match(codigos_doenca_diabetes, str(np.array(row['diag_2'])))) or \n",
    "       bool(re.match(codigos_doenca_diabetes, str(np.array(row['diag_3']))))) and (not(\n",
    "        bool(re.match(codigos_doenca_circulatorios, str(np.array(row['diag_1']))))) and not(\n",
    "        bool(re.match(codigos_doenca_circulatorios, str(np.array(row['diag_2']))))) and not(\n",
    "        bool(re.match(codigos_doenca_circulatorios, str(np.array(row['diag_3'])))))): \n",
    "        valor = 1\n",
    "        \n",
    "    # Valor 2 indica que:\n",
    "    # Diabetes e pelo menos um diagnóstico de problemas circulatórios foram detectados de forma \n",
    "    # simultânea no paciente\n",
    "    if(not(bool(re.match(codigos_doenca_diabetes, str(np.array(row['diag_1']))))) and\n",
    "       not(bool(re.match(codigos_doenca_diabetes, str(np.array(row['diag_2']))))) and \n",
    "       not(bool(re.match(codigos_doenca_diabetes, str(np.array(row['diag_3'])))))) and (\n",
    "        bool(re.match(codigos_doenca_circulatorios, str(np.array(row['diag_1'])))) or \n",
    "        bool(re.match(codigos_doenca_circulatorios, str(np.array(row['diag_2'])))) or \n",
    "        bool(re.match(codigos_doenca_circulatorios, str(np.array(row['diag_3']))))):\n",
    "        valor = 2\n",
    "        \n",
    "    # Valor 3 indica que:\n",
    "    # Pelo menos um diagnóstico de diabetes e pelo menos um diagnóstico de problemas circulatórios \n",
    "    # foram detectados de forma simultânea no paciente\n",
    "    if(bool(re.match(codigos_doenca_diabetes, str(np.array(row['diag_1'])))) or \n",
    "       bool(re.match(codigos_doenca_diabetes, str(np.array(row['diag_2'])))) or \n",
    "       bool(re.match(codigos_doenca_diabetes, str(np.array(row['diag_3']))))) and (\n",
    "        bool(re.match(codigos_doenca_circulatorios, str(np.array(row['diag_1'])))) or \n",
    "        bool(re.match(codigos_doenca_circulatorios, str(np.array(row['diag_2'])))) or \n",
    "        bool(re.match(codigos_doenca_circulatorios, str(np.array(row['diag_3']))))):\n",
    "        valor = 3 \n",
    "    \n",
    "    return valor"
   ]
  },
  {
   "cell_type": "code",
   "execution_count": 49,
   "id": "2cf6b793-aed4-4dc9-ab59-492e4762b87d",
   "metadata": {},
   "outputs": [
    {
     "name": "stdout",
     "output_type": "stream",
     "text": [
      "CPU times: total: 16.2 s\n",
      "Wall time: 16.4 s\n"
     ]
    }
   ],
   "source": [
    "%%time\n",
    "df_dsa['comorbidade'] = diagnostico.apply(calcula_comorbidade, axis = 1)"
   ]
  },
  {
   "cell_type": "code",
   "execution_count": 50,
   "id": "f7ffcdb9-1e5f-4ad3-a9ee-997d4a22622a",
   "metadata": {},
   "outputs": [
    {
     "data": {
      "text/html": [
       "<div>\n",
       "<style scoped>\n",
       "    .dataframe tbody tr th:only-of-type {\n",
       "        vertical-align: middle;\n",
       "    }\n",
       "\n",
       "    .dataframe tbody tr th {\n",
       "        vertical-align: top;\n",
       "    }\n",
       "\n",
       "    .dataframe thead th {\n",
       "        text-align: right;\n",
       "    }\n",
       "</style>\n",
       "<table border=\"1\" class=\"dataframe\">\n",
       "  <thead>\n",
       "    <tr style=\"text-align: right;\">\n",
       "      <th></th>\n",
       "      <th>encounter_id</th>\n",
       "      <th>patient_nbr</th>\n",
       "      <th>race</th>\n",
       "      <th>gender</th>\n",
       "      <th>age</th>\n",
       "      <th>admission_type_id</th>\n",
       "      <th>discharge_disposition_id</th>\n",
       "      <th>admission_source_id</th>\n",
       "      <th>time_in_hospital</th>\n",
       "      <th>num_lab_procedures</th>\n",
       "      <th>...</th>\n",
       "      <th>tolazamide</th>\n",
       "      <th>insulin</th>\n",
       "      <th>glyburide-metformin</th>\n",
       "      <th>glipizide-metformin</th>\n",
       "      <th>glimepiride-pioglitazone</th>\n",
       "      <th>metformin-pioglitazone</th>\n",
       "      <th>change</th>\n",
       "      <th>diabetesMed</th>\n",
       "      <th>readmitted</th>\n",
       "      <th>comorbidade</th>\n",
       "    </tr>\n",
       "  </thead>\n",
       "  <tbody>\n",
       "    <tr>\n",
       "      <th>1</th>\n",
       "      <td>149190</td>\n",
       "      <td>55629189</td>\n",
       "      <td>Caucasian</td>\n",
       "      <td>Female</td>\n",
       "      <td>[0-50]</td>\n",
       "      <td>Emergencia</td>\n",
       "      <td>Casa</td>\n",
       "      <td>Sala_Emergencia</td>\n",
       "      <td>3</td>\n",
       "      <td>59</td>\n",
       "      <td>...</td>\n",
       "      <td>No</td>\n",
       "      <td>Up</td>\n",
       "      <td>No</td>\n",
       "      <td>No</td>\n",
       "      <td>No</td>\n",
       "      <td>No</td>\n",
       "      <td>Ch</td>\n",
       "      <td>Yes</td>\n",
       "      <td>1</td>\n",
       "      <td>1</td>\n",
       "    </tr>\n",
       "    <tr>\n",
       "      <th>2</th>\n",
       "      <td>64410</td>\n",
       "      <td>86047875</td>\n",
       "      <td>AfricanAmerican</td>\n",
       "      <td>Female</td>\n",
       "      <td>[0-50]</td>\n",
       "      <td>Emergencia</td>\n",
       "      <td>Casa</td>\n",
       "      <td>Sala_Emergencia</td>\n",
       "      <td>2</td>\n",
       "      <td>11</td>\n",
       "      <td>...</td>\n",
       "      <td>No</td>\n",
       "      <td>No</td>\n",
       "      <td>No</td>\n",
       "      <td>No</td>\n",
       "      <td>No</td>\n",
       "      <td>No</td>\n",
       "      <td>No</td>\n",
       "      <td>Yes</td>\n",
       "      <td>0</td>\n",
       "      <td>1</td>\n",
       "    </tr>\n",
       "    <tr>\n",
       "      <th>3</th>\n",
       "      <td>500364</td>\n",
       "      <td>82442376</td>\n",
       "      <td>Caucasian</td>\n",
       "      <td>Male</td>\n",
       "      <td>[0-50]</td>\n",
       "      <td>Emergencia</td>\n",
       "      <td>Casa</td>\n",
       "      <td>Sala_Emergencia</td>\n",
       "      <td>2</td>\n",
       "      <td>44</td>\n",
       "      <td>...</td>\n",
       "      <td>No</td>\n",
       "      <td>Up</td>\n",
       "      <td>No</td>\n",
       "      <td>No</td>\n",
       "      <td>No</td>\n",
       "      <td>No</td>\n",
       "      <td>Ch</td>\n",
       "      <td>Yes</td>\n",
       "      <td>0</td>\n",
       "      <td>3</td>\n",
       "    </tr>\n",
       "    <tr>\n",
       "      <th>4</th>\n",
       "      <td>16680</td>\n",
       "      <td>42519267</td>\n",
       "      <td>Caucasian</td>\n",
       "      <td>Male</td>\n",
       "      <td>[0-50]</td>\n",
       "      <td>Emergencia</td>\n",
       "      <td>Casa</td>\n",
       "      <td>Sala_Emergencia</td>\n",
       "      <td>1</td>\n",
       "      <td>51</td>\n",
       "      <td>...</td>\n",
       "      <td>No</td>\n",
       "      <td>Steady</td>\n",
       "      <td>No</td>\n",
       "      <td>No</td>\n",
       "      <td>No</td>\n",
       "      <td>No</td>\n",
       "      <td>Ch</td>\n",
       "      <td>Yes</td>\n",
       "      <td>0</td>\n",
       "      <td>1</td>\n",
       "    </tr>\n",
       "    <tr>\n",
       "      <th>5</th>\n",
       "      <td>35754</td>\n",
       "      <td>82637451</td>\n",
       "      <td>Caucasian</td>\n",
       "      <td>Male</td>\n",
       "      <td>[50-60)</td>\n",
       "      <td>Outro</td>\n",
       "      <td>Casa</td>\n",
       "      <td>Outro</td>\n",
       "      <td>3</td>\n",
       "      <td>31</td>\n",
       "      <td>...</td>\n",
       "      <td>No</td>\n",
       "      <td>Steady</td>\n",
       "      <td>No</td>\n",
       "      <td>No</td>\n",
       "      <td>No</td>\n",
       "      <td>No</td>\n",
       "      <td>No</td>\n",
       "      <td>Yes</td>\n",
       "      <td>1</td>\n",
       "      <td>3</td>\n",
       "    </tr>\n",
       "  </tbody>\n",
       "</table>\n",
       "<p>5 rows × 43 columns</p>\n",
       "</div>"
      ],
      "text/plain": [
       "   encounter_id  patient_nbr             race  gender      age  \\\n",
       "1        149190     55629189        Caucasian  Female   [0-50]   \n",
       "2         64410     86047875  AfricanAmerican  Female   [0-50]   \n",
       "3        500364     82442376        Caucasian    Male   [0-50]   \n",
       "4         16680     42519267        Caucasian    Male   [0-50]   \n",
       "5         35754     82637451        Caucasian    Male  [50-60)   \n",
       "\n",
       "  admission_type_id discharge_disposition_id admission_source_id  \\\n",
       "1        Emergencia                     Casa     Sala_Emergencia   \n",
       "2        Emergencia                     Casa     Sala_Emergencia   \n",
       "3        Emergencia                     Casa     Sala_Emergencia   \n",
       "4        Emergencia                     Casa     Sala_Emergencia   \n",
       "5             Outro                     Casa               Outro   \n",
       "\n",
       "   time_in_hospital  num_lab_procedures  ...  tolazamide  insulin  \\\n",
       "1                 3                  59  ...          No       Up   \n",
       "2                 2                  11  ...          No       No   \n",
       "3                 2                  44  ...          No       Up   \n",
       "4                 1                  51  ...          No   Steady   \n",
       "5                 3                  31  ...          No   Steady   \n",
       "\n",
       "   glyburide-metformin  glipizide-metformin  glimepiride-pioglitazone  \\\n",
       "1                   No                   No                        No   \n",
       "2                   No                   No                        No   \n",
       "3                   No                   No                        No   \n",
       "4                   No                   No                        No   \n",
       "5                   No                   No                        No   \n",
       "\n",
       "  metformin-pioglitazone change diabetesMed  readmitted comorbidade  \n",
       "1                     No     Ch         Yes           1           1  \n",
       "2                     No     No         Yes           0           1  \n",
       "3                     No     Ch         Yes           0           3  \n",
       "4                     No     Ch         Yes           0           1  \n",
       "5                     No     No         Yes           1           3  \n",
       "\n",
       "[5 rows x 43 columns]"
      ]
     },
     "execution_count": 50,
     "metadata": {},
     "output_type": "execute_result"
    }
   ],
   "source": [
    "#Visualiza os dados\n",
    "df_dsa.head()"
   ]
  },
  {
   "cell_type": "code",
   "execution_count": 51,
   "id": "4ddbaaa7-391f-4f56-a690-8fbed388e2cd",
   "metadata": {},
   "outputs": [],
   "source": [
    "#Drop das variáveis individuais\n",
    "df_dsa.drop(['diag_1', 'diag_2', 'diag_3'], axis = 1, inplace = True)"
   ]
  },
  {
   "cell_type": "code",
   "execution_count": 52,
   "id": "069fb7a2-f758-469b-acd2-97f99dbd2ddd",
   "metadata": {},
   "outputs": [],
   "source": [
    "# Calcula o percentual de comorbidade por tipo e por classe da variável alvo\n",
    "percent_com = pd.crosstab(df_dsa.comorbidade, df_dsa.readmitted, normalize = 'index') * 100"
   ]
  },
  {
   "cell_type": "code",
   "execution_count": 53,
   "id": "2df95e70-3f64-4329-820e-a128d70db135",
   "metadata": {},
   "outputs": [
    {
     "data": {
      "image/png": "[encoded data removed]",
      "text/plain": [
       "<Figure size 1600x800 with 1 Axes>"
      ]
     },
     "metadata": {},
     "output_type": "display_data"
    }
   ],
   "source": [
    "#Plot\n",
    "\n",
    "#Prepara a figura a partir dos dados\n",
    "fig = percent_com.plot(kind = 'bar',\n",
    "                       figsize = (16,8),\n",
    "                       width = 0.5,\n",
    "                       edgecolor = 'g',\n",
    "                       color = ['b', 'r'])\n",
    "# Desenha cada grupo\n",
    "for i in fig.patches:\n",
    "    fig.text(i.get_x() + 0.00,\n",
    "             i.get_height() + 0.3,\n",
    "             str(round((i.get_height()), 2)),\n",
    "    fontsize = 15,\n",
    "    color = 'black',\n",
    "    rotation = 0)\n",
    "\n",
    "#Título e Print\n",
    "plt.title('Comorbidade vs Readmissões', fontsize = 15)\n",
    "plt.show()\n"
   ]
  },
  {
   "cell_type": "code",
   "execution_count": 54,
   "id": "63260529-1c09-4617-9310-2720addaee80",
   "metadata": {},
   "outputs": [
    {
     "data": {
      "image/png": "[encoded data removed]",
      "text/plain": [
       "<Figure size 1600x800 with 1 Axes>"
      ]
     },
     "metadata": {},
     "output_type": "display_data"
    }
   ],
   "source": [
    "fig = percent_com.plot(kind = 'bar',\n",
    "                       figsize = (16,8),\n",
    "                       width = 0.5,\n",
    "                       edgecolor = 'g',\n",
    "                       color = ['b', 'r'])"
   ]
  },
  {
   "cell_type": "code",
   "execution_count": 55,
   "id": "562207f0-b333-4b67-a20e-cb038cc74903",
   "metadata": {},
   "outputs": [
    {
     "data": {
      "text/plain": [
       "<Axes.ArtistList of 8 patches>"
      ]
     },
     "execution_count": 55,
     "metadata": {},
     "output_type": "execute_result"
    }
   ],
   "source": [
    "fig.patches"
   ]
  },
  {
   "cell_type": "code",
   "execution_count": 56,
   "id": "4fba3dff-9d86-49e8-86de-abb1a428eabd",
   "metadata": {},
   "outputs": [
    {
     "name": "stdout",
     "output_type": "stream",
     "text": [
      "<Axes.ArtistList of 8 patches>\n"
     ]
    }
   ],
   "source": [
    "print(fig.patches)"
   ]
  },
  {
   "cell_type": "code",
   "execution_count": 57,
   "id": "bd48f33a-602a-480d-99f9-5b7e7d560694",
   "metadata": {},
   "outputs": [
    {
     "name": "stdout",
     "output_type": "stream",
     "text": [
      "Rectangle(xy=(-0.25, 0), width=0.25, height=55.5094, angle=0)\n",
      "Text(-0.25, 55.80940193845191, '55.51')\n",
      "-0.25\n",
      "55.80940193845191\n",
      "55.51\n",
      "Rectangle(xy=(0.75, 0), width=0.25, height=53.8312, angle=0)\n",
      "Text(-0.25, 55.80940193845191, '55.51')\n",
      "0.75\n",
      "54.13118327402135\n",
      "53.83\n",
      "Rectangle(xy=(1.75, 0), width=0.25, height=51.7823, angle=0)\n",
      "Text(-0.25, 55.80940193845191, '55.51')\n",
      "1.75\n",
      "52.082349837968195\n",
      "51.78\n",
      "Rectangle(xy=(2.75, 0), width=0.25, height=53.7992, angle=0)\n",
      "Text(-0.25, 55.80940193845191, '55.51')\n",
      "2.75\n",
      "54.099239033124434\n",
      "53.8\n",
      "Rectangle(xy=(0, 0), width=0.25, height=44.4906, angle=0)\n",
      "Text(-0.25, 55.80940193845191, '55.51')\n",
      "0.0\n",
      "44.79059806154808\n",
      "44.49\n",
      "Rectangle(xy=(1, 0), width=0.25, height=46.1688, angle=0)\n",
      "Text(-0.25, 55.80940193845191, '55.51')\n",
      "1.0\n",
      "46.46881672597864\n",
      "46.17\n",
      "Rectangle(xy=(2, 0), width=0.25, height=48.2177, angle=0)\n",
      "Text(-0.25, 55.80940193845191, '55.51')\n",
      "2.0\n",
      "48.5176501620318\n",
      "48.22\n",
      "Rectangle(xy=(3, 0), width=0.25, height=46.2008, angle=0)\n",
      "Text(-0.25, 55.80940193845191, '55.51')\n",
      "3.0\n",
      "46.50076096687555\n",
      "46.2\n"
     ]
    }
   ],
   "source": [
    "#Debugando o códigop\n",
    "for i in fig.patches:\n",
    "    print(i)\n",
    "    print(fig.text(-0.25,55.80940193845191, 55.51, fontsize = 20, color = 'black', rotation = 0))\n",
    "    print(i.get_x()+ 0.00)\n",
    "    print(i.get_height() + 0.3)\n",
    "    print(round(i.get_height(),2))"
   ]
  },
  {
   "cell_type": "markdown",
   "id": "a71a420e-3b72-40bf-a74f-7f7e8fc0b86d",
   "metadata": {},
   "source": [
    "## Engenharia de Atributos = Recoding de Variáveis Categóricas\n",
    "\n",
    "\n",
    "##### Variáveis de Dosagem de Medicamento e Agrupamentos de Variáveis\n",
    "\n",
    "\n",
    "Verificando nosso conjunto de dados até aqui:"
   ]
  },
  {
   "cell_type": "code",
   "execution_count": 58,
   "id": "072cd0f7-9377-48f9-b406-c6ca7b7c8369",
   "metadata": {},
   "outputs": [
    {
     "data": {
      "text/html": [
       "<div>\n",
       "<style scoped>\n",
       "    .dataframe tbody tr th:only-of-type {\n",
       "        vertical-align: middle;\n",
       "    }\n",
       "\n",
       "    .dataframe tbody tr th {\n",
       "        vertical-align: top;\n",
       "    }\n",
       "\n",
       "    .dataframe thead th {\n",
       "        text-align: right;\n",
       "    }\n",
       "</style>\n",
       "<table border=\"1\" class=\"dataframe\">\n",
       "  <thead>\n",
       "    <tr style=\"text-align: right;\">\n",
       "      <th></th>\n",
       "      <th>encounter_id</th>\n",
       "      <th>patient_nbr</th>\n",
       "      <th>race</th>\n",
       "      <th>gender</th>\n",
       "      <th>age</th>\n",
       "      <th>admission_type_id</th>\n",
       "      <th>discharge_disposition_id</th>\n",
       "      <th>admission_source_id</th>\n",
       "      <th>time_in_hospital</th>\n",
       "      <th>num_lab_procedures</th>\n",
       "      <th>...</th>\n",
       "      <th>tolazamide</th>\n",
       "      <th>insulin</th>\n",
       "      <th>glyburide-metformin</th>\n",
       "      <th>glipizide-metformin</th>\n",
       "      <th>glimepiride-pioglitazone</th>\n",
       "      <th>metformin-pioglitazone</th>\n",
       "      <th>change</th>\n",
       "      <th>diabetesMed</th>\n",
       "      <th>readmitted</th>\n",
       "      <th>comorbidade</th>\n",
       "    </tr>\n",
       "  </thead>\n",
       "  <tbody>\n",
       "    <tr>\n",
       "      <th>1</th>\n",
       "      <td>149190</td>\n",
       "      <td>55629189</td>\n",
       "      <td>Caucasian</td>\n",
       "      <td>Female</td>\n",
       "      <td>[0-50]</td>\n",
       "      <td>Emergencia</td>\n",
       "      <td>Casa</td>\n",
       "      <td>Sala_Emergencia</td>\n",
       "      <td>3</td>\n",
       "      <td>59</td>\n",
       "      <td>...</td>\n",
       "      <td>No</td>\n",
       "      <td>Up</td>\n",
       "      <td>No</td>\n",
       "      <td>No</td>\n",
       "      <td>No</td>\n",
       "      <td>No</td>\n",
       "      <td>Ch</td>\n",
       "      <td>Yes</td>\n",
       "      <td>1</td>\n",
       "      <td>1</td>\n",
       "    </tr>\n",
       "    <tr>\n",
       "      <th>2</th>\n",
       "      <td>64410</td>\n",
       "      <td>86047875</td>\n",
       "      <td>AfricanAmerican</td>\n",
       "      <td>Female</td>\n",
       "      <td>[0-50]</td>\n",
       "      <td>Emergencia</td>\n",
       "      <td>Casa</td>\n",
       "      <td>Sala_Emergencia</td>\n",
       "      <td>2</td>\n",
       "      <td>11</td>\n",
       "      <td>...</td>\n",
       "      <td>No</td>\n",
       "      <td>No</td>\n",
       "      <td>No</td>\n",
       "      <td>No</td>\n",
       "      <td>No</td>\n",
       "      <td>No</td>\n",
       "      <td>No</td>\n",
       "      <td>Yes</td>\n",
       "      <td>0</td>\n",
       "      <td>1</td>\n",
       "    </tr>\n",
       "    <tr>\n",
       "      <th>3</th>\n",
       "      <td>500364</td>\n",
       "      <td>82442376</td>\n",
       "      <td>Caucasian</td>\n",
       "      <td>Male</td>\n",
       "      <td>[0-50]</td>\n",
       "      <td>Emergencia</td>\n",
       "      <td>Casa</td>\n",
       "      <td>Sala_Emergencia</td>\n",
       "      <td>2</td>\n",
       "      <td>44</td>\n",
       "      <td>...</td>\n",
       "      <td>No</td>\n",
       "      <td>Up</td>\n",
       "      <td>No</td>\n",
       "      <td>No</td>\n",
       "      <td>No</td>\n",
       "      <td>No</td>\n",
       "      <td>Ch</td>\n",
       "      <td>Yes</td>\n",
       "      <td>0</td>\n",
       "      <td>3</td>\n",
       "    </tr>\n",
       "    <tr>\n",
       "      <th>4</th>\n",
       "      <td>16680</td>\n",
       "      <td>42519267</td>\n",
       "      <td>Caucasian</td>\n",
       "      <td>Male</td>\n",
       "      <td>[0-50]</td>\n",
       "      <td>Emergencia</td>\n",
       "      <td>Casa</td>\n",
       "      <td>Sala_Emergencia</td>\n",
       "      <td>1</td>\n",
       "      <td>51</td>\n",
       "      <td>...</td>\n",
       "      <td>No</td>\n",
       "      <td>Steady</td>\n",
       "      <td>No</td>\n",
       "      <td>No</td>\n",
       "      <td>No</td>\n",
       "      <td>No</td>\n",
       "      <td>Ch</td>\n",
       "      <td>Yes</td>\n",
       "      <td>0</td>\n",
       "      <td>1</td>\n",
       "    </tr>\n",
       "    <tr>\n",
       "      <th>5</th>\n",
       "      <td>35754</td>\n",
       "      <td>82637451</td>\n",
       "      <td>Caucasian</td>\n",
       "      <td>Male</td>\n",
       "      <td>[50-60)</td>\n",
       "      <td>Outro</td>\n",
       "      <td>Casa</td>\n",
       "      <td>Outro</td>\n",
       "      <td>3</td>\n",
       "      <td>31</td>\n",
       "      <td>...</td>\n",
       "      <td>No</td>\n",
       "      <td>Steady</td>\n",
       "      <td>No</td>\n",
       "      <td>No</td>\n",
       "      <td>No</td>\n",
       "      <td>No</td>\n",
       "      <td>No</td>\n",
       "      <td>Yes</td>\n",
       "      <td>1</td>\n",
       "      <td>3</td>\n",
       "    </tr>\n",
       "  </tbody>\n",
       "</table>\n",
       "<p>5 rows × 40 columns</p>\n",
       "</div>"
      ],
      "text/plain": [
       "   encounter_id  patient_nbr             race  gender      age  \\\n",
       "1        149190     55629189        Caucasian  Female   [0-50]   \n",
       "2         64410     86047875  AfricanAmerican  Female   [0-50]   \n",
       "3        500364     82442376        Caucasian    Male   [0-50]   \n",
       "4         16680     42519267        Caucasian    Male   [0-50]   \n",
       "5         35754     82637451        Caucasian    Male  [50-60)   \n",
       "\n",
       "  admission_type_id discharge_disposition_id admission_source_id  \\\n",
       "1        Emergencia                     Casa     Sala_Emergencia   \n",
       "2        Emergencia                     Casa     Sala_Emergencia   \n",
       "3        Emergencia                     Casa     Sala_Emergencia   \n",
       "4        Emergencia                     Casa     Sala_Emergencia   \n",
       "5             Outro                     Casa               Outro   \n",
       "\n",
       "   time_in_hospital  num_lab_procedures  ...  tolazamide  insulin  \\\n",
       "1                 3                  59  ...          No       Up   \n",
       "2                 2                  11  ...          No       No   \n",
       "3                 2                  44  ...          No       Up   \n",
       "4                 1                  51  ...          No   Steady   \n",
       "5                 3                  31  ...          No   Steady   \n",
       "\n",
       "   glyburide-metformin  glipizide-metformin  glimepiride-pioglitazone  \\\n",
       "1                   No                   No                        No   \n",
       "2                   No                   No                        No   \n",
       "3                   No                   No                        No   \n",
       "4                   No                   No                        No   \n",
       "5                   No                   No                        No   \n",
       "\n",
       "   metformin-pioglitazone change diabetesMed readmitted comorbidade  \n",
       "1                      No     Ch         Yes          1           1  \n",
       "2                      No     No         Yes          0           1  \n",
       "3                      No     Ch         Yes          0           3  \n",
       "4                      No     Ch         Yes          0           1  \n",
       "5                      No     No         Yes          1           3  \n",
       "\n",
       "[5 rows x 40 columns]"
      ]
     },
     "execution_count": 58,
     "metadata": {},
     "output_type": "execute_result"
    }
   ],
   "source": [
    "df_dsa.head()"
   ]
  },
  {
   "cell_type": "code",
   "execution_count": 59,
   "id": "cdbdb2c8-eb05-4a0c-a3ad-88de4aca26ef",
   "metadata": {},
   "outputs": [
    {
     "data": {
      "text/plain": [
       "Index(['encounter_id', 'patient_nbr', 'race', 'gender', 'age',\n",
       "       'admission_type_id', 'discharge_disposition_id', 'admission_source_id',\n",
       "       'time_in_hospital', 'num_lab_procedures', 'num_procedures',\n",
       "       'num_medications', 'number_outpatient', 'number_emergency',\n",
       "       'number_inpatient', 'number_diagnoses', 'metformin', 'repaglinide',\n",
       "       'nateglinide', 'chlorpropamide', 'glimepiride', 'acetohexamide',\n",
       "       'glipizide', 'glyburide', 'tolbutamide', 'pioglitazone',\n",
       "       'rosiglitazone', 'acarbose', 'miglitol', 'troglitazone', 'tolazamide',\n",
       "       'insulin', 'glyburide-metformin', 'glipizide-metformin',\n",
       "       'glimepiride-pioglitazone', 'metformin-pioglitazone', 'change',\n",
       "       'diabetesMed', 'readmitted', 'comorbidade'],\n",
       "      dtype='object')"
      ]
     },
     "execution_count": 59,
     "metadata": {},
     "output_type": "execute_result"
    }
   ],
   "source": [
    "df_dsa.columns"
   ]
  },
  {
   "cell_type": "markdown",
   "id": "56cb91a7-e08d-4502-b773-819c8d07a1b0",
   "metadata": {},
   "source": [
    "O conjunto de dados contém 23 recursos para 23 medicamentos que indicam, para cada um deles, se uma alteração no medicamente foi feita ou não durante a atual internção do paciente.\n",
    "\n",
    "Vamos plotar algumas variáveis que indicam uso de medicamento."
   ]
  },
  {
   "cell_type": "code",
   "execution_count": 60,
   "id": "7541cd1b-2ffe-40b2-ad5f-c26069b83c39",
   "metadata": {},
   "outputs": [
    {
     "data": {
      "image/png": "[encoded data removed]",
      "text/plain": [
       "<Figure size 2000x1500 with 4 Axes>"
      ]
     },
     "metadata": {},
     "output_type": "display_data"
    }
   ],
   "source": [
    "# Plot\n",
    "fig = plt.figure(figsize = (20,15))\n",
    "\n",
    "ax1 = fig.add_subplot(221)\n",
    "ax1 = df_dsa.groupby('miglitol').size().plot(kind = 'bar', color = 'green')\n",
    "plt.xlabel('miglitol', fontsize = 15)\n",
    "plt.ylabel('Cout', fontsize = 15)\n",
    "\n",
    "\n",
    "ax2 = fig.add_subplot(222)\n",
    "ax2 = df_dsa.groupby('nateglinide').size().plot(kind = 'bar', color = 'magenta')\n",
    "plt.xlabel('nateglinide', fontsize = 15)\n",
    "plt.ylabel('Count', fontsize = 15)\n",
    "\n",
    "ax3 = fig.add_subplot(223)\n",
    "ax3 = df_dsa.groupby('acarbose').size().plot(kind = 'bar', color = 'black')\n",
    "plt.xlabel('acarbose', fontsize = 15)\n",
    "plt.ylabel('Count', fontsize = 15)\n",
    "\n",
    "ax4 = fig.add_subplot(224)\n",
    "ax4 = df_dsa.groupby('insulin').size().plot(kind = 'bar', color = 'cyan')\n",
    "plt.xlabel('insulin', fontsize = 15)\n",
    "plt.ylabel('Count', fontsize = 15)\n",
    "plt.show()\n"
   ]
  },
  {
   "cell_type": "code",
   "execution_count": 61,
   "id": "e9ccf5d8-0e9f-4b27-a1e1-917cfdcf2b4b",
   "metadata": {},
   "outputs": [
    {
     "data": {
      "text/plain": [
       "miglitol\n",
       "Down          4\n",
       "No        98015\n",
       "Steady       31\n",
       "Up            2\n",
       "dtype: int64"
      ]
     },
     "execution_count": 61,
     "metadata": {},
     "output_type": "execute_result"
    }
   ],
   "source": [
    "df_dsa.groupby('miglitol').size()"
   ]
  },
  {
   "cell_type": "markdown",
   "id": "9f3d3c8f-239c-4960-b7eb-02cf66be1823",
   "metadata": {},
   "source": [
    "Podemos contar quantas alterações do medicamento foram feitas no total para cada paciente e criamos um novo atributo. Isso pod eajudar a descobrir uma relação com o número de alterações, independentemente de qual medicamente foi alterado.\n",
    "\n",
    "Além disso, podemos criar um novo atributo indicand oo total de medicamentos que cada pacietne consumiu durante a internação. E então avaliamos se há relação do total com a readmissão.\n"
   ]
  },
  {
   "cell_type": "code",
   "execution_count": 62,
   "id": "558d784b-ad11-4a83-95bb-b538e01c89d1",
   "metadata": {},
   "outputs": [],
   "source": [
    "# Lista com os nomes das variáveis de medicamentos (3 variáveis já tinham sido removidas)\n",
    "medicamentos = ['metformin', 'repaglinide', 'nateglinide', 'chlorpropamide', 'glimepiride', 'acetohexamide', \n",
    "                'glipizide', 'glyburide', 'tolbutamide', 'pioglitazone', 'rosiglitazone', 'acarbose', 'miglitol', \n",
    "                'troglitazone', 'tolazamide', 'insulin', 'glyburide-metformin', 'glipizide-metformin', \n",
    "                'glimepiride-pioglitazone', 'metformin-pioglitazone']"
   ]
  },
  {
   "cell_type": "code",
   "execution_count": 63,
   "id": "4630410f-3164-4027-9089-60c2ab2ec0f4",
   "metadata": {},
   "outputs": [],
   "source": [
    "#Loop para ajustar o valor das variáveis\n",
    "for col in medicamentos:\n",
    "    if col in df_dsa.columns:\n",
    "        colname = str(col) + 'temp'\n",
    "        df_dsa[colname] = df_dsa[col].apply(lambda x: 0 if (x == 'No' or x == 'Steady') else 1)"
   ]
  },
  {
   "cell_type": "code",
   "execution_count": 64,
   "id": "085075d7-e1ce-49ae-a9e4-021754918123",
   "metadata": {},
   "outputs": [
    {
     "data": {
      "text/html": [
       "<div>\n",
       "<style scoped>\n",
       "    .dataframe tbody tr th:only-of-type {\n",
       "        vertical-align: middle;\n",
       "    }\n",
       "\n",
       "    .dataframe tbody tr th {\n",
       "        vertical-align: top;\n",
       "    }\n",
       "\n",
       "    .dataframe thead th {\n",
       "        text-align: right;\n",
       "    }\n",
       "</style>\n",
       "<table border=\"1\" class=\"dataframe\">\n",
       "  <thead>\n",
       "    <tr style=\"text-align: right;\">\n",
       "      <th></th>\n",
       "      <th>encounter_id</th>\n",
       "      <th>patient_nbr</th>\n",
       "      <th>race</th>\n",
       "      <th>gender</th>\n",
       "      <th>age</th>\n",
       "      <th>admission_type_id</th>\n",
       "      <th>discharge_disposition_id</th>\n",
       "      <th>admission_source_id</th>\n",
       "      <th>time_in_hospital</th>\n",
       "      <th>num_lab_procedures</th>\n",
       "      <th>...</th>\n",
       "      <th>rosiglitazonetemp</th>\n",
       "      <th>acarbosetemp</th>\n",
       "      <th>miglitoltemp</th>\n",
       "      <th>troglitazonetemp</th>\n",
       "      <th>tolazamidetemp</th>\n",
       "      <th>insulintemp</th>\n",
       "      <th>glyburide-metformintemp</th>\n",
       "      <th>glipizide-metformintemp</th>\n",
       "      <th>glimepiride-pioglitazonetemp</th>\n",
       "      <th>metformin-pioglitazonetemp</th>\n",
       "    </tr>\n",
       "  </thead>\n",
       "  <tbody>\n",
       "    <tr>\n",
       "      <th>1</th>\n",
       "      <td>149190</td>\n",
       "      <td>55629189</td>\n",
       "      <td>Caucasian</td>\n",
       "      <td>Female</td>\n",
       "      <td>[0-50]</td>\n",
       "      <td>Emergencia</td>\n",
       "      <td>Casa</td>\n",
       "      <td>Sala_Emergencia</td>\n",
       "      <td>3</td>\n",
       "      <td>59</td>\n",
       "      <td>...</td>\n",
       "      <td>0</td>\n",
       "      <td>0</td>\n",
       "      <td>0</td>\n",
       "      <td>0</td>\n",
       "      <td>0</td>\n",
       "      <td>1</td>\n",
       "      <td>0</td>\n",
       "      <td>0</td>\n",
       "      <td>0</td>\n",
       "      <td>0</td>\n",
       "    </tr>\n",
       "    <tr>\n",
       "      <th>2</th>\n",
       "      <td>64410</td>\n",
       "      <td>86047875</td>\n",
       "      <td>AfricanAmerican</td>\n",
       "      <td>Female</td>\n",
       "      <td>[0-50]</td>\n",
       "      <td>Emergencia</td>\n",
       "      <td>Casa</td>\n",
       "      <td>Sala_Emergencia</td>\n",
       "      <td>2</td>\n",
       "      <td>11</td>\n",
       "      <td>...</td>\n",
       "      <td>0</td>\n",
       "      <td>0</td>\n",
       "      <td>0</td>\n",
       "      <td>0</td>\n",
       "      <td>0</td>\n",
       "      <td>0</td>\n",
       "      <td>0</td>\n",
       "      <td>0</td>\n",
       "      <td>0</td>\n",
       "      <td>0</td>\n",
       "    </tr>\n",
       "    <tr>\n",
       "      <th>3</th>\n",
       "      <td>500364</td>\n",
       "      <td>82442376</td>\n",
       "      <td>Caucasian</td>\n",
       "      <td>Male</td>\n",
       "      <td>[0-50]</td>\n",
       "      <td>Emergencia</td>\n",
       "      <td>Casa</td>\n",
       "      <td>Sala_Emergencia</td>\n",
       "      <td>2</td>\n",
       "      <td>44</td>\n",
       "      <td>...</td>\n",
       "      <td>0</td>\n",
       "      <td>0</td>\n",
       "      <td>0</td>\n",
       "      <td>0</td>\n",
       "      <td>0</td>\n",
       "      <td>1</td>\n",
       "      <td>0</td>\n",
       "      <td>0</td>\n",
       "      <td>0</td>\n",
       "      <td>0</td>\n",
       "    </tr>\n",
       "    <tr>\n",
       "      <th>4</th>\n",
       "      <td>16680</td>\n",
       "      <td>42519267</td>\n",
       "      <td>Caucasian</td>\n",
       "      <td>Male</td>\n",
       "      <td>[0-50]</td>\n",
       "      <td>Emergencia</td>\n",
       "      <td>Casa</td>\n",
       "      <td>Sala_Emergencia</td>\n",
       "      <td>1</td>\n",
       "      <td>51</td>\n",
       "      <td>...</td>\n",
       "      <td>0</td>\n",
       "      <td>0</td>\n",
       "      <td>0</td>\n",
       "      <td>0</td>\n",
       "      <td>0</td>\n",
       "      <td>0</td>\n",
       "      <td>0</td>\n",
       "      <td>0</td>\n",
       "      <td>0</td>\n",
       "      <td>0</td>\n",
       "    </tr>\n",
       "    <tr>\n",
       "      <th>5</th>\n",
       "      <td>35754</td>\n",
       "      <td>82637451</td>\n",
       "      <td>Caucasian</td>\n",
       "      <td>Male</td>\n",
       "      <td>[50-60)</td>\n",
       "      <td>Outro</td>\n",
       "      <td>Casa</td>\n",
       "      <td>Outro</td>\n",
       "      <td>3</td>\n",
       "      <td>31</td>\n",
       "      <td>...</td>\n",
       "      <td>0</td>\n",
       "      <td>0</td>\n",
       "      <td>0</td>\n",
       "      <td>0</td>\n",
       "      <td>0</td>\n",
       "      <td>0</td>\n",
       "      <td>0</td>\n",
       "      <td>0</td>\n",
       "      <td>0</td>\n",
       "      <td>0</td>\n",
       "    </tr>\n",
       "  </tbody>\n",
       "</table>\n",
       "<p>5 rows × 60 columns</p>\n",
       "</div>"
      ],
      "text/plain": [
       "   encounter_id  patient_nbr             race  gender      age  \\\n",
       "1        149190     55629189        Caucasian  Female   [0-50]   \n",
       "2         64410     86047875  AfricanAmerican  Female   [0-50]   \n",
       "3        500364     82442376        Caucasian    Male   [0-50]   \n",
       "4         16680     42519267        Caucasian    Male   [0-50]   \n",
       "5         35754     82637451        Caucasian    Male  [50-60)   \n",
       "\n",
       "  admission_type_id discharge_disposition_id admission_source_id  \\\n",
       "1        Emergencia                     Casa     Sala_Emergencia   \n",
       "2        Emergencia                     Casa     Sala_Emergencia   \n",
       "3        Emergencia                     Casa     Sala_Emergencia   \n",
       "4        Emergencia                     Casa     Sala_Emergencia   \n",
       "5             Outro                     Casa               Outro   \n",
       "\n",
       "   time_in_hospital  num_lab_procedures  ...  rosiglitazonetemp  acarbosetemp  \\\n",
       "1                 3                  59  ...                  0             0   \n",
       "2                 2                  11  ...                  0             0   \n",
       "3                 2                  44  ...                  0             0   \n",
       "4                 1                  51  ...                  0             0   \n",
       "5                 3                  31  ...                  0             0   \n",
       "\n",
       "   miglitoltemp  troglitazonetemp  tolazamidetemp  insulintemp  \\\n",
       "1             0                 0               0            1   \n",
       "2             0                 0               0            0   \n",
       "3             0                 0               0            1   \n",
       "4             0                 0               0            0   \n",
       "5             0                 0               0            0   \n",
       "\n",
       "  glyburide-metformintemp glipizide-metformintemp  \\\n",
       "1                       0                       0   \n",
       "2                       0                       0   \n",
       "3                       0                       0   \n",
       "4                       0                       0   \n",
       "5                       0                       0   \n",
       "\n",
       "  glimepiride-pioglitazonetemp metformin-pioglitazonetemp  \n",
       "1                            0                          0  \n",
       "2                            0                          0  \n",
       "3                            0                          0  \n",
       "4                            0                          0  \n",
       "5                            0                          0  \n",
       "\n",
       "[5 rows x 60 columns]"
      ]
     },
     "execution_count": 64,
     "metadata": {},
     "output_type": "execute_result"
    }
   ],
   "source": [
    "df_dsa.head()"
   ]
  },
  {
   "cell_type": "code",
   "execution_count": 65,
   "id": "8de360cb-a101-4fb0-856e-2ae8725b771e",
   "metadata": {},
   "outputs": [],
   "source": [
    "#Cria uma variável para receber a contagem por paciente\n",
    "df_dsa['num_alt_dosagem_med'] = 0"
   ]
  },
  {
   "cell_type": "code",
   "execution_count": 66,
   "id": "acc84b01-4236-48ee-a828-4bdb7fbe2f7b",
   "metadata": {},
   "outputs": [],
   "source": [
    "# Contagem de modificações na dosagem de medicamentos\n",
    "for col in medicamentos:\n",
    "    if col in df_dsa.columns:\n",
    "        colname = str(col) + 'temp'\n",
    "        df_dsa['num_alt_dosagem_med'] = df_dsa['num_alt_dosagem_med'] + df_dsa[colname]\n",
    "        del df_dsa[colname]"
   ]
  },
  {
   "cell_type": "code",
   "execution_count": 67,
   "id": "0749ca05-385e-4572-9d0e-505a581583c3",
   "metadata": {},
   "outputs": [
    {
     "data": {
      "text/html": [
       "<div>\n",
       "<style scoped>\n",
       "    .dataframe tbody tr th:only-of-type {\n",
       "        vertical-align: middle;\n",
       "    }\n",
       "\n",
       "    .dataframe tbody tr th {\n",
       "        vertical-align: top;\n",
       "    }\n",
       "\n",
       "    .dataframe thead th {\n",
       "        text-align: right;\n",
       "    }\n",
       "</style>\n",
       "<table border=\"1\" class=\"dataframe\">\n",
       "  <thead>\n",
       "    <tr style=\"text-align: right;\">\n",
       "      <th></th>\n",
       "      <th>encounter_id</th>\n",
       "      <th>patient_nbr</th>\n",
       "      <th>race</th>\n",
       "      <th>gender</th>\n",
       "      <th>age</th>\n",
       "      <th>admission_type_id</th>\n",
       "      <th>discharge_disposition_id</th>\n",
       "      <th>admission_source_id</th>\n",
       "      <th>time_in_hospital</th>\n",
       "      <th>num_lab_procedures</th>\n",
       "      <th>...</th>\n",
       "      <th>insulin</th>\n",
       "      <th>glyburide-metformin</th>\n",
       "      <th>glipizide-metformin</th>\n",
       "      <th>glimepiride-pioglitazone</th>\n",
       "      <th>metformin-pioglitazone</th>\n",
       "      <th>change</th>\n",
       "      <th>diabetesMed</th>\n",
       "      <th>readmitted</th>\n",
       "      <th>comorbidade</th>\n",
       "      <th>num_alt_dosagem_med</th>\n",
       "    </tr>\n",
       "  </thead>\n",
       "  <tbody>\n",
       "    <tr>\n",
       "      <th>1</th>\n",
       "      <td>149190</td>\n",
       "      <td>55629189</td>\n",
       "      <td>Caucasian</td>\n",
       "      <td>Female</td>\n",
       "      <td>[0-50]</td>\n",
       "      <td>Emergencia</td>\n",
       "      <td>Casa</td>\n",
       "      <td>Sala_Emergencia</td>\n",
       "      <td>3</td>\n",
       "      <td>59</td>\n",
       "      <td>...</td>\n",
       "      <td>Up</td>\n",
       "      <td>No</td>\n",
       "      <td>No</td>\n",
       "      <td>No</td>\n",
       "      <td>No</td>\n",
       "      <td>Ch</td>\n",
       "      <td>Yes</td>\n",
       "      <td>1</td>\n",
       "      <td>1</td>\n",
       "      <td>1</td>\n",
       "    </tr>\n",
       "    <tr>\n",
       "      <th>2</th>\n",
       "      <td>64410</td>\n",
       "      <td>86047875</td>\n",
       "      <td>AfricanAmerican</td>\n",
       "      <td>Female</td>\n",
       "      <td>[0-50]</td>\n",
       "      <td>Emergencia</td>\n",
       "      <td>Casa</td>\n",
       "      <td>Sala_Emergencia</td>\n",
       "      <td>2</td>\n",
       "      <td>11</td>\n",
       "      <td>...</td>\n",
       "      <td>No</td>\n",
       "      <td>No</td>\n",
       "      <td>No</td>\n",
       "      <td>No</td>\n",
       "      <td>No</td>\n",
       "      <td>No</td>\n",
       "      <td>Yes</td>\n",
       "      <td>0</td>\n",
       "      <td>1</td>\n",
       "      <td>0</td>\n",
       "    </tr>\n",
       "    <tr>\n",
       "      <th>3</th>\n",
       "      <td>500364</td>\n",
       "      <td>82442376</td>\n",
       "      <td>Caucasian</td>\n",
       "      <td>Male</td>\n",
       "      <td>[0-50]</td>\n",
       "      <td>Emergencia</td>\n",
       "      <td>Casa</td>\n",
       "      <td>Sala_Emergencia</td>\n",
       "      <td>2</td>\n",
       "      <td>44</td>\n",
       "      <td>...</td>\n",
       "      <td>Up</td>\n",
       "      <td>No</td>\n",
       "      <td>No</td>\n",
       "      <td>No</td>\n",
       "      <td>No</td>\n",
       "      <td>Ch</td>\n",
       "      <td>Yes</td>\n",
       "      <td>0</td>\n",
       "      <td>3</td>\n",
       "      <td>1</td>\n",
       "    </tr>\n",
       "    <tr>\n",
       "      <th>4</th>\n",
       "      <td>16680</td>\n",
       "      <td>42519267</td>\n",
       "      <td>Caucasian</td>\n",
       "      <td>Male</td>\n",
       "      <td>[0-50]</td>\n",
       "      <td>Emergencia</td>\n",
       "      <td>Casa</td>\n",
       "      <td>Sala_Emergencia</td>\n",
       "      <td>1</td>\n",
       "      <td>51</td>\n",
       "      <td>...</td>\n",
       "      <td>Steady</td>\n",
       "      <td>No</td>\n",
       "      <td>No</td>\n",
       "      <td>No</td>\n",
       "      <td>No</td>\n",
       "      <td>Ch</td>\n",
       "      <td>Yes</td>\n",
       "      <td>0</td>\n",
       "      <td>1</td>\n",
       "      <td>0</td>\n",
       "    </tr>\n",
       "    <tr>\n",
       "      <th>5</th>\n",
       "      <td>35754</td>\n",
       "      <td>82637451</td>\n",
       "      <td>Caucasian</td>\n",
       "      <td>Male</td>\n",
       "      <td>[50-60)</td>\n",
       "      <td>Outro</td>\n",
       "      <td>Casa</td>\n",
       "      <td>Outro</td>\n",
       "      <td>3</td>\n",
       "      <td>31</td>\n",
       "      <td>...</td>\n",
       "      <td>Steady</td>\n",
       "      <td>No</td>\n",
       "      <td>No</td>\n",
       "      <td>No</td>\n",
       "      <td>No</td>\n",
       "      <td>No</td>\n",
       "      <td>Yes</td>\n",
       "      <td>1</td>\n",
       "      <td>3</td>\n",
       "      <td>0</td>\n",
       "    </tr>\n",
       "  </tbody>\n",
       "</table>\n",
       "<p>5 rows × 41 columns</p>\n",
       "</div>"
      ],
      "text/plain": [
       "   encounter_id  patient_nbr             race  gender      age  \\\n",
       "1        149190     55629189        Caucasian  Female   [0-50]   \n",
       "2         64410     86047875  AfricanAmerican  Female   [0-50]   \n",
       "3        500364     82442376        Caucasian    Male   [0-50]   \n",
       "4         16680     42519267        Caucasian    Male   [0-50]   \n",
       "5         35754     82637451        Caucasian    Male  [50-60)   \n",
       "\n",
       "  admission_type_id discharge_disposition_id admission_source_id  \\\n",
       "1        Emergencia                     Casa     Sala_Emergencia   \n",
       "2        Emergencia                     Casa     Sala_Emergencia   \n",
       "3        Emergencia                     Casa     Sala_Emergencia   \n",
       "4        Emergencia                     Casa     Sala_Emergencia   \n",
       "5             Outro                     Casa               Outro   \n",
       "\n",
       "   time_in_hospital  num_lab_procedures  ...  insulin  glyburide-metformin  \\\n",
       "1                 3                  59  ...       Up                   No   \n",
       "2                 2                  11  ...       No                   No   \n",
       "3                 2                  44  ...       Up                   No   \n",
       "4                 1                  51  ...   Steady                   No   \n",
       "5                 3                  31  ...   Steady                   No   \n",
       "\n",
       "   glipizide-metformin  glimepiride-pioglitazone  metformin-pioglitazone  \\\n",
       "1                   No                        No                      No   \n",
       "2                   No                        No                      No   \n",
       "3                   No                        No                      No   \n",
       "4                   No                        No                      No   \n",
       "5                   No                        No                      No   \n",
       "\n",
       "   change diabetesMed readmitted comorbidade num_alt_dosagem_med  \n",
       "1      Ch         Yes          1           1                   1  \n",
       "2      No         Yes          0           1                   0  \n",
       "3      Ch         Yes          0           3                   1  \n",
       "4      Ch         Yes          0           1                   0  \n",
       "5      No         Yes          1           3                   0  \n",
       "\n",
       "[5 rows x 41 columns]"
      ]
     },
     "execution_count": 67,
     "metadata": {},
     "output_type": "execute_result"
    }
   ],
   "source": [
    "df_dsa.head()"
   ]
  },
  {
   "cell_type": "markdown",
   "id": "0fa925d8-162b-44f1-a1d7-e28b9923fa54",
   "metadata": {},
   "source": [
    "Vamos alterar o valor das colunas dos medicamentos para refletir se esse medicamento está sendo administrado a um paciente ou não."
   ]
  },
  {
   "cell_type": "code",
   "execution_count": 68,
   "id": "b89ecac5-9e82-489d-9cd9-511734d03925",
   "metadata": {},
   "outputs": [],
   "source": [
    "# Recoding das colunas de medicamentos\n",
    "for col in medicamentos:\n",
    "    if col in df_dsa.columns:\n",
    "        df_dsa[col] = df_dsa[col].apply(lambda x: 0 if (x == 'No') else 1)"
   ]
  },
  {
   "cell_type": "code",
   "execution_count": 69,
   "id": "acea23b9-e439-4e53-9a81-5817bd6ff7d5",
   "metadata": {},
   "outputs": [
    {
     "data": {
      "text/html": [
       "<div>\n",
       "<style scoped>\n",
       "    .dataframe tbody tr th:only-of-type {\n",
       "        vertical-align: middle;\n",
       "    }\n",
       "\n",
       "    .dataframe tbody tr th {\n",
       "        vertical-align: top;\n",
       "    }\n",
       "\n",
       "    .dataframe thead th {\n",
       "        text-align: right;\n",
       "    }\n",
       "</style>\n",
       "<table border=\"1\" class=\"dataframe\">\n",
       "  <thead>\n",
       "    <tr style=\"text-align: right;\">\n",
       "      <th></th>\n",
       "      <th>encounter_id</th>\n",
       "      <th>patient_nbr</th>\n",
       "      <th>race</th>\n",
       "      <th>gender</th>\n",
       "      <th>age</th>\n",
       "      <th>admission_type_id</th>\n",
       "      <th>discharge_disposition_id</th>\n",
       "      <th>admission_source_id</th>\n",
       "      <th>time_in_hospital</th>\n",
       "      <th>num_lab_procedures</th>\n",
       "      <th>...</th>\n",
       "      <th>insulin</th>\n",
       "      <th>glyburide-metformin</th>\n",
       "      <th>glipizide-metformin</th>\n",
       "      <th>glimepiride-pioglitazone</th>\n",
       "      <th>metformin-pioglitazone</th>\n",
       "      <th>change</th>\n",
       "      <th>diabetesMed</th>\n",
       "      <th>readmitted</th>\n",
       "      <th>comorbidade</th>\n",
       "      <th>num_alt_dosagem_med</th>\n",
       "    </tr>\n",
       "  </thead>\n",
       "  <tbody>\n",
       "    <tr>\n",
       "      <th>1</th>\n",
       "      <td>149190</td>\n",
       "      <td>55629189</td>\n",
       "      <td>Caucasian</td>\n",
       "      <td>Female</td>\n",
       "      <td>[0-50]</td>\n",
       "      <td>Emergencia</td>\n",
       "      <td>Casa</td>\n",
       "      <td>Sala_Emergencia</td>\n",
       "      <td>3</td>\n",
       "      <td>59</td>\n",
       "      <td>...</td>\n",
       "      <td>1</td>\n",
       "      <td>0</td>\n",
       "      <td>0</td>\n",
       "      <td>0</td>\n",
       "      <td>0</td>\n",
       "      <td>Ch</td>\n",
       "      <td>Yes</td>\n",
       "      <td>1</td>\n",
       "      <td>1</td>\n",
       "      <td>1</td>\n",
       "    </tr>\n",
       "    <tr>\n",
       "      <th>2</th>\n",
       "      <td>64410</td>\n",
       "      <td>86047875</td>\n",
       "      <td>AfricanAmerican</td>\n",
       "      <td>Female</td>\n",
       "      <td>[0-50]</td>\n",
       "      <td>Emergencia</td>\n",
       "      <td>Casa</td>\n",
       "      <td>Sala_Emergencia</td>\n",
       "      <td>2</td>\n",
       "      <td>11</td>\n",
       "      <td>...</td>\n",
       "      <td>0</td>\n",
       "      <td>0</td>\n",
       "      <td>0</td>\n",
       "      <td>0</td>\n",
       "      <td>0</td>\n",
       "      <td>No</td>\n",
       "      <td>Yes</td>\n",
       "      <td>0</td>\n",
       "      <td>1</td>\n",
       "      <td>0</td>\n",
       "    </tr>\n",
       "    <tr>\n",
       "      <th>3</th>\n",
       "      <td>500364</td>\n",
       "      <td>82442376</td>\n",
       "      <td>Caucasian</td>\n",
       "      <td>Male</td>\n",
       "      <td>[0-50]</td>\n",
       "      <td>Emergencia</td>\n",
       "      <td>Casa</td>\n",
       "      <td>Sala_Emergencia</td>\n",
       "      <td>2</td>\n",
       "      <td>44</td>\n",
       "      <td>...</td>\n",
       "      <td>1</td>\n",
       "      <td>0</td>\n",
       "      <td>0</td>\n",
       "      <td>0</td>\n",
       "      <td>0</td>\n",
       "      <td>Ch</td>\n",
       "      <td>Yes</td>\n",
       "      <td>0</td>\n",
       "      <td>3</td>\n",
       "      <td>1</td>\n",
       "    </tr>\n",
       "    <tr>\n",
       "      <th>4</th>\n",
       "      <td>16680</td>\n",
       "      <td>42519267</td>\n",
       "      <td>Caucasian</td>\n",
       "      <td>Male</td>\n",
       "      <td>[0-50]</td>\n",
       "      <td>Emergencia</td>\n",
       "      <td>Casa</td>\n",
       "      <td>Sala_Emergencia</td>\n",
       "      <td>1</td>\n",
       "      <td>51</td>\n",
       "      <td>...</td>\n",
       "      <td>1</td>\n",
       "      <td>0</td>\n",
       "      <td>0</td>\n",
       "      <td>0</td>\n",
       "      <td>0</td>\n",
       "      <td>Ch</td>\n",
       "      <td>Yes</td>\n",
       "      <td>0</td>\n",
       "      <td>1</td>\n",
       "      <td>0</td>\n",
       "    </tr>\n",
       "    <tr>\n",
       "      <th>5</th>\n",
       "      <td>35754</td>\n",
       "      <td>82637451</td>\n",
       "      <td>Caucasian</td>\n",
       "      <td>Male</td>\n",
       "      <td>[50-60)</td>\n",
       "      <td>Outro</td>\n",
       "      <td>Casa</td>\n",
       "      <td>Outro</td>\n",
       "      <td>3</td>\n",
       "      <td>31</td>\n",
       "      <td>...</td>\n",
       "      <td>1</td>\n",
       "      <td>0</td>\n",
       "      <td>0</td>\n",
       "      <td>0</td>\n",
       "      <td>0</td>\n",
       "      <td>No</td>\n",
       "      <td>Yes</td>\n",
       "      <td>1</td>\n",
       "      <td>3</td>\n",
       "      <td>0</td>\n",
       "    </tr>\n",
       "  </tbody>\n",
       "</table>\n",
       "<p>5 rows × 41 columns</p>\n",
       "</div>"
      ],
      "text/plain": [
       "   encounter_id  patient_nbr             race  gender      age  \\\n",
       "1        149190     55629189        Caucasian  Female   [0-50]   \n",
       "2         64410     86047875  AfricanAmerican  Female   [0-50]   \n",
       "3        500364     82442376        Caucasian    Male   [0-50]   \n",
       "4         16680     42519267        Caucasian    Male   [0-50]   \n",
       "5         35754     82637451        Caucasian    Male  [50-60)   \n",
       "\n",
       "  admission_type_id discharge_disposition_id admission_source_id  \\\n",
       "1        Emergencia                     Casa     Sala_Emergencia   \n",
       "2        Emergencia                     Casa     Sala_Emergencia   \n",
       "3        Emergencia                     Casa     Sala_Emergencia   \n",
       "4        Emergencia                     Casa     Sala_Emergencia   \n",
       "5             Outro                     Casa               Outro   \n",
       "\n",
       "   time_in_hospital  num_lab_procedures  ...  insulin  glyburide-metformin  \\\n",
       "1                 3                  59  ...        1                    0   \n",
       "2                 2                  11  ...        0                    0   \n",
       "3                 2                  44  ...        1                    0   \n",
       "4                 1                  51  ...        1                    0   \n",
       "5                 3                  31  ...        1                    0   \n",
       "\n",
       "   glipizide-metformin  glimepiride-pioglitazone  metformin-pioglitazone  \\\n",
       "1                    0                         0                       0   \n",
       "2                    0                         0                       0   \n",
       "3                    0                         0                       0   \n",
       "4                    0                         0                       0   \n",
       "5                    0                         0                       0   \n",
       "\n",
       "   change  diabetesMed  readmitted  comorbidade  num_alt_dosagem_med  \n",
       "1      Ch          Yes           1            1                    1  \n",
       "2      No          Yes           0            1                    0  \n",
       "3      Ch          Yes           0            3                    1  \n",
       "4      Ch          Yes           0            1                    0  \n",
       "5      No          Yes           1            3                    0  \n",
       "\n",
       "[5 rows x 41 columns]"
      ]
     },
     "execution_count": 69,
     "metadata": {},
     "output_type": "execute_result"
    }
   ],
   "source": [
    "df_dsa.head()"
   ]
  },
  {
   "cell_type": "markdown",
   "id": "ad245470-4052-4b6e-8fe2-80c40981ef5c",
   "metadata": {},
   "source": [
    "Agora, criamos mais uma coluna para refletir quantos medicamentos estão sendo administrados a um paciente."
   ]
  },
  {
   "cell_type": "code",
   "execution_count": 70,
   "id": "95761ec0-978d-471f-9b92-8ff3c2854fc4",
   "metadata": {},
   "outputs": [],
   "source": [
    "# Variável com a contagem de medicamentos por paciente\n",
    "df_dsa['num_med'] = 0"
   ]
  },
  {
   "cell_type": "code",
   "execution_count": 71,
   "id": "b9818f97-6a37-47b8-b632-b584df2a34bb",
   "metadata": {},
   "outputs": [],
   "source": [
    "# Carregamos a nova variável\n",
    "for col in medicamentos:\n",
    "    if col in df_dsa.columns:\n",
    "        df_dsa['num_med'] = df_dsa['num_med'] + df_dsa[col]"
   ]
  },
  {
   "cell_type": "code",
   "execution_count": 72,
   "id": "5768bb57-c5f0-4d5b-acde-d21c01c8e529",
   "metadata": {},
   "outputs": [
    {
     "data": {
      "text/plain": [
       "num_med\n",
       "1    45447\n",
       "0    22702\n",
       "2    21056\n",
       "3     7485\n",
       "4     1300\n",
       "5       57\n",
       "6        5\n",
       "Name: count, dtype: int64"
      ]
     },
     "execution_count": 72,
     "metadata": {},
     "output_type": "execute_result"
    }
   ],
   "source": [
    "#Verifica o total de medicamentos\n",
    "df_dsa['num_med'].value_counts()"
   ]
  },
  {
   "cell_type": "markdown",
   "id": "53edd618-cf3b-4b3d-b9dc-3ca25461b529",
   "metadata": {},
   "source": [
    "Depois de criar essas duas colunas, podemos remover as colunas dos medicamentos.\n"
   ]
  },
  {
   "cell_type": "code",
   "execution_count": 73,
   "id": "1d2e6624-162f-4acd-b93a-0f615854a5a3",
   "metadata": {},
   "outputs": [],
   "source": [
    "# Remove as colunas de medicamentos\n",
    "df_dsa = df_dsa.drop(columns = medicamentos)"
   ]
  },
  {
   "cell_type": "code",
   "execution_count": 75,
   "id": "81e68948-4287-4a40-8d10-182108315b62",
   "metadata": {},
   "outputs": [
    {
     "data": {
      "text/html": [
       "<div>\n",
       "<style scoped>\n",
       "    .dataframe tbody tr th:only-of-type {\n",
       "        vertical-align: middle;\n",
       "    }\n",
       "\n",
       "    .dataframe tbody tr th {\n",
       "        vertical-align: top;\n",
       "    }\n",
       "\n",
       "    .dataframe thead th {\n",
       "        text-align: right;\n",
       "    }\n",
       "</style>\n",
       "<table border=\"1\" class=\"dataframe\">\n",
       "  <thead>\n",
       "    <tr style=\"text-align: right;\">\n",
       "      <th></th>\n",
       "      <th>encounter_id</th>\n",
       "      <th>patient_nbr</th>\n",
       "      <th>race</th>\n",
       "      <th>gender</th>\n",
       "      <th>age</th>\n",
       "      <th>admission_type_id</th>\n",
       "      <th>discharge_disposition_id</th>\n",
       "      <th>admission_source_id</th>\n",
       "      <th>time_in_hospital</th>\n",
       "      <th>num_lab_procedures</th>\n",
       "      <th>...</th>\n",
       "      <th>number_outpatient</th>\n",
       "      <th>number_emergency</th>\n",
       "      <th>number_inpatient</th>\n",
       "      <th>number_diagnoses</th>\n",
       "      <th>change</th>\n",
       "      <th>diabetesMed</th>\n",
       "      <th>readmitted</th>\n",
       "      <th>comorbidade</th>\n",
       "      <th>num_alt_dosagem_med</th>\n",
       "      <th>num_med</th>\n",
       "    </tr>\n",
       "  </thead>\n",
       "  <tbody>\n",
       "    <tr>\n",
       "      <th>1</th>\n",
       "      <td>149190</td>\n",
       "      <td>55629189</td>\n",
       "      <td>Caucasian</td>\n",
       "      <td>Female</td>\n",
       "      <td>[0-50]</td>\n",
       "      <td>Emergencia</td>\n",
       "      <td>Casa</td>\n",
       "      <td>Sala_Emergencia</td>\n",
       "      <td>3</td>\n",
       "      <td>59</td>\n",
       "      <td>...</td>\n",
       "      <td>0</td>\n",
       "      <td>0</td>\n",
       "      <td>0</td>\n",
       "      <td>9</td>\n",
       "      <td>Ch</td>\n",
       "      <td>Yes</td>\n",
       "      <td>1</td>\n",
       "      <td>1</td>\n",
       "      <td>1</td>\n",
       "      <td>1</td>\n",
       "    </tr>\n",
       "    <tr>\n",
       "      <th>2</th>\n",
       "      <td>64410</td>\n",
       "      <td>86047875</td>\n",
       "      <td>AfricanAmerican</td>\n",
       "      <td>Female</td>\n",
       "      <td>[0-50]</td>\n",
       "      <td>Emergencia</td>\n",
       "      <td>Casa</td>\n",
       "      <td>Sala_Emergencia</td>\n",
       "      <td>2</td>\n",
       "      <td>11</td>\n",
       "      <td>...</td>\n",
       "      <td>2</td>\n",
       "      <td>0</td>\n",
       "      <td>1</td>\n",
       "      <td>6</td>\n",
       "      <td>No</td>\n",
       "      <td>Yes</td>\n",
       "      <td>0</td>\n",
       "      <td>1</td>\n",
       "      <td>0</td>\n",
       "      <td>1</td>\n",
       "    </tr>\n",
       "    <tr>\n",
       "      <th>3</th>\n",
       "      <td>500364</td>\n",
       "      <td>82442376</td>\n",
       "      <td>Caucasian</td>\n",
       "      <td>Male</td>\n",
       "      <td>[0-50]</td>\n",
       "      <td>Emergencia</td>\n",
       "      <td>Casa</td>\n",
       "      <td>Sala_Emergencia</td>\n",
       "      <td>2</td>\n",
       "      <td>44</td>\n",
       "      <td>...</td>\n",
       "      <td>0</td>\n",
       "      <td>0</td>\n",
       "      <td>0</td>\n",
       "      <td>7</td>\n",
       "      <td>Ch</td>\n",
       "      <td>Yes</td>\n",
       "      <td>0</td>\n",
       "      <td>3</td>\n",
       "      <td>1</td>\n",
       "      <td>1</td>\n",
       "    </tr>\n",
       "    <tr>\n",
       "      <th>4</th>\n",
       "      <td>16680</td>\n",
       "      <td>42519267</td>\n",
       "      <td>Caucasian</td>\n",
       "      <td>Male</td>\n",
       "      <td>[0-50]</td>\n",
       "      <td>Emergencia</td>\n",
       "      <td>Casa</td>\n",
       "      <td>Sala_Emergencia</td>\n",
       "      <td>1</td>\n",
       "      <td>51</td>\n",
       "      <td>...</td>\n",
       "      <td>0</td>\n",
       "      <td>0</td>\n",
       "      <td>0</td>\n",
       "      <td>5</td>\n",
       "      <td>Ch</td>\n",
       "      <td>Yes</td>\n",
       "      <td>0</td>\n",
       "      <td>1</td>\n",
       "      <td>0</td>\n",
       "      <td>2</td>\n",
       "    </tr>\n",
       "    <tr>\n",
       "      <th>5</th>\n",
       "      <td>35754</td>\n",
       "      <td>82637451</td>\n",
       "      <td>Caucasian</td>\n",
       "      <td>Male</td>\n",
       "      <td>[50-60)</td>\n",
       "      <td>Outro</td>\n",
       "      <td>Casa</td>\n",
       "      <td>Outro</td>\n",
       "      <td>3</td>\n",
       "      <td>31</td>\n",
       "      <td>...</td>\n",
       "      <td>0</td>\n",
       "      <td>0</td>\n",
       "      <td>0</td>\n",
       "      <td>9</td>\n",
       "      <td>No</td>\n",
       "      <td>Yes</td>\n",
       "      <td>1</td>\n",
       "      <td>3</td>\n",
       "      <td>0</td>\n",
       "      <td>1</td>\n",
       "    </tr>\n",
       "  </tbody>\n",
       "</table>\n",
       "<p>5 rows × 22 columns</p>\n",
       "</div>"
      ],
      "text/plain": [
       "   encounter_id  patient_nbr             race  gender      age  \\\n",
       "1        149190     55629189        Caucasian  Female   [0-50]   \n",
       "2         64410     86047875  AfricanAmerican  Female   [0-50]   \n",
       "3        500364     82442376        Caucasian    Male   [0-50]   \n",
       "4         16680     42519267        Caucasian    Male   [0-50]   \n",
       "5         35754     82637451        Caucasian    Male  [50-60)   \n",
       "\n",
       "  admission_type_id discharge_disposition_id admission_source_id  \\\n",
       "1        Emergencia                     Casa     Sala_Emergencia   \n",
       "2        Emergencia                     Casa     Sala_Emergencia   \n",
       "3        Emergencia                     Casa     Sala_Emergencia   \n",
       "4        Emergencia                     Casa     Sala_Emergencia   \n",
       "5             Outro                     Casa               Outro   \n",
       "\n",
       "   time_in_hospital  num_lab_procedures  ...  number_outpatient  \\\n",
       "1                 3                  59  ...                  0   \n",
       "2                 2                  11  ...                  2   \n",
       "3                 2                  44  ...                  0   \n",
       "4                 1                  51  ...                  0   \n",
       "5                 3                  31  ...                  0   \n",
       "\n",
       "   number_emergency  number_inpatient  number_diagnoses  change  diabetesMed  \\\n",
       "1                 0                 0                 9      Ch          Yes   \n",
       "2                 0                 1                 6      No          Yes   \n",
       "3                 0                 0                 7      Ch          Yes   \n",
       "4                 0                 0                 5      Ch          Yes   \n",
       "5                 0                 0                 9      No          Yes   \n",
       "\n",
       "  readmitted comorbidade  num_alt_dosagem_med  num_med  \n",
       "1          1           1                    1        1  \n",
       "2          0           1                    0        1  \n",
       "3          0           3                    1        1  \n",
       "4          0           1                    0        2  \n",
       "5          1           3                    0        1  \n",
       "\n",
       "[5 rows x 22 columns]"
      ]
     },
     "execution_count": 75,
     "metadata": {},
     "output_type": "execute_result"
    }
   ],
   "source": [
    "df_dsa.head()"
   ]
  },
  {
   "cell_type": "markdown",
   "id": "dcf66da0-fbec-447e-a08a-b31f6330cdd2",
   "metadata": {},
   "source": [
    "#### Recoding de Variáveis Categóricas\n",
    "\n",
    "Recoding de algumas variáveis categóricas"
   ]
  },
  {
   "cell_type": "code",
   "execution_count": 76,
   "id": "abef5879-f283-4ed7-9bf6-386a2e9a340c",
   "metadata": {},
   "outputs": [
    {
     "data": {
      "text/plain": [
       "change\n",
       "No    52774\n",
       "Ch    45278\n",
       "Name: count, dtype: int64"
      ]
     },
     "execution_count": 76,
     "metadata": {},
     "output_type": "execute_result"
    }
   ],
   "source": [
    "df_dsa['change'].value_counts()"
   ]
  },
  {
   "cell_type": "code",
   "execution_count": 77,
   "id": "a13175c7-e25f-4607-805b-603e06d4dd92",
   "metadata": {},
   "outputs": [
    {
     "data": {
      "text/plain": [
       "gender\n",
       "Female    52833\n",
       "Male      45219\n",
       "Name: count, dtype: int64"
      ]
     },
     "execution_count": 77,
     "metadata": {},
     "output_type": "execute_result"
    }
   ],
   "source": [
    "df_dsa['gender'].value_counts()"
   ]
  },
  {
   "cell_type": "code",
   "execution_count": 78,
   "id": "1f6bde76-9c68-42b3-abc5-9e27a8351f31",
   "metadata": {},
   "outputs": [
    {
     "data": {
      "text/plain": [
       "diabetesMed\n",
       "Yes    75350\n",
       "No     22702\n",
       "Name: count, dtype: int64"
      ]
     },
     "execution_count": 78,
     "metadata": {},
     "output_type": "execute_result"
    }
   ],
   "source": [
    "df_dsa['diabetesMed'].value_counts()"
   ]
  },
  {
   "cell_type": "code",
   "execution_count": 80,
   "id": "53ea3537-78c6-418c-8759-3ef2d97fec76",
   "metadata": {},
   "outputs": [],
   "source": [
    "df_dsa['change'] = df_dsa['change'].apply(lambda x: 0 if (x == 'No') else 1)\n",
    "df_dsa['gender'] = df_dsa['gender'].apply(lambda x: 0 if (x == 'Female') else 1)\n",
    "df_dsa['diabetesMed'] = df_dsa['diabetesMed'].apply(lambda x: 0 if (x == 'No') else 1) "
   ]
  },
  {
   "cell_type": "code",
   "execution_count": 81,
   "id": "57ef2cbe-d4ef-4ff7-befa-6617f59467e4",
   "metadata": {},
   "outputs": [
    {
     "data": {
      "text/html": [
       "<div>\n",
       "<style scoped>\n",
       "    .dataframe tbody tr th:only-of-type {\n",
       "        vertical-align: middle;\n",
       "    }\n",
       "\n",
       "    .dataframe tbody tr th {\n",
       "        vertical-align: top;\n",
       "    }\n",
       "\n",
       "    .dataframe thead th {\n",
       "        text-align: right;\n",
       "    }\n",
       "</style>\n",
       "<table border=\"1\" class=\"dataframe\">\n",
       "  <thead>\n",
       "    <tr style=\"text-align: right;\">\n",
       "      <th></th>\n",
       "      <th>encounter_id</th>\n",
       "      <th>patient_nbr</th>\n",
       "      <th>race</th>\n",
       "      <th>gender</th>\n",
       "      <th>age</th>\n",
       "      <th>admission_type_id</th>\n",
       "      <th>discharge_disposition_id</th>\n",
       "      <th>admission_source_id</th>\n",
       "      <th>time_in_hospital</th>\n",
       "      <th>num_lab_procedures</th>\n",
       "      <th>...</th>\n",
       "      <th>number_outpatient</th>\n",
       "      <th>number_emergency</th>\n",
       "      <th>number_inpatient</th>\n",
       "      <th>number_diagnoses</th>\n",
       "      <th>change</th>\n",
       "      <th>diabetesMed</th>\n",
       "      <th>readmitted</th>\n",
       "      <th>comorbidade</th>\n",
       "      <th>num_alt_dosagem_med</th>\n",
       "      <th>num_med</th>\n",
       "    </tr>\n",
       "  </thead>\n",
       "  <tbody>\n",
       "    <tr>\n",
       "      <th>1</th>\n",
       "      <td>149190</td>\n",
       "      <td>55629189</td>\n",
       "      <td>Caucasian</td>\n",
       "      <td>0</td>\n",
       "      <td>[0-50]</td>\n",
       "      <td>Emergencia</td>\n",
       "      <td>Casa</td>\n",
       "      <td>Sala_Emergencia</td>\n",
       "      <td>3</td>\n",
       "      <td>59</td>\n",
       "      <td>...</td>\n",
       "      <td>0</td>\n",
       "      <td>0</td>\n",
       "      <td>0</td>\n",
       "      <td>9</td>\n",
       "      <td>1</td>\n",
       "      <td>1</td>\n",
       "      <td>1</td>\n",
       "      <td>1</td>\n",
       "      <td>1</td>\n",
       "      <td>1</td>\n",
       "    </tr>\n",
       "    <tr>\n",
       "      <th>2</th>\n",
       "      <td>64410</td>\n",
       "      <td>86047875</td>\n",
       "      <td>AfricanAmerican</td>\n",
       "      <td>0</td>\n",
       "      <td>[0-50]</td>\n",
       "      <td>Emergencia</td>\n",
       "      <td>Casa</td>\n",
       "      <td>Sala_Emergencia</td>\n",
       "      <td>2</td>\n",
       "      <td>11</td>\n",
       "      <td>...</td>\n",
       "      <td>2</td>\n",
       "      <td>0</td>\n",
       "      <td>1</td>\n",
       "      <td>6</td>\n",
       "      <td>1</td>\n",
       "      <td>1</td>\n",
       "      <td>0</td>\n",
       "      <td>1</td>\n",
       "      <td>0</td>\n",
       "      <td>1</td>\n",
       "    </tr>\n",
       "    <tr>\n",
       "      <th>3</th>\n",
       "      <td>500364</td>\n",
       "      <td>82442376</td>\n",
       "      <td>Caucasian</td>\n",
       "      <td>1</td>\n",
       "      <td>[0-50]</td>\n",
       "      <td>Emergencia</td>\n",
       "      <td>Casa</td>\n",
       "      <td>Sala_Emergencia</td>\n",
       "      <td>2</td>\n",
       "      <td>44</td>\n",
       "      <td>...</td>\n",
       "      <td>0</td>\n",
       "      <td>0</td>\n",
       "      <td>0</td>\n",
       "      <td>7</td>\n",
       "      <td>1</td>\n",
       "      <td>1</td>\n",
       "      <td>0</td>\n",
       "      <td>3</td>\n",
       "      <td>1</td>\n",
       "      <td>1</td>\n",
       "    </tr>\n",
       "    <tr>\n",
       "      <th>4</th>\n",
       "      <td>16680</td>\n",
       "      <td>42519267</td>\n",
       "      <td>Caucasian</td>\n",
       "      <td>1</td>\n",
       "      <td>[0-50]</td>\n",
       "      <td>Emergencia</td>\n",
       "      <td>Casa</td>\n",
       "      <td>Sala_Emergencia</td>\n",
       "      <td>1</td>\n",
       "      <td>51</td>\n",
       "      <td>...</td>\n",
       "      <td>0</td>\n",
       "      <td>0</td>\n",
       "      <td>0</td>\n",
       "      <td>5</td>\n",
       "      <td>1</td>\n",
       "      <td>1</td>\n",
       "      <td>0</td>\n",
       "      <td>1</td>\n",
       "      <td>0</td>\n",
       "      <td>2</td>\n",
       "    </tr>\n",
       "    <tr>\n",
       "      <th>5</th>\n",
       "      <td>35754</td>\n",
       "      <td>82637451</td>\n",
       "      <td>Caucasian</td>\n",
       "      <td>1</td>\n",
       "      <td>[50-60)</td>\n",
       "      <td>Outro</td>\n",
       "      <td>Casa</td>\n",
       "      <td>Outro</td>\n",
       "      <td>3</td>\n",
       "      <td>31</td>\n",
       "      <td>...</td>\n",
       "      <td>0</td>\n",
       "      <td>0</td>\n",
       "      <td>0</td>\n",
       "      <td>9</td>\n",
       "      <td>1</td>\n",
       "      <td>1</td>\n",
       "      <td>1</td>\n",
       "      <td>3</td>\n",
       "      <td>0</td>\n",
       "      <td>1</td>\n",
       "    </tr>\n",
       "  </tbody>\n",
       "</table>\n",
       "<p>5 rows × 22 columns</p>\n",
       "</div>"
      ],
      "text/plain": [
       "   encounter_id  patient_nbr             race  gender      age  \\\n",
       "1        149190     55629189        Caucasian       0   [0-50]   \n",
       "2         64410     86047875  AfricanAmerican       0   [0-50]   \n",
       "3        500364     82442376        Caucasian       1   [0-50]   \n",
       "4         16680     42519267        Caucasian       1   [0-50]   \n",
       "5         35754     82637451        Caucasian       1  [50-60)   \n",
       "\n",
       "  admission_type_id discharge_disposition_id admission_source_id  \\\n",
       "1        Emergencia                     Casa     Sala_Emergencia   \n",
       "2        Emergencia                     Casa     Sala_Emergencia   \n",
       "3        Emergencia                     Casa     Sala_Emergencia   \n",
       "4        Emergencia                     Casa     Sala_Emergencia   \n",
       "5             Outro                     Casa               Outro   \n",
       "\n",
       "   time_in_hospital  num_lab_procedures  ...  number_outpatient  \\\n",
       "1                 3                  59  ...                  0   \n",
       "2                 2                  11  ...                  2   \n",
       "3                 2                  44  ...                  0   \n",
       "4                 1                  51  ...                  0   \n",
       "5                 3                  31  ...                  0   \n",
       "\n",
       "   number_emergency  number_inpatient  number_diagnoses  change  diabetesMed  \\\n",
       "1                 0                 0                 9       1            1   \n",
       "2                 0                 1                 6       1            1   \n",
       "3                 0                 0                 7       1            1   \n",
       "4                 0                 0                 5       1            1   \n",
       "5                 0                 0                 9       1            1   \n",
       "\n",
       "   readmitted  comorbidade  num_alt_dosagem_med  num_med  \n",
       "1           1            1                    1        1  \n",
       "2           0            1                    0        1  \n",
       "3           0            3                    1        1  \n",
       "4           0            1                    0        2  \n",
       "5           1            3                    0        1  \n",
       "\n",
       "[5 rows x 22 columns]"
      ]
     },
     "execution_count": 81,
     "metadata": {},
     "output_type": "execute_result"
    }
   ],
   "source": [
    "df_dsa.head()"
   ]
  },
  {
   "cell_type": "code",
   "execution_count": 82,
   "id": "90ef3b2b-64b6-445b-9982-d5171bb9329a",
   "metadata": {},
   "outputs": [
    {
     "ename": "SyntaxError",
     "evalue": "invalid syntax (2127229855.py, line 1)",
     "output_type": "error",
     "traceback": [
      "\u001b[1;36m  Cell \u001b[1;32mIn[82], line 1\u001b[1;36m\u001b[0m\n\u001b[1;33m    Alguns pacientes no conjunto de dados tiveram mais de um encontro (consulta).\u001b[0m\n\u001b[1;37m           ^\u001b[0m\n\u001b[1;31mSyntaxError\u001b[0m\u001b[1;31m:\u001b[0m invalid syntax\n"
     ]
    }
   ],
   "source": [
    "Alguns pacientes no conjunto de dados tiveram mais de um encontro (consulta).\n",
    "\n",
    "Não podemos contá-los como encontros independentes, porque isso influencia os resultados para aqueles pacientes que tiveram vários encontros. Assim,\n",
    "tentamos várias técnicas para recolher e consolidar vários encontros para o mesmo paciente, como:\n",
    "\n",
    "* Considerar a permanência média no hospital em vários encontros.\n",
    "* Considerar a porcentagem de alterações na medicação em vários encontros.\n",
    "* Considerar o número total de encontros para substituir o ID exclusivo do encontro.\n",
    "* Considerar a combinação de diagnóstico em vários encontros como uma lista.\n",
    "\n",
    "Por fim, o ideal foi deixar apenas um registro de encontro para cada paciente e optamos por manter o primeiro."
   ]
  },
  {
   "cell_type": "code",
   "execution_count": 83,
   "id": "a448bc18-c499-4ab1-bd58-98df7267ecb1",
   "metadata": {},
   "outputs": [],
   "source": [
    "# Removendo duplicidades por id de paciente, mantendo o primeiro registro\n",
    "df_dsa = df_dsa.drop_duplicates(subset = ['patient_nbr'], keep = 'first')"
   ]
  },
  {
   "cell_type": "code",
   "execution_count": 84,
   "id": "15fe9bf6-006d-4a79-b861-a4f1c8789acc",
   "metadata": {},
   "outputs": [],
   "source": [
    "# Salvando o dataset\n",
    "df_dsa.to_csv('resultado_projeto7.csv', index = False)"
   ]
  },
  {
   "cell_type": "code",
   "execution_count": 85,
   "id": "d6111211-9f50-49cc-8c44-666280c23736",
   "metadata": {},
   "outputs": [
    {
     "name": "stderr",
     "output_type": "stream",
     "text": [
      "UsageError: Line magic function `%watermark` not found.\n"
     ]
    }
   ],
   "source": [
    "%watermark -a 'Mateus Pereira Barboza'"
   ]
  },
  {
   "cell_type": "code",
   "execution_count": null,
   "id": "6a849b05-1f39-4593-81df-03c957a9b508",
   "metadata": {},
   "outputs": [],
   "source": []
  }
 ],
 "metadata": {
  "kernelspec": {
   "display_name": "Python 3 (ipykernel)",
   "language": "python",
   "name": "python3"
  },
  "language_info": {
   "codemirror_mode": {
    "name": "ipython",
    "version": 3
   },
   "file_extension": ".py",
   "mimetype": "text/x-python",
   "name": "python",
   "nbconvert_exporter": "python",
   "pygments_lexer": "ipython3",
   "version": "3.12.7"
  }
 },
 "nbformat": 4,
 "nbformat_minor": 5
}
