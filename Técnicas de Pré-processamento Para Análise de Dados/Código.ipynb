{
 "cells": [
  {
   "cell_type": "code",
   "execution_count": 1,
   "id": "9ef6e12c-9e2e-4f6b-9084-0a21e18d61b3",
   "metadata": {},
   "outputs": [],
   "source": [
    "!PIP install -q -U watermark"
   ]
  },
  {
   "cell_type": "code",
   "execution_count": 2,
   "id": "7deac1ec-6783-441a-9bd2-af4e91b7cf11",
   "metadata": {},
   "outputs": [],
   "source": [
    "!pip install -q missingno"
   ]
  },
  {
   "cell_type": "code",
   "execution_count": 3,
   "id": "476da7d4-c9da-46bd-a4a2-0507d06dbe2d",
   "metadata": {},
   "outputs": [],
   "source": [
    "import pandas as pd\n",
    "import numpy as np\n",
    "import matplotlib.pyplot as plt\n",
    "import seaborn as sns\n",
    "import missingno as msno"
   ]
  },
  {
   "cell_type": "code",
   "execution_count": null,
   "id": "df948c58-dea7-4cee-81ab-c3aec3cef568",
   "metadata": {},
   "outputs": [
    {
     "name": "stdout",
     "output_type": "stream",
     "text": [
      "Author: Opa\n",
      "\n"
     ]
    }
   ],
   "source": [
    "%reload_ext watermark\n",
    "%watermark -a \"Mateus Pereira Barboza\""
   ]
  },
  {
   "cell_type": "code",
   "execution_count": 5,
   "id": "ee355bd1-8b95-4e04-85f3-a0b38341d141",
   "metadata": {},
   "outputs": [],
   "source": [
    "df_dsa = pd.read_csv('dataset.csv')"
   ]
  },
  {
   "cell_type": "code",
   "execution_count": 6,
   "id": "9b467783-ff76-441d-99e2-3e71fda42cf5",
   "metadata": {},
   "outputs": [
    {
     "data": {
      "text/plain": [
       "(500, 5)"
      ]
     },
     "execution_count": 6,
     "metadata": {},
     "output_type": "execute_result"
    }
   ],
   "source": [
    "df_dsa.shape"
   ]
  },
  {
   "cell_type": "code",
   "execution_count": 7,
   "id": "97439d7e-4617-45a2-969e-10cdbcdc303c",
   "metadata": {},
   "outputs": [
    {
     "name": "stdout",
     "output_type": "stream",
     "text": [
      "<class 'pandas.core.frame.DataFrame'>\n",
      "RangeIndex: 500 entries, 0 to 499\n",
      "Data columns (total 5 columns):\n",
      " #   Column                    Non-Null Count  Dtype  \n",
      "---  ------                    --------------  -----  \n",
      " 0   Idade                     500 non-null    int64  \n",
      " 1   Salario                   450 non-null    float64\n",
      " 2   Genero                    500 non-null    object \n",
      " 3   Escolaridade              500 non-null    object \n",
      " 4   Score_Exame_Psicotecnico  470 non-null    float64\n",
      "dtypes: float64(2), int64(1), object(2)\n",
      "memory usage: 19.7+ KB\n"
     ]
    }
   ],
   "source": [
    "df_dsa.info()"
   ]
  },
  {
   "cell_type": "code",
   "execution_count": 8,
   "id": "9c304e07-5ea1-47ae-af83-da15479dd57c",
   "metadata": {},
   "outputs": [
    {
     "data": {
      "text/html": [
       "<div>\n",
       "<style scoped>\n",
       "    .dataframe tbody tr th:only-of-type {\n",
       "        vertical-align: middle;\n",
       "    }\n",
       "\n",
       "    .dataframe tbody tr th {\n",
       "        vertical-align: top;\n",
       "    }\n",
       "\n",
       "    .dataframe thead th {\n",
       "        text-align: right;\n",
       "    }\n",
       "</style>\n",
       "<table border=\"1\" class=\"dataframe\">\n",
       "  <thead>\n",
       "    <tr style=\"text-align: right;\">\n",
       "      <th></th>\n",
       "      <th>Genero</th>\n",
       "      <th>Escolaridade</th>\n",
       "    </tr>\n",
       "  </thead>\n",
       "  <tbody>\n",
       "    <tr>\n",
       "      <th>count</th>\n",
       "      <td>500</td>\n",
       "      <td>500</td>\n",
       "    </tr>\n",
       "    <tr>\n",
       "      <th>unique</th>\n",
       "      <td>3</td>\n",
       "      <td>3</td>\n",
       "    </tr>\n",
       "    <tr>\n",
       "      <th>top</th>\n",
       "      <td>Feminino</td>\n",
       "      <td>Médio</td>\n",
       "    </tr>\n",
       "    <tr>\n",
       "      <th>freq</th>\n",
       "      <td>169</td>\n",
       "      <td>274</td>\n",
       "    </tr>\n",
       "  </tbody>\n",
       "</table>\n",
       "</div>"
      ],
      "text/plain": [
       "          Genero Escolaridade\n",
       "count        500          500\n",
       "unique         3            3\n",
       "top     Feminino        Médio\n",
       "freq         169          274"
      ]
     },
     "execution_count": 8,
     "metadata": {},
     "output_type": "execute_result"
    }
   ],
   "source": [
    "df_dsa.describe(include = object)"
   ]
  },
  {
   "cell_type": "code",
   "execution_count": 9,
   "id": "ffbcfeb9-dd45-4fdb-971b-9be3d7f74d43",
   "metadata": {},
   "outputs": [
    {
     "data": {
      "text/html": [
       "<div>\n",
       "<style scoped>\n",
       "    .dataframe tbody tr th:only-of-type {\n",
       "        vertical-align: middle;\n",
       "    }\n",
       "\n",
       "    .dataframe tbody tr th {\n",
       "        vertical-align: top;\n",
       "    }\n",
       "\n",
       "    .dataframe thead th {\n",
       "        text-align: right;\n",
       "    }\n",
       "</style>\n",
       "<table border=\"1\" class=\"dataframe\">\n",
       "  <thead>\n",
       "    <tr style=\"text-align: right;\">\n",
       "      <th></th>\n",
       "      <th>Idade</th>\n",
       "      <th>Salario</th>\n",
       "      <th>Score_Exame_Psicotecnico</th>\n",
       "    </tr>\n",
       "  </thead>\n",
       "  <tbody>\n",
       "    <tr>\n",
       "      <th>count</th>\n",
       "      <td>500.000000</td>\n",
       "      <td>450.000000</td>\n",
       "      <td>470.000000</td>\n",
       "    </tr>\n",
       "    <tr>\n",
       "      <th>mean</th>\n",
       "      <td>42.848000</td>\n",
       "      <td>21252.781137</td>\n",
       "      <td>61.565957</td>\n",
       "    </tr>\n",
       "    <tr>\n",
       "      <th>std</th>\n",
       "      <td>13.189725</td>\n",
       "      <td>8322.933018</td>\n",
       "      <td>17.662523</td>\n",
       "    </tr>\n",
       "    <tr>\n",
       "      <th>min</th>\n",
       "      <td>20.000000</td>\n",
       "      <td>-3254.849042</td>\n",
       "      <td>20.000000</td>\n",
       "    </tr>\n",
       "    <tr>\n",
       "      <th>25%</th>\n",
       "      <td>31.750000</td>\n",
       "      <td>15139.019963</td>\n",
       "      <td>48.000000</td>\n",
       "    </tr>\n",
       "    <tr>\n",
       "      <th>50%</th>\n",
       "      <td>44.000000</td>\n",
       "      <td>21681.102602</td>\n",
       "      <td>61.000000</td>\n",
       "    </tr>\n",
       "    <tr>\n",
       "      <th>75%</th>\n",
       "      <td>54.000000</td>\n",
       "      <td>27379.540314</td>\n",
       "      <td>74.000000</td>\n",
       "    </tr>\n",
       "    <tr>\n",
       "      <th>max</th>\n",
       "      <td>65.000000</td>\n",
       "      <td>40845.107626</td>\n",
       "      <td>100.000000</td>\n",
       "    </tr>\n",
       "  </tbody>\n",
       "</table>\n",
       "</div>"
      ],
      "text/plain": [
       "            Idade       Salario  Score_Exame_Psicotecnico\n",
       "count  500.000000    450.000000                470.000000\n",
       "mean    42.848000  21252.781137                 61.565957\n",
       "std     13.189725   8322.933018                 17.662523\n",
       "min     20.000000  -3254.849042                 20.000000\n",
       "25%     31.750000  15139.019963                 48.000000\n",
       "50%     44.000000  21681.102602                 61.000000\n",
       "75%     54.000000  27379.540314                 74.000000\n",
       "max     65.000000  40845.107626                100.000000"
      ]
     },
     "execution_count": 9,
     "metadata": {},
     "output_type": "execute_result"
    }
   ],
   "source": [
    "df_dsa.describe()"
   ]
  },
  {
   "cell_type": "markdown",
   "id": "5dda7cb0-ff2c-43f1-a938-2f2874c84d35",
   "metadata": {},
   "source": [
    "## Visualizando a Distribuição das Variáveis Quantitativas"
   ]
  },
  {
   "cell_type": "code",
   "execution_count": 10,
   "id": "daee31ad-8bfb-45ae-addb-712f9367c22b",
   "metadata": {},
   "outputs": [],
   "source": [
    "colunas_selecionadas = [list(df_dsa.columns)[i] for i in [0, 1, 4]]"
   ]
  },
  {
   "cell_type": "code",
   "execution_count": 11,
   "id": "fd21ac9e-be80-456c-ae85-ce84f7e91561",
   "metadata": {},
   "outputs": [
    {
     "data": {
      "text/plain": [
       "['Idade', 'Salario', 'Score_Exame_Psicotecnico']"
      ]
     },
     "execution_count": 11,
     "metadata": {},
     "output_type": "execute_result"
    }
   ],
   "source": [
    "colunas_selecionadas"
   ]
  },
  {
   "cell_type": "code",
   "execution_count": 12,
   "id": "ea247a2c-5378-4519-9c87-687ebf77f0db",
   "metadata": {},
   "outputs": [
    {
     "data": {
      "text/plain": [
       "'Genero'"
      ]
     },
     "execution_count": 12,
     "metadata": {},
     "output_type": "execute_result"
    }
   ],
   "source": [
    "df_dsa.columns[2]"
   ]
  },
  {
   "cell_type": "code",
   "execution_count": 13,
   "id": "ed947d03-25fd-497a-a7b7-c24571a74830",
   "metadata": {},
   "outputs": [
    {
     "data": {
      "image/png": "[encoded data removed]",
      "text/plain": [
       "<Figure size 800x600 with 1 Axes>"
      ]
     },
     "metadata": {},
     "output_type": "display_data"
    }
   ],
   "source": [
    "plt.figure(figsize = (8,6))\n",
    "sns.histplot(df_dsa['Salario'], kde = True)\n",
    "plt.title('Distribuição de Salários')\n",
    "plt.xlabel('Salário')\n",
    "plt.ylabel('Contagem')\n",
    "plt.show()"
   ]
  },
  {
   "cell_type": "code",
   "execution_count": 14,
   "id": "e1e7f1a0-2a36-400e-ae1e-41d1252cda17",
   "metadata": {},
   "outputs": [
    {
     "data": {
      "image/png": "[encoded data removed]",
      "text/plain": [
       "<Figure size 800x600 with 1 Axes>"
      ]
     },
     "metadata": {},
     "output_type": "display_data"
    }
   ],
   "source": [
    "plt.figure(figsize = (8,6))\n",
    "sns.histplot(df_dsa['Idade'], kde = True)\n",
    "plt.title('Distribuição das Idades')\n",
    "plt.xlabel('Idade')\n",
    "plt.ylabel('Contagem')\n",
    "plt.show()"
   ]
  },
  {
   "cell_type": "code",
   "execution_count": 15,
   "id": "b927cae5-ae75-4058-92ee-e1c1a8741dea",
   "metadata": {},
   "outputs": [
    {
     "data": {
      "image/png": "[encoded data removed]",
      "text/plain": [
       "<Figure size 800x600 with 1 Axes>"
      ]
     },
     "metadata": {},
     "output_type": "display_data"
    }
   ],
   "source": [
    "plt.figure(figsize = (8,6))\n",
    "sns.histplot(df_dsa['Score_Exame_Psicotecnico'], kde = True)\n",
    "plt.title('Distribuição do Score')\n",
    "plt.xlabel('Score')\n",
    "plt.ylabel('Contagem')\n",
    "plt.show()"
   ]
  },
  {
   "cell_type": "markdown",
   "id": "951e6204-7955-451d-9f23-4b3b8fee18b0",
   "metadata": {},
   "source": [
    "## Visualizando a Distribuição das Variáveis Qualitativas"
   ]
  },
  {
   "cell_type": "code",
   "execution_count": 16,
   "id": "f7cf98d6-5fe1-4612-956c-dacc77bc2286",
   "metadata": {},
   "outputs": [
    {
     "data": {
      "image/png": "[encoded data removed]",
      "text/plain": [
       "<Figure size 800x600 with 1 Axes>"
      ]
     },
     "metadata": {},
     "output_type": "display_data"
    }
   ],
   "source": [
    "plt.figure(figsize = (8,6))\n",
    "sns.countplot(data = df_dsa, x = 'Genero')\n",
    "plt.title('Distribuição de Gênero')\n",
    "plt.xlabel('Gênero')\n",
    "plt.ylabel('Contagem')\n",
    "plt.show()"
   ]
  },
  {
   "cell_type": "code",
   "execution_count": 17,
   "id": "6a27fa90-b117-4de2-a4cc-88e9e31c3a5a",
   "metadata": {},
   "outputs": [
    {
     "data": {
      "image/png": "[encoded data removed]",
      "text/plain": [
       "<Figure size 800x600 with 1 Axes>"
      ]
     },
     "metadata": {},
     "output_type": "display_data"
    }
   ],
   "source": [
    "plt.figure(figsize = (8,6))\n",
    "sns.countplot(data = df_dsa, x = 'Escolaridade', order = ['Fundamental', 'Médio', 'Superior'])\n",
    "plt.title('Distribuição de Escolaridade')\n",
    "plt.xlabel('Escolaridade')\n",
    "plt.ylabel('Contagem')\n",
    "plt.show()"
   ]
  },
  {
   "cell_type": "markdown",
   "id": "25628bc7-2f7d-4b37-a048-2e4a6635c084",
   "metadata": {},
   "source": [
    "## Correlação entre Variáveis Quantitativas"
   ]
  },
  {
   "cell_type": "code",
   "execution_count": 18,
   "id": "63d5c7cc-ecd7-4a9b-a989-7e09ccf16ce1",
   "metadata": {},
   "outputs": [],
   "source": [
    "correlation_matrix = df_dsa[['Idade','Salario', 'Score_Exame_Psicotecnico']].corr()"
   ]
  },
  {
   "cell_type": "code",
   "execution_count": 19,
   "id": "a41c53c1-c14b-4384-8ba7-781151b4c17d",
   "metadata": {},
   "outputs": [
    {
     "data": {
      "text/html": [
       "<div>\n",
       "<style scoped>\n",
       "    .dataframe tbody tr th:only-of-type {\n",
       "        vertical-align: middle;\n",
       "    }\n",
       "\n",
       "    .dataframe tbody tr th {\n",
       "        vertical-align: top;\n",
       "    }\n",
       "\n",
       "    .dataframe thead th {\n",
       "        text-align: right;\n",
       "    }\n",
       "</style>\n",
       "<table border=\"1\" class=\"dataframe\">\n",
       "  <thead>\n",
       "    <tr style=\"text-align: right;\">\n",
       "      <th></th>\n",
       "      <th>Idade</th>\n",
       "      <th>Salario</th>\n",
       "      <th>Score_Exame_Psicotecnico</th>\n",
       "    </tr>\n",
       "  </thead>\n",
       "  <tbody>\n",
       "    <tr>\n",
       "      <th>Idade</th>\n",
       "      <td>1.000000</td>\n",
       "      <td>0.810266</td>\n",
       "      <td>-0.030818</td>\n",
       "    </tr>\n",
       "    <tr>\n",
       "      <th>Salario</th>\n",
       "      <td>0.810266</td>\n",
       "      <td>1.000000</td>\n",
       "      <td>-0.004153</td>\n",
       "    </tr>\n",
       "    <tr>\n",
       "      <th>Score_Exame_Psicotecnico</th>\n",
       "      <td>-0.030818</td>\n",
       "      <td>-0.004153</td>\n",
       "      <td>1.000000</td>\n",
       "    </tr>\n",
       "  </tbody>\n",
       "</table>\n",
       "</div>"
      ],
      "text/plain": [
       "                             Idade   Salario  Score_Exame_Psicotecnico\n",
       "Idade                     1.000000  0.810266                 -0.030818\n",
       "Salario                   0.810266  1.000000                 -0.004153\n",
       "Score_Exame_Psicotecnico -0.030818 -0.004153                  1.000000"
      ]
     },
     "execution_count": 19,
     "metadata": {},
     "output_type": "execute_result"
    }
   ],
   "source": [
    "correlation_matrix"
   ]
  },
  {
   "cell_type": "code",
   "execution_count": 20,
   "id": "ab295c14-566f-46dc-b81b-3a5b3efc8eb3",
   "metadata": {},
   "outputs": [
    {
     "data": {
      "image/png": "[encoded data removed]",
      "text/plain": [
       "<Figure size 800x800 with 2 Axes>"
      ]
     },
     "metadata": {},
     "output_type": "display_data"
    }
   ],
   "source": [
    "plt.figure(figsize = (8, 8))\n",
    "sns.heatmap(correlation_matrix, annot = True, cmap = 'coolwarm', vmin = -1, vmax = 1)\n",
    "plt.title('Correlação entre variáveis quantitativas')\n",
    "plt.show()"
   ]
  },
  {
   "cell_type": "markdown",
   "id": "d6e5b60d-bd0a-46e2-8b09-40111cea47ae",
   "metadata": {},
   "source": [
    "## Associação entre variáveis Qualitativas"
   ]
  },
  {
   "cell_type": "code",
   "execution_count": 21,
   "id": "13a9eae4-eb92-466d-9aff-f796e7458712",
   "metadata": {},
   "outputs": [],
   "source": [
    "tabela_contigencia = pd.crosstab(df_dsa['Genero'], df_dsa['Escolaridade'])"
   ]
  },
  {
   "cell_type": "markdown",
   "id": "eab6d6ae-7c54-4b5d-afdb-c2eb5ea313bf",
   "metadata": {},
   "source": [
    "#### Tabela de Contigência: É basicamente uma tabela cruazada (crosstab) que mostra a frequência de observações em cada categoria para daus variáveis"
   ]
  },
  {
   "cell_type": "code",
   "execution_count": 22,
   "id": "cf620ed3-d1a3-44d1-bfa3-f90a2c0c4168",
   "metadata": {},
   "outputs": [
    {
     "data": {
      "text/html": [
       "<div>\n",
       "<style scoped>\n",
       "    .dataframe tbody tr th:only-of-type {\n",
       "        vertical-align: middle;\n",
       "    }\n",
       "\n",
       "    .dataframe tbody tr th {\n",
       "        vertical-align: top;\n",
       "    }\n",
       "\n",
       "    .dataframe thead th {\n",
       "        text-align: right;\n",
       "    }\n",
       "</style>\n",
       "<table border=\"1\" class=\"dataframe\">\n",
       "  <thead>\n",
       "    <tr style=\"text-align: right;\">\n",
       "      <th>Escolaridade</th>\n",
       "      <th>Fundamental</th>\n",
       "      <th>Médio</th>\n",
       "      <th>Superior</th>\n",
       "    </tr>\n",
       "    <tr>\n",
       "      <th>Genero</th>\n",
       "      <th></th>\n",
       "      <th></th>\n",
       "      <th></th>\n",
       "    </tr>\n",
       "  </thead>\n",
       "  <tbody>\n",
       "    <tr>\n",
       "      <th>Feminino</th>\n",
       "      <td>31</td>\n",
       "      <td>90</td>\n",
       "      <td>48</td>\n",
       "    </tr>\n",
       "    <tr>\n",
       "      <th>Masculino</th>\n",
       "      <td>32</td>\n",
       "      <td>95</td>\n",
       "      <td>39</td>\n",
       "    </tr>\n",
       "    <tr>\n",
       "      <th>Outro</th>\n",
       "      <td>35</td>\n",
       "      <td>89</td>\n",
       "      <td>41</td>\n",
       "    </tr>\n",
       "  </tbody>\n",
       "</table>\n",
       "</div>"
      ],
      "text/plain": [
       "Escolaridade  Fundamental  Médio  Superior\n",
       "Genero                                    \n",
       "Feminino               31     90        48\n",
       "Masculino              32     95        39\n",
       "Outro                  35     89        41"
      ]
     },
     "execution_count": 22,
     "metadata": {},
     "output_type": "execute_result"
    }
   ],
   "source": [
    "tabela_contigencia"
   ]
  },
  {
   "cell_type": "markdown",
   "id": "565abd17-2571-4588-bd01-ab156ca3bce9",
   "metadata": {},
   "source": [
    "#### Testo do Qui-quadrado(x^2): É usado para testar a independência entre duas variáveis categóricas.\n",
    "##### O teste do Qui-quadrado(chi-quadrado) é uma técnica estatística que é usada para determinar se há uma associação signifiticativa entre duas variáveis categóricas em um conjunto de dados. Existem váris hipóteses associadas ao teste do qui-quadrado:\n",
    "##### Hipótese Nula (H0): A Hipótese nula afirma que não há associação significativa entre as duas variáveis categóricas no conunto de dados. Em outras palavras, as duas variáveis são independentes uma da outra.\n",
    "##### Hipótese Alternativa (H1 ou Ha): A hipótese alternativa é a negação da hipótese nula. Ela seugere que há uma associação significativa entre as duas variáveis categóricas no conjunto de dados. Em termos simples, as duas variáveis não são independentes.\n",
    "##### Aplicamos o teste e analisamos o valor-p. Se o valor-p for menor que um nível de significância (geralmente 0,05) podemos rejeitar a hipótese nula de que as variáveis são independentes.\n"
   ]
  },
  {
   "cell_type": "code",
   "execution_count": 23,
   "id": "c956f84a-0d97-4259-b56a-49ef0dbc16e1",
   "metadata": {},
   "outputs": [],
   "source": [
    "from scipy.stats import chi2_contingency"
   ]
  },
  {
   "cell_type": "code",
   "execution_count": 24,
   "id": "ebd5c0b9-3d71-4513-aa44-944c31996a5e",
   "metadata": {},
   "outputs": [],
   "source": [
    "chi2, p, _, _ = chi2_contingency(tabela_contigencia)"
   ]
  },
  {
   "cell_type": "code",
   "execution_count": 25,
   "id": "b2035f09-b466-40a3-8326-241554aca72c",
   "metadata": {},
   "outputs": [
    {
     "name": "stdout",
     "output_type": "stream",
     "text": [
      "Valor p do teste qui-quadrado: 0.8300\n"
     ]
    }
   ],
   "source": [
    "print(f'Valor p do teste qui-quadrado: {p:.4f}')"
   ]
  },
  {
   "cell_type": "markdown",
   "id": "4f61ea8d-d9f6-4d66-a0df-05c87780bc4e",
   "metadata": {},
   "source": [
    "#### H0 Confirmada (Hipótese nula), provavelmente as duas variáveis são independentes uma da outra"
   ]
  },
  {
   "cell_type": "markdown",
   "id": "08170242-b8f5-4c95-9631-cc571807d116",
   "metadata": {},
   "source": [
    "### Coeficiente de Contingência de Cramér (V): Mede a força da associação entre duas variáveis nominais. Seu valor varia de 0 (sem associação) a 1 (associação perfeita). É baseado no valor do qui-quadrado."
   ]
  },
  {
   "cell_type": "code",
   "execution_count": 26,
   "id": "fcdb2363-c0cd-4f8a-aa00-13d64beb9cf8",
   "metadata": {},
   "outputs": [
    {
     "name": "stdout",
     "output_type": "stream",
     "text": [
      "Coeficiente de Cramér V: 0.038483\n"
     ]
    }
   ],
   "source": [
    "n = tabela_contigencia.sum().sum()\n",
    "phi2 = chi2 / n\n",
    "r, k = tabela_contigencia.shape\n",
    "cramers_v = np.sqrt(phi2/ min(r-1, k-1))\n",
    "print(f'Coeficiente de Cramér V: {cramers_v:4f}')"
   ]
  },
  {
   "cell_type": "code",
   "execution_count": 27,
   "id": "b30ab68e-ca6b-40e2-882f-3e8022fcc2aa",
   "metadata": {},
   "outputs": [
    {
     "data": {
      "text/plain": [
       "(3, 3)"
      ]
     },
     "execution_count": 27,
     "metadata": {},
     "output_type": "execute_result"
    }
   ],
   "source": [
    "tabela_contigencia.shape"
   ]
  },
  {
   "cell_type": "markdown",
   "id": "665e2d79-1b8c-4923-9bad-d53b7c05c2fa",
   "metadata": {},
   "source": [
    "## Técnicas de pré-processamento"
   ]
  },
  {
   "cell_type": "markdown",
   "id": "cd417c99-1bba-4662-83da-afc95154f323",
   "metadata": {},
   "source": [
    "### Valores duplicados"
   ]
  },
  {
   "cell_type": "code",
   "execution_count": 28,
   "id": "f0f06249-bee6-43cf-aa90-dfde7b0468f4",
   "metadata": {},
   "outputs": [],
   "source": [
    "duplicatas = df_dsa.duplicated()"
   ]
  },
  {
   "cell_type": "code",
   "execution_count": 29,
   "id": "05f10484-5bf1-4bad-a27d-5e24660685fa",
   "metadata": {},
   "outputs": [
    {
     "data": {
      "text/html": [
       "<div>\n",
       "<style scoped>\n",
       "    .dataframe tbody tr th:only-of-type {\n",
       "        vertical-align: middle;\n",
       "    }\n",
       "\n",
       "    .dataframe tbody tr th {\n",
       "        vertical-align: top;\n",
       "    }\n",
       "\n",
       "    .dataframe thead th {\n",
       "        text-align: right;\n",
       "    }\n",
       "</style>\n",
       "<table border=\"1\" class=\"dataframe\">\n",
       "  <thead>\n",
       "    <tr style=\"text-align: right;\">\n",
       "      <th></th>\n",
       "      <th>Idade</th>\n",
       "      <th>Salario</th>\n",
       "      <th>Genero</th>\n",
       "      <th>Escolaridade</th>\n",
       "      <th>Score_Exame_Psicotecnico</th>\n",
       "    </tr>\n",
       "  </thead>\n",
       "  <tbody>\n",
       "  </tbody>\n",
       "</table>\n",
       "</div>"
      ],
      "text/plain": [
       "Empty DataFrame\n",
       "Columns: [Idade, Salario, Genero, Escolaridade, Score_Exame_Psicotecnico]\n",
       "Index: []"
      ]
     },
     "execution_count": 29,
     "metadata": {},
     "output_type": "execute_result"
    }
   ],
   "source": [
    "df_dsa[duplicatas]"
   ]
  },
  {
   "cell_type": "markdown",
   "id": "c3c48379-68e2-4056-a684-666dc304ced7",
   "metadata": {},
   "source": [
    "### Valores negativos"
   ]
  },
  {
   "cell_type": "code",
   "execution_count": 30,
   "id": "ed32eb6a-41b6-4074-a9c5-0712bad2dea7",
   "metadata": {},
   "outputs": [
    {
     "data": {
      "text/html": [
       "<div>\n",
       "<style scoped>\n",
       "    .dataframe tbody tr th:only-of-type {\n",
       "        vertical-align: middle;\n",
       "    }\n",
       "\n",
       "    .dataframe tbody tr th {\n",
       "        vertical-align: top;\n",
       "    }\n",
       "\n",
       "    .dataframe thead th {\n",
       "        text-align: right;\n",
       "    }\n",
       "</style>\n",
       "<table border=\"1\" class=\"dataframe\">\n",
       "  <thead>\n",
       "    <tr style=\"text-align: right;\">\n",
       "      <th></th>\n",
       "      <th>Idade</th>\n",
       "      <th>Salario</th>\n",
       "      <th>Genero</th>\n",
       "      <th>Escolaridade</th>\n",
       "      <th>Score_Exame_Psicotecnico</th>\n",
       "    </tr>\n",
       "  </thead>\n",
       "  <tbody>\n",
       "    <tr>\n",
       "      <th>94</th>\n",
       "      <td>20</td>\n",
       "      <td>-619.478622</td>\n",
       "      <td>Masculino</td>\n",
       "      <td>Médio</td>\n",
       "      <td>58.0</td>\n",
       "    </tr>\n",
       "    <tr>\n",
       "      <th>358</th>\n",
       "      <td>21</td>\n",
       "      <td>-2984.433215</td>\n",
       "      <td>Masculino</td>\n",
       "      <td>Médio</td>\n",
       "      <td>43.0</td>\n",
       "    </tr>\n",
       "    <tr>\n",
       "      <th>380</th>\n",
       "      <td>20</td>\n",
       "      <td>-3254.849042</td>\n",
       "      <td>Outro</td>\n",
       "      <td>Médio</td>\n",
       "      <td>50.0</td>\n",
       "    </tr>\n",
       "  </tbody>\n",
       "</table>\n",
       "</div>"
      ],
      "text/plain": [
       "     Idade      Salario     Genero Escolaridade  Score_Exame_Psicotecnico\n",
       "94      20  -619.478622  Masculino        Médio                      58.0\n",
       "358     21 -2984.433215  Masculino        Médio                      43.0\n",
       "380     20 -3254.849042      Outro        Médio                      50.0"
      ]
     },
     "execution_count": 30,
     "metadata": {},
     "output_type": "execute_result"
    }
   ],
   "source": [
    "df_dsa[df_dsa['Salario'] < 0]"
   ]
  },
  {
   "cell_type": "code",
   "execution_count": 31,
   "id": "f788b489-31ca-45b2-bc9f-66973200af99",
   "metadata": {},
   "outputs": [],
   "source": [
    "df_dsa['Salario'] = df_dsa['Salario'].apply(lambda x: x if x >= 0 else None)"
   ]
  },
  {
   "cell_type": "markdown",
   "id": "bcb84385-9f23-4f3a-8618-e00f38ad8d31",
   "metadata": {},
   "source": [
    "### Valores ausentes"
   ]
  },
  {
   "cell_type": "code",
   "execution_count": 32,
   "id": "d7e58108-24ae-4930-a8fa-d8d227ab72de",
   "metadata": {},
   "outputs": [
    {
     "data": {
      "image/png": "[encoded data removed]",
      "text/plain": [
       "<Figure size 1000x600 with 1 Axes>"
      ]
     },
     "metadata": {},
     "output_type": "display_data"
    }
   ],
   "source": [
    "msno.matrix(df_dsa, figsize = (10,6), sparkline= False)\n",
    "plt.show()"
   ]
  },
  {
   "cell_type": "code",
   "execution_count": 33,
   "id": "3acfe7aa-b631-4b66-bfd7-63c9bb90c1b6",
   "metadata": {},
   "outputs": [
    {
     "data": {
      "text/plain": [
       "Idade                        0\n",
       "Salario                     53\n",
       "Genero                       0\n",
       "Escolaridade                 0\n",
       "Score_Exame_Psicotecnico    30\n",
       "dtype: int64"
      ]
     },
     "execution_count": 33,
     "metadata": {},
     "output_type": "execute_result"
    }
   ],
   "source": [
    "df_dsa.isna().sum()"
   ]
  },
  {
   "cell_type": "code",
   "execution_count": 34,
   "id": "ca579bad-3380-43a3-83c5-eee04cb7ab05",
   "metadata": {},
   "outputs": [],
   "source": [
    "porcentagem_ausentes = (df_dsa.isna().mean() * 100).round(2)"
   ]
  },
  {
   "cell_type": "code",
   "execution_count": 35,
   "id": "a62cbd22-8d2b-4ef5-821c-2a4ab09f5900",
   "metadata": {},
   "outputs": [
    {
     "name": "stdout",
     "output_type": "stream",
     "text": [
      "Idade                        0.0\n",
      "Salario                     10.6\n",
      "Genero                       0.0\n",
      "Escolaridade                 0.0\n",
      "Score_Exame_Psicotecnico     6.0\n",
      "dtype: float64\n"
     ]
    }
   ],
   "source": [
    "print(porcentagem_ausentes)"
   ]
  },
  {
   "cell_type": "code",
   "execution_count": 36,
   "id": "ee00b66a-76c7-45a3-8a62-c089f77aed45",
   "metadata": {},
   "outputs": [
    {
     "data": {
      "text/html": [
       "<div>\n",
       "<style scoped>\n",
       "    .dataframe tbody tr th:only-of-type {\n",
       "        vertical-align: middle;\n",
       "    }\n",
       "\n",
       "    .dataframe tbody tr th {\n",
       "        vertical-align: top;\n",
       "    }\n",
       "\n",
       "    .dataframe thead th {\n",
       "        text-align: right;\n",
       "    }\n",
       "</style>\n",
       "<table border=\"1\" class=\"dataframe\">\n",
       "  <thead>\n",
       "    <tr style=\"text-align: right;\">\n",
       "      <th></th>\n",
       "      <th>Idade</th>\n",
       "      <th>Salario</th>\n",
       "      <th>Score_Exame_Psicotecnico</th>\n",
       "    </tr>\n",
       "  </thead>\n",
       "  <tbody>\n",
       "    <tr>\n",
       "      <th>count</th>\n",
       "      <td>500.000000</td>\n",
       "      <td>447.000000</td>\n",
       "      <td>470.000000</td>\n",
       "    </tr>\n",
       "    <tr>\n",
       "      <th>mean</th>\n",
       "      <td>42.848000</td>\n",
       "      <td>21410.761236</td>\n",
       "      <td>61.565957</td>\n",
       "    </tr>\n",
       "    <tr>\n",
       "      <th>std</th>\n",
       "      <td>13.189725</td>\n",
       "      <td>8122.541954</td>\n",
       "      <td>17.662523</td>\n",
       "    </tr>\n",
       "    <tr>\n",
       "      <th>min</th>\n",
       "      <td>20.000000</td>\n",
       "      <td>641.777499</td>\n",
       "      <td>20.000000</td>\n",
       "    </tr>\n",
       "    <tr>\n",
       "      <th>25%</th>\n",
       "      <td>31.750000</td>\n",
       "      <td>15261.441185</td>\n",
       "      <td>48.000000</td>\n",
       "    </tr>\n",
       "    <tr>\n",
       "      <th>50%</th>\n",
       "      <td>44.000000</td>\n",
       "      <td>21755.179258</td>\n",
       "      <td>61.000000</td>\n",
       "    </tr>\n",
       "    <tr>\n",
       "      <th>75%</th>\n",
       "      <td>54.000000</td>\n",
       "      <td>27394.875390</td>\n",
       "      <td>74.000000</td>\n",
       "    </tr>\n",
       "    <tr>\n",
       "      <th>max</th>\n",
       "      <td>65.000000</td>\n",
       "      <td>40845.107626</td>\n",
       "      <td>100.000000</td>\n",
       "    </tr>\n",
       "  </tbody>\n",
       "</table>\n",
       "</div>"
      ],
      "text/plain": [
       "            Idade       Salario  Score_Exame_Psicotecnico\n",
       "count  500.000000    447.000000                470.000000\n",
       "mean    42.848000  21410.761236                 61.565957\n",
       "std     13.189725   8122.541954                 17.662523\n",
       "min     20.000000    641.777499                 20.000000\n",
       "25%     31.750000  15261.441185                 48.000000\n",
       "50%     44.000000  21755.179258                 61.000000\n",
       "75%     54.000000  27394.875390                 74.000000\n",
       "max     65.000000  40845.107626                100.000000"
      ]
     },
     "execution_count": 36,
     "metadata": {},
     "output_type": "execute_result"
    }
   ],
   "source": [
    "df_dsa.describe()"
   ]
  },
  {
   "cell_type": "markdown",
   "id": "762643d7-f048-4c84-be5d-b0db88a26e09",
   "metadata": {},
   "source": [
    "## Estratégias de Tratamento de Valores Ausentes"
   ]
  },
  {
   "cell_type": "markdown",
   "id": "c7b906c2-51b3-470f-b3b5-5818a8f4fbc7",
   "metadata": {},
   "source": [
    "##### Quando você tem uma variável com valores ausentes, como nesse caso em que a variável \"salario\" tem 10% de valores ausentes, existem várias estratégias que você pode considerar para lidar com esses valores ausentes. A escolha da estratégia depende do contexto do seus dados e do objetivo da análise.\n",
    "##### Algumas das estratégias comuns incluem:\n",
    "##### Remoção de linhas: você pode optar por remover as linhas que contêm valores ausentes na coluna \"salario\". Isso é apropriado se a quantidade de dados faltantes for pequena for pequean em relação ao tamanho total do conjunto de dados e se a remoção não introduzir viés nos seus resultados. No entanto, essa estratégia pode levar à perda de informações:\n",
    "\n",
    "##### Preenchimento com um valor padrão: Dpendendo do contexto, você pode optar por preencher os valores ausentes com um valor padrão, como a média, a mediana ou um valor específico. Isso pode ser apropriado se você acredita que os valores ausentes não são críticos e que um valor padrão não afetará significativamente a análise.\n",
    "\n",
    "##### Preenchimento com base em outras variáveis: Às vezes, você pode usar informações de outras variáveis do dataset para preencher os valores ausentes de \"salario\". Por exemplo, você por preencher com a média dos salários de essoas com a mesma escolaridade ou o mesmo gênero.\n",
    "\n",
    "##### Modelo de previsão: Se a variável \"salario\" for importante e os valores ausentes não puderem ser facilmente preenchidos com médias ou valores padrão, você pode criar um modelo preditivo para estimar os valores ausentes com base em outras variáveis relevantes. Isso é mais complexo, mas pode ser uma abordagem poderosa se você tiver dados suficientes e a variável \"salario\" for fundamental para sua análise."
   ]
  },
  {
   "cell_type": "markdown",
   "id": "2677372e-8be1-4ca2-945e-4e8cf869e143",
   "metadata": {},
   "source": [
    "## Teste de noarmalidade para decidir a estratégia de tratamento de Valores Ausentes"
   ]
  },
  {
   "cell_type": "markdown",
   "id": "77c7efa7-5d3e-419b-af99-b90163722428",
   "metadata": {},
   "source": [
    "#### Só deve usar a média se a variável seguir uma distribuição normal, caso ao contrário deve se usar a mediana"
   ]
  },
  {
   "cell_type": "code",
   "execution_count": 46,
   "id": "fc7a539f-b74d-48a5-b7d3-67a46d93c516",
   "metadata": {},
   "outputs": [
    {
     "name": "stdout",
     "output_type": "stream",
     "text": [
      "Estatística de teste: nan\n",
      "Valor-p: nan\n",
      "A hipótese nula é confirmada (os dados não seguem uma distribuição normal).\n"
     ]
    }
   ],
   "source": [
    "from scipy import stats\n",
    "\n",
    "#Extraindo a série \"salário\"\n",
    "salario = df_dsa['Salario']\n",
    "\n",
    "#Aplique o teste de Shapiro-Wilk\n",
    "stat, p_valor = stats.shapiro(salario)\n",
    "\n",
    "print(f'Estatística de teste: {stat}')\n",
    "print(f'Valor-p: {p_valor}')\n",
    "\n",
    "# Verifique a hipótese nula com base no p-valor\n",
    "alfa = 0.05 # Nível de significância\n",
    "\n",
    "if p_valor > alfa:\n",
    "    print(\"Não há evidências para rejeitar a hipótese nula (os dados parecem seguir uma distribuição normal).\")\n",
    "else:\n",
    "    print(\"A hipótese nula é confirmada (os dados não seguem uma distribuição normal).\")\n"
   ]
  },
  {
   "cell_type": "markdown",
   "id": "0c01810b-9cb6-433f-8498-d76d237dc2ee",
   "metadata": {},
   "source": [
    "## Imputação Para Tratamento de Valores Ausentes"
   ]
  },
  {
   "cell_type": "code",
   "execution_count": 47,
   "id": "c7b97617-36f8-444a-a194-055698c2c857",
   "metadata": {},
   "outputs": [],
   "source": [
    "media_salario = df_dsa['Salario'].mean()"
   ]
  },
  {
   "cell_type": "code",
   "execution_count": 49,
   "id": "15f77548-949d-443a-841b-4758e56381bc",
   "metadata": {},
   "outputs": [],
   "source": [
    "df_dsa['Salario'].fillna(media_salario, inplace = True)"
   ]
  },
  {
   "cell_type": "code",
   "execution_count": 51,
   "id": "29f0fa39-7694-46da-aab8-d22682717fde",
   "metadata": {},
   "outputs": [
    {
     "data": {
      "text/plain": [
       "Idade                        0\n",
       "Salario                      0\n",
       "Genero                       0\n",
       "Escolaridade                 0\n",
       "Score_Exame_Psicotecnico    30\n",
       "dtype: int64"
      ]
     },
     "execution_count": 51,
     "metadata": {},
     "output_type": "execute_result"
    }
   ],
   "source": [
    "df_dsa.isna().sum()"
   ]
  },
  {
   "cell_type": "code",
   "execution_count": 52,
   "id": "97aef86d-d696-46d5-95b3-5e46f29ff71e",
   "metadata": {},
   "outputs": [
    {
     "name": "stdout",
     "output_type": "stream",
     "text": [
      "Estatística de teste: nan\n",
      "Valor-p: nan\n",
      "A hipótese nula é confirmada (os dados não seguem uma distribuição normal).\n"
     ]
    }
   ],
   "source": [
    "from scipy import stats\n",
    "\n",
    "#Extraindo a série \"salário\"\n",
    "score = df_dsa['Score_Exame_Psicotecnico']\n",
    "\n",
    "#Aplique o teste de Shapiro-Wilk\n",
    "stat, p_valor = stats.shapiro(score)\n",
    "\n",
    "print(f'Estatística de teste: {stat}')\n",
    "print(f'Valor-p: {p_valor}')\n",
    "\n",
    "# Verifique a hipótese nula com base no p-valor\n",
    "alfa = 0.05 # Nível de significância\n",
    "\n",
    "if p_valor < alfa:\n",
    "    print(\"Não há evidências para rejeitar a hipótese nula (os dados parecem seguir uma distribuição normal).\")\n",
    "else:\n",
    "    print(\"A hipótese nula é confirmada (os dados não seguem uma distribuição normal).\")\n"
   ]
  },
  {
   "cell_type": "code",
   "execution_count": 53,
   "id": "5482510b-f0e0-4aa8-a5d1-51730b4da7a9",
   "metadata": {},
   "outputs": [],
   "source": [
    "media_score = df_dsa['Score_Exame_Psicotecnico'].mean()"
   ]
  },
  {
   "cell_type": "code",
   "execution_count": 54,
   "id": "f48bd2e5-d7fc-41bf-a0e4-e41677c79c67",
   "metadata": {},
   "outputs": [],
   "source": [
    "df_dsa['Score_Exame_Psicotecnico'].fillna(media_score, inplace = True)"
   ]
  },
  {
   "cell_type": "code",
   "execution_count": 55,
   "id": "2ada53ac-d626-48b9-b425-5d307e036190",
   "metadata": {},
   "outputs": [
    {
     "data": {
      "text/plain": [
       "Idade                       0\n",
       "Salario                     0\n",
       "Genero                      0\n",
       "Escolaridade                0\n",
       "Score_Exame_Psicotecnico    0\n",
       "dtype: int64"
      ]
     },
     "execution_count": 55,
     "metadata": {},
     "output_type": "execute_result"
    }
   ],
   "source": [
    "df_dsa.isna().sum()"
   ]
  },
  {
   "cell_type": "markdown",
   "id": "f366de5b-74ca-477e-9e01-63f6d0c47857",
   "metadata": {},
   "source": [
    "## Teste Estatístico de Relação Entre Variável Quantitativa e Qualitativa"
   ]
  },
  {
   "cell_type": "code",
   "execution_count": 56,
   "id": "2713ebbf-7b57-4554-94d8-ab822395e951",
   "metadata": {},
   "outputs": [],
   "source": [
    "faixas_etarias = [0, 25, 35, 45, 55, float('inf')]"
   ]
  },
  {
   "cell_type": "code",
   "execution_count": 58,
   "id": "6712a9f9-34f4-469d-a3ad-ed402eed43e3",
   "metadata": {},
   "outputs": [],
   "source": [
    "rotulos_faixas = ['Menos de 25', '25-34', '35-44', '45-54', '55 ou mais']"
   ]
  },
  {
   "cell_type": "code",
   "execution_count": 59,
   "id": "21f4d81a-4f9a-4c93-9ba9-58cb4984dec9",
   "metadata": {},
   "outputs": [
    {
     "data": {
      "text/plain": [
       "['Menos de 25', '25-34', '35-44', '45-54', '55 ou mais']"
      ]
     },
     "execution_count": 59,
     "metadata": {},
     "output_type": "execute_result"
    }
   ],
   "source": [
    "rotulos_faixas"
   ]
  },
  {
   "cell_type": "code",
   "execution_count": 60,
   "id": "5b796146-4186-4237-9857-d6ecfc4d84c0",
   "metadata": {},
   "outputs": [],
   "source": [
    "df_dsa['Faixa_Etaria'] = pd.cut(df_dsa['Idade'], bins = faixas_etarias, labels = rotulos_faixas)"
   ]
  },
  {
   "cell_type": "code",
   "execution_count": 61,
   "id": "aca03554-fc8c-4d36-9726-7ac2a3d8f174",
   "metadata": {},
   "outputs": [
    {
     "data": {
      "text/html": [
       "<div>\n",
       "<style scoped>\n",
       "    .dataframe tbody tr th:only-of-type {\n",
       "        vertical-align: middle;\n",
       "    }\n",
       "\n",
       "    .dataframe tbody tr th {\n",
       "        vertical-align: top;\n",
       "    }\n",
       "\n",
       "    .dataframe thead th {\n",
       "        text-align: right;\n",
       "    }\n",
       "</style>\n",
       "<table border=\"1\" class=\"dataframe\">\n",
       "  <thead>\n",
       "    <tr style=\"text-align: right;\">\n",
       "      <th></th>\n",
       "      <th>Idade</th>\n",
       "      <th>Salario</th>\n",
       "      <th>Genero</th>\n",
       "      <th>Escolaridade</th>\n",
       "      <th>Score_Exame_Psicotecnico</th>\n",
       "      <th>Faixa_Etaria</th>\n",
       "    </tr>\n",
       "  </thead>\n",
       "  <tbody>\n",
       "    <tr>\n",
       "      <th>0</th>\n",
       "      <td>58</td>\n",
       "      <td>30404.959339</td>\n",
       "      <td>Masculino</td>\n",
       "      <td>Médio</td>\n",
       "      <td>56.000000</td>\n",
       "      <td>55 ou mais</td>\n",
       "    </tr>\n",
       "    <tr>\n",
       "      <th>1</th>\n",
       "      <td>48</td>\n",
       "      <td>20886.502401</td>\n",
       "      <td>Feminino</td>\n",
       "      <td>Médio</td>\n",
       "      <td>61.565957</td>\n",
       "      <td>45-54</td>\n",
       "    </tr>\n",
       "    <tr>\n",
       "      <th>2</th>\n",
       "      <td>34</td>\n",
       "      <td>15959.388748</td>\n",
       "      <td>Masculino</td>\n",
       "      <td>Médio</td>\n",
       "      <td>57.000000</td>\n",
       "      <td>25-34</td>\n",
       "    </tr>\n",
       "    <tr>\n",
       "      <th>3</th>\n",
       "      <td>62</td>\n",
       "      <td>28534.995327</td>\n",
       "      <td>Outro</td>\n",
       "      <td>Superior</td>\n",
       "      <td>68.000000</td>\n",
       "      <td>55 ou mais</td>\n",
       "    </tr>\n",
       "    <tr>\n",
       "      <th>4</th>\n",
       "      <td>27</td>\n",
       "      <td>10553.176215</td>\n",
       "      <td>Outro</td>\n",
       "      <td>Fundamental</td>\n",
       "      <td>44.000000</td>\n",
       "      <td>25-34</td>\n",
       "    </tr>\n",
       "  </tbody>\n",
       "</table>\n",
       "</div>"
      ],
      "text/plain": [
       "   Idade       Salario     Genero Escolaridade  Score_Exame_Psicotecnico  \\\n",
       "0     58  30404.959339  Masculino        Médio                 56.000000   \n",
       "1     48  20886.502401   Feminino        Médio                 61.565957   \n",
       "2     34  15959.388748  Masculino        Médio                 57.000000   \n",
       "3     62  28534.995327      Outro     Superior                 68.000000   \n",
       "4     27  10553.176215      Outro  Fundamental                 44.000000   \n",
       "\n",
       "  Faixa_Etaria  \n",
       "0   55 ou mais  \n",
       "1        45-54  \n",
       "2        25-34  \n",
       "3   55 ou mais  \n",
       "4        25-34  "
      ]
     },
     "execution_count": 61,
     "metadata": {},
     "output_type": "execute_result"
    }
   ],
   "source": [
    "df_dsa.head()"
   ]
  },
  {
   "cell_type": "code",
   "execution_count": 62,
   "id": "6a54c4ea-ac49-4c0c-be79-1b0432c656f0",
   "metadata": {},
   "outputs": [],
   "source": [
    "df_dsa.drop('Idade', axis = 1, inplace = True)"
   ]
  },
  {
   "cell_type": "code",
   "execution_count": 68,
   "id": "37abe840-5181-4dc7-a19b-bfb3d6f49ba6",
   "metadata": {},
   "outputs": [],
   "source": [
    "df_dsa['Salario'] = df_dsa['Salario'].round().astype(int)\n",
    "df_dsa['Score_Exame_Psicotecnico'] = df_dsa['Score_Exame_Psicotecnico'].round().astype(int)"
   ]
  },
  {
   "cell_type": "code",
   "execution_count": 69,
   "id": "72022edd-b623-4a34-be3c-b6e146e19bcb",
   "metadata": {},
   "outputs": [
    {
     "data": {
      "text/html": [
       "<div>\n",
       "<style scoped>\n",
       "    .dataframe tbody tr th:only-of-type {\n",
       "        vertical-align: middle;\n",
       "    }\n",
       "\n",
       "    .dataframe tbody tr th {\n",
       "        vertical-align: top;\n",
       "    }\n",
       "\n",
       "    .dataframe thead th {\n",
       "        text-align: right;\n",
       "    }\n",
       "</style>\n",
       "<table border=\"1\" class=\"dataframe\">\n",
       "  <thead>\n",
       "    <tr style=\"text-align: right;\">\n",
       "      <th></th>\n",
       "      <th>Salario</th>\n",
       "      <th>Genero</th>\n",
       "      <th>Escolaridade</th>\n",
       "      <th>Score_Exame_Psicotecnico</th>\n",
       "      <th>Faixa_Etaria</th>\n",
       "    </tr>\n",
       "  </thead>\n",
       "  <tbody>\n",
       "    <tr>\n",
       "      <th>0</th>\n",
       "      <td>30405</td>\n",
       "      <td>Masculino</td>\n",
       "      <td>Médio</td>\n",
       "      <td>56</td>\n",
       "      <td>55 ou mais</td>\n",
       "    </tr>\n",
       "    <tr>\n",
       "      <th>1</th>\n",
       "      <td>20887</td>\n",
       "      <td>Feminino</td>\n",
       "      <td>Médio</td>\n",
       "      <td>62</td>\n",
       "      <td>45-54</td>\n",
       "    </tr>\n",
       "    <tr>\n",
       "      <th>2</th>\n",
       "      <td>15959</td>\n",
       "      <td>Masculino</td>\n",
       "      <td>Médio</td>\n",
       "      <td>57</td>\n",
       "      <td>25-34</td>\n",
       "    </tr>\n",
       "    <tr>\n",
       "      <th>3</th>\n",
       "      <td>28535</td>\n",
       "      <td>Outro</td>\n",
       "      <td>Superior</td>\n",
       "      <td>68</td>\n",
       "      <td>55 ou mais</td>\n",
       "    </tr>\n",
       "    <tr>\n",
       "      <th>4</th>\n",
       "      <td>10553</td>\n",
       "      <td>Outro</td>\n",
       "      <td>Fundamental</td>\n",
       "      <td>44</td>\n",
       "      <td>25-34</td>\n",
       "    </tr>\n",
       "  </tbody>\n",
       "</table>\n",
       "</div>"
      ],
      "text/plain": [
       "   Salario     Genero Escolaridade  Score_Exame_Psicotecnico Faixa_Etaria\n",
       "0    30405  Masculino        Médio                        56   55 ou mais\n",
       "1    20887   Feminino        Médio                        62        45-54\n",
       "2    15959  Masculino        Médio                        57        25-34\n",
       "3    28535      Outro     Superior                        68   55 ou mais\n",
       "4    10553      Outro  Fundamental                        44        25-34"
      ]
     },
     "execution_count": 69,
     "metadata": {},
     "output_type": "execute_result"
    }
   ],
   "source": [
    "df_dsa.head()"
   ]
  },
  {
   "cell_type": "code",
   "execution_count": 70,
   "id": "281c9228-ba0b-4094-9a7e-09534002625a",
   "metadata": {},
   "outputs": [
    {
     "name": "stderr",
     "output_type": "stream",
     "text": [
      "C:\\Users\\mateus.barboza\\AppData\\Local\\Temp\\ipykernel_21628\\39433774.py:1: FutureWarning: The default of observed=False is deprecated and will be changed to True in a future version of pandas. Pass observed=False to retain current behavior or observed=True to adopt the future default and silence this warning.\n",
      "  media_salario_por_faixa_etaria = df_dsa.groupby('Faixa_Etaria')['Salario'].mean()\n"
     ]
    },
    {
     "data": {
      "text/plain": [
       "Faixa_Etaria\n",
       "Menos de 25    13108.633803\n",
       "25-34          14945.184783\n",
       "35-44          20980.654545\n",
       "45-54          24736.491935\n",
       "55 ou mais     29364.359223\n",
       "Name: Salario, dtype: float64"
      ]
     },
     "execution_count": 70,
     "metadata": {},
     "output_type": "execute_result"
    }
   ],
   "source": [
    "media_salario_por_faixa_etaria = df_dsa.groupby('Faixa_Etaria')['Salario'].mean()\n",
    "media_salario_por_faixa_etaria"
   ]
  },
  {
   "cell_type": "code",
   "execution_count": 71,
   "id": "b2f354f8-fd64-42a7-9f7f-4ee76752ecb9",
   "metadata": {},
   "outputs": [
    {
     "name": "stderr",
     "output_type": "stream",
     "text": [
      "C:\\Users\\mateus.barboza\\AppData\\Local\\Temp\\ipykernel_21628\\1961640263.py:1: FutureWarning: The default of observed=False is deprecated and will be changed to True in a future version of pandas. Pass observed=False to retain current behavior or observed=True to adopt the future default and silence this warning.\n",
      "  median_salario_por_faixa_etaria = df_dsa.groupby('Faixa_Etaria')['Salario'].median()\n"
     ]
    },
    {
     "data": {
      "text/plain": [
       "Faixa_Etaria\n",
       "Menos de 25    12433.0\n",
       "25-34          15387.5\n",
       "35-44          21411.0\n",
       "45-54          24283.0\n",
       "55 ou mais     29345.0\n",
       "Name: Salario, dtype: float64"
      ]
     },
     "execution_count": 71,
     "metadata": {},
     "output_type": "execute_result"
    }
   ],
   "source": [
    "median_salario_por_faixa_etaria = df_dsa.groupby('Faixa_Etaria')['Salario'].median()\n",
    "median_salario_por_faixa_etaria"
   ]
  },
  {
   "cell_type": "code",
   "execution_count": 72,
   "id": "c2161f7e-9c27-43c8-9cce-98550627dac1",
   "metadata": {},
   "outputs": [
    {
     "data": {
      "image/png": "[encoded data removed]",
      "text/plain": [
       "<Figure size 640x480 with 1 Axes>"
      ]
     },
     "metadata": {},
     "output_type": "display_data"
    }
   ],
   "source": [
    "sns.boxplot(x = 'Faixa_Etaria', y = 'Salario', data = df_dsa)\n",
    "plt.xticks(rotation = 45)\n",
    "plt.show()"
   ]
  },
  {
   "cell_type": "code",
   "execution_count": 88,
   "id": "80cc3521-37c5-4a1f-883c-f204e79d023f",
   "metadata": {},
   "outputs": [
    {
     "name": "stdout",
     "output_type": "stream",
     "text": [
      "Há evidências de diferenças significativas nas médias de salário entre as faixas etárias.\n"
     ]
    },
    {
     "name": "stderr",
     "output_type": "stream",
     "text": [
      "C:\\Users\\mateus.barboza\\AppData\\Local\\Temp\\ipykernel_21628\\1964875710.py:3: FutureWarning: The default of observed=False is deprecated and will be changed to True in a future version of pandas. Pass observed=False to retain current behavior or observed=True to adopt the future default and silence this warning.\n",
      "  resultado_anova = stats.f_oneway(*[grupo['Salario'] for nome, grupo in df_dsa.groupby('Faixa_Etaria')])\n"
     ]
    }
   ],
   "source": [
    "import scipy.stats as stats\n",
    "\n",
    "resultado_anova = stats.f_oneway(*[grupo['Salario'] for nome, grupo in df_dsa.groupby('Faixa_Etaria')])\n",
    "\n",
    "if resultado_anova.pvalue > 0.05:\n",
    "    print('Não há evidências de diferenças significativas nas médias de salário entre as faixas etárias.')\n",
    "else:\n",
    "    print('Há evidências de diferenças significativas nas médias de salário entre as faixas etárias.')"
   ]
  },
  {
   "cell_type": "code",
   "execution_count": 89,
   "id": "8c225115-6412-4dd0-bc11-022c7769259f",
   "metadata": {},
   "outputs": [
    {
     "name": "stderr",
     "output_type": "stream",
     "text": [
      "C:\\Users\\mateus.barboza\\AppData\\Local\\Temp\\ipykernel_21628\\2227538497.py:1: FutureWarning: The default of observed=False is deprecated and will be changed to True in a future version of pandas. Pass observed=False to retain current behavior or observed=True to adopt the future default and silence this warning.\n",
      "  nome, grupo in df_dsa.groupby('Faixa_Etaria')\n"
     ]
    },
    {
     "data": {
      "text/plain": [
       "(     Salario     Genero Escolaridade  Score_Exame_Psicotecnico Faixa_Etaria\n",
       " 0      30405  Masculino        Médio                        56   55 ou mais\n",
       " 3      28535      Outro     Superior                        68   55 ou mais\n",
       " 6      30785  Masculino        Médio                        53   55 ou mais\n",
       " 13     26699      Outro        Médio                        60   55 ou mais\n",
       " 19     28542   Feminino     Superior                       100   55 ou mais\n",
       " ..       ...        ...          ...                       ...          ...\n",
       " 476    37746  Masculino  Fundamental                        33   55 ou mais\n",
       " 491    34103      Outro  Fundamental                        60   55 ou mais\n",
       " 492    28889   Feminino        Médio                        43   55 ou mais\n",
       " 497    34904   Feminino        Médio                        80   55 ou mais\n",
       " 499    33296      Outro  Fundamental                        62   55 ou mais\n",
       " \n",
       " [103 rows x 5 columns],\n",
       " False)"
      ]
     },
     "execution_count": 89,
     "metadata": {},
     "output_type": "execute_result"
    }
   ],
   "source": [
    "nome, grupo in df_dsa.groupby('Faixa_Etaria')\n"
   ]
  },
  {
   "cell_type": "code",
   "execution_count": null,
   "id": "0e7fb90b-c7cc-4b84-be9c-8ec9cdb6afec",
   "metadata": {},
   "outputs": [],
   "source": []
  }
 ],
 "metadata": {
  "kernelspec": {
   "display_name": "Python 3 (ipykernel)",
   "language": "python",
   "name": "python3"
  },
  "language_info": {
   "codemirror_mode": {
    "name": "ipython",
    "version": 3
   },
   "file_extension": ".py",
   "mimetype": "text/x-python",
   "name": "python",
   "nbconvert_exporter": "python",
   "pygments_lexer": "ipython3",
   "version": "3.12.7"
  }
 },
 "nbformat": 4,
 "nbformat_minor": 5
}
