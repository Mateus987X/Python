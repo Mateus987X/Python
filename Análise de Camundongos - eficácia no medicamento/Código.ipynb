{
 "cells": [
  {
   "cell_type": "code",
   "execution_count": 1,
   "id": "0fa4f94e-50ce-4400-9e8b-0ca5b9dd3540",
   "metadata": {},
   "outputs": [],
   "source": [
    "import numpy as np\n",
    "import pandas as pd\n",
    "import matplotlib.pyplot as plt\n",
    "import scipy.stats as st\n",
    "import warnings\n",
    "warnings.filterwarnings('ignore')"
   ]
  },
  {
   "cell_type": "code",
   "execution_count": 2,
   "id": "00a57ea6-ba77-4196-bae0-ebc99d7e4887",
   "metadata": {},
   "outputs": [
    {
     "name": "stdout",
     "output_type": "stream",
     "text": [
      "Author: Mateus Pereira Barboza\n",
      "\n"
     ]
    }
   ],
   "source": [
    "%reload_ext watermark\n",
    "%watermark -a \"Mateus Pereira Barboza\""
   ]
  },
  {
   "cell_type": "markdown",
   "id": "d752b78e-c2f9-4164-a6dc-4602ebb39e97",
   "metadata": {},
   "source": [
    ">Este  dataset  contém  o  registro  de  um  experimento  clínico  envolvendo  camundongos, com o objetivo de testar a eficácia de diferentes medicamentos no tratamento ou controle do crescimento de tumores. Cada linha do dataset representa uma observação ou medição de um camundongo  em  um  determinado  momento  durante  o  estudo. "
   ]
  },
  {
   "cell_type": "markdown",
   "id": "7d69f011-5e7f-4b72-98a8-128b7721a940",
   "metadata": {},
   "source": [
    "# Análise exploratória"
   ]
  },
  {
   "cell_type": "code",
   "execution_count": 3,
   "id": "35b1fb4e-c9e5-46b1-a4cd-f194ac63f6d1",
   "metadata": {},
   "outputs": [],
   "source": [
    "dados = pd.read_csv('dataset.csv')"
   ]
  },
  {
   "cell_type": "code",
   "execution_count": 4,
   "id": "0b2dc57e-c74a-46af-8d21-736a29f0e2e8",
   "metadata": {},
   "outputs": [
    {
     "data": {
      "text/plain": [
       "(500, 8)"
      ]
     },
     "execution_count": 4,
     "metadata": {},
     "output_type": "execute_result"
    }
   ],
   "source": [
    "dados.shape"
   ]
  },
  {
   "cell_type": "code",
   "execution_count": 5,
   "id": "47b2af7b-5a3a-4a0e-9253-1c50dec149d4",
   "metadata": {},
   "outputs": [
    {
     "data": {
      "text/html": [
       "<div>\n",
       "<style scoped>\n",
       "    .dataframe tbody tr th:only-of-type {\n",
       "        vertical-align: middle;\n",
       "    }\n",
       "\n",
       "    .dataframe tbody tr th {\n",
       "        vertical-align: top;\n",
       "    }\n",
       "\n",
       "    .dataframe thead th {\n",
       "        text-align: right;\n",
       "    }\n",
       "</style>\n",
       "<table border=\"1\" class=\"dataframe\">\n",
       "  <thead>\n",
       "    <tr style=\"text-align: right;\">\n",
       "      <th></th>\n",
       "      <th>ID Mouse</th>\n",
       "      <th>Medicamento</th>\n",
       "      <th>Sexo</th>\n",
       "      <th>Idade_Meses</th>\n",
       "      <th>Peso (g)</th>\n",
       "      <th>Timepoint</th>\n",
       "      <th>Tumor Volume (mm3)</th>\n",
       "      <th>Sitios Metastáticos</th>\n",
       "    </tr>\n",
       "  </thead>\n",
       "  <tbody>\n",
       "    <tr>\n",
       "      <th>0</th>\n",
       "      <td>m000</td>\n",
       "      <td>Placebo</td>\n",
       "      <td>Masculino</td>\n",
       "      <td>18</td>\n",
       "      <td>21</td>\n",
       "      <td>0</td>\n",
       "      <td>45.780350</td>\n",
       "      <td>2</td>\n",
       "    </tr>\n",
       "    <tr>\n",
       "      <th>1</th>\n",
       "      <td>m000</td>\n",
       "      <td>Ramicane</td>\n",
       "      <td>Masculino</td>\n",
       "      <td>24</td>\n",
       "      <td>17</td>\n",
       "      <td>5</td>\n",
       "      <td>42.728114</td>\n",
       "      <td>0</td>\n",
       "    </tr>\n",
       "    <tr>\n",
       "      <th>2</th>\n",
       "      <td>m000</td>\n",
       "      <td>Ramicane</td>\n",
       "      <td>Feminino</td>\n",
       "      <td>19</td>\n",
       "      <td>23</td>\n",
       "      <td>10</td>\n",
       "      <td>40.827502</td>\n",
       "      <td>1</td>\n",
       "    </tr>\n",
       "    <tr>\n",
       "      <th>3</th>\n",
       "      <td>m000</td>\n",
       "      <td>Capomulin</td>\n",
       "      <td>Feminino</td>\n",
       "      <td>21</td>\n",
       "      <td>23</td>\n",
       "      <td>15</td>\n",
       "      <td>38.578206</td>\n",
       "      <td>2</td>\n",
       "    </tr>\n",
       "    <tr>\n",
       "      <th>4</th>\n",
       "      <td>m000</td>\n",
       "      <td>Infubinol</td>\n",
       "      <td>Masculino</td>\n",
       "      <td>12</td>\n",
       "      <td>17</td>\n",
       "      <td>20</td>\n",
       "      <td>35.094393</td>\n",
       "      <td>2</td>\n",
       "    </tr>\n",
       "  </tbody>\n",
       "</table>\n",
       "</div>"
      ],
      "text/plain": [
       "  ID Mouse Medicamento       Sexo  Idade_Meses  Peso (g)  Timepoint  \\\n",
       "0     m000     Placebo  Masculino           18        21          0   \n",
       "1     m000    Ramicane  Masculino           24        17          5   \n",
       "2     m000    Ramicane   Feminino           19        23         10   \n",
       "3     m000   Capomulin   Feminino           21        23         15   \n",
       "4     m000   Infubinol  Masculino           12        17         20   \n",
       "\n",
       "   Tumor Volume (mm3)  Sitios Metastáticos  \n",
       "0           45.780350                    2  \n",
       "1           42.728114                    0  \n",
       "2           40.827502                    1  \n",
       "3           38.578206                    2  \n",
       "4           35.094393                    2  "
      ]
     },
     "execution_count": 5,
     "metadata": {},
     "output_type": "execute_result"
    }
   ],
   "source": [
    "dados.head()"
   ]
  },
  {
   "cell_type": "code",
   "execution_count": 6,
   "id": "5056e128-f176-4ca3-9fc7-be891ce167c8",
   "metadata": {},
   "outputs": [
    {
     "name": "stdout",
     "output_type": "stream",
     "text": [
      "<class 'pandas.core.frame.DataFrame'>\n",
      "RangeIndex: 500 entries, 0 to 499\n",
      "Data columns (total 8 columns):\n",
      " #   Column               Non-Null Count  Dtype  \n",
      "---  ------               --------------  -----  \n",
      " 0   ID Mouse             500 non-null    object \n",
      " 1   Medicamento          500 non-null    object \n",
      " 2   Sexo                 500 non-null    object \n",
      " 3   Idade_Meses          500 non-null    int64  \n",
      " 4   Peso (g)             500 non-null    int64  \n",
      " 5   Timepoint            500 non-null    int64  \n",
      " 6   Tumor Volume (mm3)   500 non-null    float64\n",
      " 7   Sitios Metastáticos  500 non-null    int64  \n",
      "dtypes: float64(1), int64(4), object(3)\n",
      "memory usage: 31.4+ KB\n"
     ]
    }
   ],
   "source": [
    "dados.info()"
   ]
  },
  {
   "cell_type": "markdown",
   "id": "0614a297-f839-4870-8a47-4a428d08bc24",
   "metadata": {},
   "source": [
    "## Limpeza inicial dos Dados"
   ]
  },
  {
   "cell_type": "code",
   "execution_count": 7,
   "id": "17355f94-293f-4e93-8d36-17d32cb4da8a",
   "metadata": {},
   "outputs": [
    {
     "data": {
      "text/plain": [
       "Index(['ID Mouse', 'Medicamento', 'Sexo', 'Idade_Meses', 'Peso (g)',\n",
       "       'Timepoint', 'Tumor Volume (mm3)', 'Sitios Metastáticos'],\n",
       "      dtype='object')"
      ]
     },
     "execution_count": 7,
     "metadata": {},
     "output_type": "execute_result"
    }
   ],
   "source": [
    "dados.columns"
   ]
  },
  {
   "cell_type": "code",
   "execution_count": 8,
   "id": "92543dd9-a146-4f18-8300-7fbfbd7d56c7",
   "metadata": {},
   "outputs": [
    {
     "data": {
      "text/plain": [
       "100"
      ]
     },
     "execution_count": 8,
     "metadata": {},
     "output_type": "execute_result"
    }
   ],
   "source": [
    "dados[\"ID Mouse\"].nunique()"
   ]
  },
  {
   "cell_type": "code",
   "execution_count": 9,
   "id": "e0f95e05-de62-4b34-9cc1-4d899e0fefe9",
   "metadata": {},
   "outputs": [
    {
     "data": {
      "text/plain": [
       "ID Mouse               False\n",
       "Medicamento            False\n",
       "Sexo                   False\n",
       "Idade_Meses            False\n",
       "Peso (g)               False\n",
       "Timepoint              False\n",
       "Tumor Volume (mm3)     False\n",
       "Sitios Metastáticos    False\n",
       "dtype: bool"
      ]
     },
     "execution_count": 9,
     "metadata": {},
     "output_type": "execute_result"
    }
   ],
   "source": [
    "dados.isna().any()"
   ]
  },
  {
   "cell_type": "code",
   "execution_count": 10,
   "id": "47bf070a-8102-4fbe-8656-4c6f2c31cfba",
   "metadata": {},
   "outputs": [],
   "source": [
    "#Extrai duplicatas na combinação \"ID Mouse\" e \"Timepoint\" (se houver)\n",
    "ID_duplicado = dados.loc[dados.duplicated(subset = [\"ID Mouse\", \"Timepoint\"]), \"ID Mouse\"].unique()\n",
    "\n",
    "#Removendo duplicadas de ID\n",
    "dados = dados[dados[\"ID Mouse\"].isin(ID_duplicado) == False]"
   ]
  },
  {
   "cell_type": "code",
   "execution_count": 11,
   "id": "04c4c251-802e-4661-9f06-a5a3870bf4ac",
   "metadata": {},
   "outputs": [
    {
     "data": {
      "text/plain": [
       "(500, 8)"
      ]
     },
     "execution_count": 11,
     "metadata": {},
     "output_type": "execute_result"
    }
   ],
   "source": [
    "dados.shape"
   ]
  },
  {
   "cell_type": "markdown",
   "id": "b7b22df3-ed14-4eb5-9306-b52a1906eb05",
   "metadata": {},
   "source": [
    "## Sumário Estatístico"
   ]
  },
  {
   "cell_type": "code",
   "execution_count": 12,
   "id": "77546e40-8dc9-4080-a5b2-b5d1183793f3",
   "metadata": {},
   "outputs": [],
   "source": [
    "# Agrupamento pelo Medicamento e filtro pela variável \"Tumor Volume (mm3)\"\n",
    "dados_group = dados.groupby(\"Medicamento\")[\"Tumor Volume (mm3)\"]"
   ]
  },
  {
   "cell_type": "code",
   "execution_count": 13,
   "id": "8ca947c7-86dc-466b-86f3-c50a8e85013f",
   "metadata": {},
   "outputs": [],
   "source": [
    "#Calculos estatísticos\n",
    "media = dados_group.mean()\n",
    "mediana = dados_group.median()\n",
    "variancia = dados_group.var()\n",
    "desvio_p = dados_group.std()\n",
    "sem = dados_group.sem()"
   ]
  },
  {
   "cell_type": "code",
   "execution_count": 14,
   "id": "352d6677-5afa-421a-a582-7f39ed9b0ae6",
   "metadata": {},
   "outputs": [],
   "source": [
    "#Sumário\n",
    "dados_sumario = pd.DataFrame({\"Média\": media,\n",
    "                                \"Mediana\": mediana,\n",
    "                                \"Variância\": variancia,\n",
    "                                \"Desvio Padrão\": desvio_p,\n",
    "                                \"SEM\": sem})"
   ]
  },
  {
   "cell_type": "code",
   "execution_count": 15,
   "id": "c2044570-c871-4eb9-b360-3a454e285003",
   "metadata": {},
   "outputs": [
    {
     "data": {
      "text/html": [
       "<div>\n",
       "<style scoped>\n",
       "    .dataframe tbody tr th:only-of-type {\n",
       "        vertical-align: middle;\n",
       "    }\n",
       "\n",
       "    .dataframe tbody tr th {\n",
       "        vertical-align: top;\n",
       "    }\n",
       "\n",
       "    .dataframe thead th {\n",
       "        text-align: right;\n",
       "    }\n",
       "</style>\n",
       "<table border=\"1\" class=\"dataframe\">\n",
       "  <thead>\n",
       "    <tr style=\"text-align: right;\">\n",
       "      <th></th>\n",
       "      <th>Média</th>\n",
       "      <th>Mediana</th>\n",
       "      <th>Variância</th>\n",
       "      <th>Desvio Padrão</th>\n",
       "      <th>SEM</th>\n",
       "    </tr>\n",
       "    <tr>\n",
       "      <th>Medicamento</th>\n",
       "      <th></th>\n",
       "      <th></th>\n",
       "      <th></th>\n",
       "      <th></th>\n",
       "      <th></th>\n",
       "    </tr>\n",
       "  </thead>\n",
       "  <tbody>\n",
       "    <tr>\n",
       "      <th>Capomulin</th>\n",
       "      <td>39.952874</td>\n",
       "      <td>40.162141</td>\n",
       "      <td>19.485353</td>\n",
       "      <td>4.414222</td>\n",
       "      <td>0.396409</td>\n",
       "    </tr>\n",
       "    <tr>\n",
       "      <th>Infubinol</th>\n",
       "      <td>39.527638</td>\n",
       "      <td>39.598429</td>\n",
       "      <td>22.306899</td>\n",
       "      <td>4.723018</td>\n",
       "      <td>0.436643</td>\n",
       "    </tr>\n",
       "    <tr>\n",
       "      <th>Placebo</th>\n",
       "      <td>40.204385</td>\n",
       "      <td>40.072851</td>\n",
       "      <td>22.427712</td>\n",
       "      <td>4.735790</td>\n",
       "      <td>0.421898</td>\n",
       "    </tr>\n",
       "    <tr>\n",
       "      <th>Ramicane</th>\n",
       "      <td>40.437902</td>\n",
       "      <td>40.682981</td>\n",
       "      <td>16.588849</td>\n",
       "      <td>4.072941</td>\n",
       "      <td>0.353169</td>\n",
       "    </tr>\n",
       "  </tbody>\n",
       "</table>\n",
       "</div>"
      ],
      "text/plain": [
       "                 Média    Mediana  Variância  Desvio Padrão       SEM\n",
       "Medicamento                                                          \n",
       "Capomulin    39.952874  40.162141  19.485353       4.414222  0.396409\n",
       "Infubinol    39.527638  39.598429  22.306899       4.723018  0.436643\n",
       "Placebo      40.204385  40.072851  22.427712       4.735790  0.421898\n",
       "Ramicane     40.437902  40.682981  16.588849       4.072941  0.353169"
      ]
     },
     "execution_count": 15,
     "metadata": {},
     "output_type": "execute_result"
    }
   ],
   "source": [
    "dados_sumario"
   ]
  },
  {
   "cell_type": "code",
   "execution_count": 16,
   "id": "0b873016-0c35-41ab-97b3-3c4d1b475866",
   "metadata": {},
   "outputs": [],
   "source": [
    "#Alternativa para sumário\n",
    "dados_sumario2 = dados_group.agg([\"mean\", \"median\", \"var\", \"std\", \"sem\"])"
   ]
  },
  {
   "cell_type": "code",
   "execution_count": 17,
   "id": "ff38bbeb-4214-44f4-97d4-4478a6369848",
   "metadata": {},
   "outputs": [
    {
     "data": {
      "text/html": [
       "<div>\n",
       "<style scoped>\n",
       "    .dataframe tbody tr th:only-of-type {\n",
       "        vertical-align: middle;\n",
       "    }\n",
       "\n",
       "    .dataframe tbody tr th {\n",
       "        vertical-align: top;\n",
       "    }\n",
       "\n",
       "    .dataframe thead th {\n",
       "        text-align: right;\n",
       "    }\n",
       "</style>\n",
       "<table border=\"1\" class=\"dataframe\">\n",
       "  <thead>\n",
       "    <tr style=\"text-align: right;\">\n",
       "      <th></th>\n",
       "      <th>mean</th>\n",
       "      <th>median</th>\n",
       "      <th>var</th>\n",
       "      <th>std</th>\n",
       "      <th>sem</th>\n",
       "    </tr>\n",
       "    <tr>\n",
       "      <th>Medicamento</th>\n",
       "      <th></th>\n",
       "      <th></th>\n",
       "      <th></th>\n",
       "      <th></th>\n",
       "      <th></th>\n",
       "    </tr>\n",
       "  </thead>\n",
       "  <tbody>\n",
       "    <tr>\n",
       "      <th>Capomulin</th>\n",
       "      <td>39.952874</td>\n",
       "      <td>40.162141</td>\n",
       "      <td>19.485353</td>\n",
       "      <td>4.414222</td>\n",
       "      <td>0.396409</td>\n",
       "    </tr>\n",
       "    <tr>\n",
       "      <th>Infubinol</th>\n",
       "      <td>39.527638</td>\n",
       "      <td>39.598429</td>\n",
       "      <td>22.306899</td>\n",
       "      <td>4.723018</td>\n",
       "      <td>0.436643</td>\n",
       "    </tr>\n",
       "    <tr>\n",
       "      <th>Placebo</th>\n",
       "      <td>40.204385</td>\n",
       "      <td>40.072851</td>\n",
       "      <td>22.427712</td>\n",
       "      <td>4.735790</td>\n",
       "      <td>0.421898</td>\n",
       "    </tr>\n",
       "    <tr>\n",
       "      <th>Ramicane</th>\n",
       "      <td>40.437902</td>\n",
       "      <td>40.682981</td>\n",
       "      <td>16.588849</td>\n",
       "      <td>4.072941</td>\n",
       "      <td>0.353169</td>\n",
       "    </tr>\n",
       "  </tbody>\n",
       "</table>\n",
       "</div>"
      ],
      "text/plain": [
       "                  mean     median        var       std       sem\n",
       "Medicamento                                                     \n",
       "Capomulin    39.952874  40.162141  19.485353  4.414222  0.396409\n",
       "Infubinol    39.527638  39.598429  22.306899  4.723018  0.436643\n",
       "Placebo      40.204385  40.072851  22.427712  4.735790  0.421898\n",
       "Ramicane     40.437902  40.682981  16.588849  4.072941  0.353169"
      ]
     },
     "execution_count": 17,
     "metadata": {},
     "output_type": "execute_result"
    }
   ],
   "source": [
    "dados_sumario2"
   ]
  },
  {
   "cell_type": "markdown",
   "id": "5f42d909-30ca-4fbb-9a06-4c406a2124b1",
   "metadata": {},
   "source": [
    "## Análise exploratória com gráfico"
   ]
  },
  {
   "cell_type": "code",
   "execution_count": 18,
   "id": "330b97ff-5153-4c75-827e-29925bea1977",
   "metadata": {},
   "outputs": [
    {
     "data": {
      "text/plain": [
       "Medicamento\n",
       "Ramicane     133\n",
       "Placebo      126\n",
       "Capomulin    124\n",
       "Infubinol    117\n",
       "Name: count, dtype: int64"
      ]
     },
     "execution_count": 18,
     "metadata": {},
     "output_type": "execute_result"
    }
   ],
   "source": [
    "#Registro por Medicamento\n",
    "dados['Medicamento'].value_counts()"
   ]
  },
  {
   "cell_type": "code",
   "execution_count": 19,
   "id": "e74e3f9b-5351-475d-b050-fff33bf9de3d",
   "metadata": {},
   "outputs": [
    {
     "data": {
      "image/png": "[encoded data removed]",
      "text/plain": [
       "<Figure size 1200x500 with 1 Axes>"
      ]
     },
     "metadata": {},
     "output_type": "display_data"
    }
   ],
   "source": [
    "# Número de Testes por Medicamento\n",
    "plt.figure(figsize = (12,5))\n",
    "x_axis = dados['Medicamento'].value_counts().index.values\n",
    "y_axis = dados['Medicamento'].value_counts().values\n",
    "plt.bar(x_axis, y_axis, color = \"Green\")\n",
    "plt.title(\"Número de Testes Por Medicamento\")\n",
    "plt.xlabel(\"Medicamento\")\n",
    "plt.ylabel(\"Número de Testes\")\n",
    "plt.grid(alpha = 0.4)\n",
    "plt.xticks(rotation = 45)\n",
    "plt.show()"
   ]
  },
  {
   "cell_type": "code",
   "execution_count": 20,
   "id": "0203dde3-9494-428d-92ab-4bfe4141e36f",
   "metadata": {},
   "outputs": [
    {
     "data": {
      "image/png": "[encoded data removed]",
      "text/plain": [
       "<Figure size 1600x800 with 1 Axes>"
      ]
     },
     "metadata": {},
     "output_type": "display_data"
    }
   ],
   "source": [
    "# Média do Volume do Tumor por Faixa Etária\n",
    "\n",
    "#Faixas etárias\n",
    "bins = [0, 6, 12, 18, 24, 30]\n",
    "labels = ['0-6 meses', '6-12 meses', '12-18 meses', '18-24 meses', '24 meses ou mais']\n",
    "\n",
    "#Divide as faixas\n",
    "dados['faixa_etaria'] = pd.cut(dados['Idade_Meses'],\n",
    "                               bins = bins,\n",
    "                               labels = labels,\n",
    "                               right = False)\n",
    "\n",
    "#Média por Faixa etária\n",
    "media_tumor = dados.groupby('faixa_etaria')['Tumor Volume (mm3)'].mean().reset_index()\n",
    "\n",
    "#Criando o gráfico\n",
    "import seaborn as sns\n",
    "plt.figure(figsize = (16,8))\n",
    "fig = sns.barplot(x = 'faixa_etaria', y = 'Tumor Volume (mm3)', data = media_tumor)\n",
    "plt.title('Média do Volume do Tumor por Faixa Etária')\n",
    "plt.xlabel('\\nFaixa Etária')\n",
    "plt.ylabel('Média do Volume do Tumor (mm3)')\n",
    "\n",
    "for p in fig.patches:\n",
    "    fig.annotate('{:0f}'.format(p.get_height()),\n",
    "                  (p.get_x() + 0.2, p.get_height()),\n",
    "                  ha = 'center',\n",
    "                  va = 'bottom',\n",
    "                  fontsize = 14,\n",
    "                  color = 'black')\n",
    "\n",
    "plt.show()"
   ]
  },
  {
   "cell_type": "code",
   "execution_count": 21,
   "id": "ce052780-7e2e-4bb2-80f8-5109c0e922bc",
   "metadata": {},
   "outputs": [
    {
     "data": {
      "text/html": [
       "<div>\n",
       "<style scoped>\n",
       "    .dataframe tbody tr th:only-of-type {\n",
       "        vertical-align: middle;\n",
       "    }\n",
       "\n",
       "    .dataframe tbody tr th {\n",
       "        vertical-align: top;\n",
       "    }\n",
       "\n",
       "    .dataframe thead th {\n",
       "        text-align: right;\n",
       "    }\n",
       "</style>\n",
       "<table border=\"1\" class=\"dataframe\">\n",
       "  <thead>\n",
       "    <tr style=\"text-align: right;\">\n",
       "      <th></th>\n",
       "      <th>faixa_etaria</th>\n",
       "      <th>Tumor Volume (mm3)</th>\n",
       "    </tr>\n",
       "  </thead>\n",
       "  <tbody>\n",
       "    <tr>\n",
       "      <th>0</th>\n",
       "      <td>0-6 meses</td>\n",
       "      <td>39.983132</td>\n",
       "    </tr>\n",
       "    <tr>\n",
       "      <th>1</th>\n",
       "      <td>6-12 meses</td>\n",
       "      <td>40.218635</td>\n",
       "    </tr>\n",
       "    <tr>\n",
       "      <th>2</th>\n",
       "      <td>12-18 meses</td>\n",
       "      <td>40.281495</td>\n",
       "    </tr>\n",
       "    <tr>\n",
       "      <th>3</th>\n",
       "      <td>18-24 meses</td>\n",
       "      <td>40.013284</td>\n",
       "    </tr>\n",
       "    <tr>\n",
       "      <th>4</th>\n",
       "      <td>24 meses ou mais</td>\n",
       "      <td>38.213402</td>\n",
       "    </tr>\n",
       "  </tbody>\n",
       "</table>\n",
       "</div>"
      ],
      "text/plain": [
       "       faixa_etaria  Tumor Volume (mm3)\n",
       "0         0-6 meses           39.983132\n",
       "1        6-12 meses           40.218635\n",
       "2       12-18 meses           40.281495\n",
       "3       18-24 meses           40.013284\n",
       "4  24 meses ou mais           38.213402"
      ]
     },
     "execution_count": 21,
     "metadata": {},
     "output_type": "execute_result"
    }
   ],
   "source": [
    "dados.groupby('faixa_etaria')['Tumor Volume (mm3)'].mean().reset_index()"
   ]
  },
  {
   "cell_type": "markdown",
   "id": "d3f046cd-ca91-401c-bea9-c1d3cd607e96",
   "metadata": {},
   "source": [
    "## Quartis, Outliers e Boxplots\n",
    "\n",
    "Quartis são valores que dividem um conjunto de dados em quatro partes iguais. O primeiro quartil (Q1) é o valor que separa os 25% menores dados dos demais, o segundo quartil (Q2) ou mediana divide os dados ao meio, e o terceiro quartil (Q3) separa os 75% menores dados dos 25% maiores.\n",
    "\n",
    "\n",
    "Outliers ou valores atípicos são observações que se distanciam significativamente dos outros dados do conjunto. Eles podem ser resultado de variabilidade nos dados ou de erros de medição. São importantes porque podem distorcer estatísticas e proporcionar insights sobre anomalias.\n",
    "\n",
    "Um boxplot é um método gráfico para representar a distribuição de dados numéricos por meio de quartis. Ele mostra o mínimo, o primeiro quartil (Q1), a mediana (Q2), o terceiro quartil (Q3) e o máximo, com linhas (chamadas de \"bigodes\" ou whiskers) que se estendem para mostrar a variabilidade fora dos quartis. Outliers são frequentemente indicados como pontos individuais que ficam fora dos \"bigodes\"."
   ]
  },
  {
   "cell_type": "code",
   "execution_count": 22,
   "id": "158fddab-2493-49b2-997c-e0fa7ea0e35f",
   "metadata": {},
   "outputs": [],
   "source": [
    "Medicamentos = [\"Capomulin\", \"Ramicane\", \"Infubinol\", \"Ceftamin\"]\n",
    "\n",
    "medicamentos_df = {}\n",
    "\n",
    "for i in Medicamentos:\n",
    "    serie = dados.loc[dados['Medicamento'] == i,:]\n",
    "    medicamentos_df[i] = serie"
   ]
  },
  {
   "cell_type": "code",
   "execution_count": 23,
   "id": "bca02ecc-b328-492b-b3a8-1c9958d99d94",
   "metadata": {},
   "outputs": [],
   "source": [
    "#Obtendo o último tratamento de cada cobaia\n",
    "Capomulin_last = medicamentos_df['Capomulin'].groupby(\"ID Mouse\").max()['Timepoint']"
   ]
  },
  {
   "cell_type": "code",
   "execution_count": 24,
   "id": "1bda6187-d94f-46e5-bd5f-522008528c4f",
   "metadata": {},
   "outputs": [],
   "source": [
    "Capomulin_df = pd.DataFrame(Capomulin_last)"
   ]
  },
  {
   "cell_type": "code",
   "execution_count": 25,
   "id": "25fbb59c-6b73-4284-8e44-c1d260057194",
   "metadata": {},
   "outputs": [],
   "source": [
    "Capomulin_merge = pd.merge(Capomulin_df, medicamentos_df[\"Capomulin\"], on = (\"ID Mouse\", \"Timepoint\"), how = \"left\")"
   ]
  },
  {
   "cell_type": "code",
   "execution_count": 26,
   "id": "14dfa2d2-1333-43de-be61-ff3f7e41eae6",
   "metadata": {},
   "outputs": [
    {
     "data": {
      "text/html": [
       "<div>\n",
       "<style scoped>\n",
       "    .dataframe tbody tr th:only-of-type {\n",
       "        vertical-align: middle;\n",
       "    }\n",
       "\n",
       "    .dataframe tbody tr th {\n",
       "        vertical-align: top;\n",
       "    }\n",
       "\n",
       "    .dataframe thead th {\n",
       "        text-align: right;\n",
       "    }\n",
       "</style>\n",
       "<table border=\"1\" class=\"dataframe\">\n",
       "  <thead>\n",
       "    <tr style=\"text-align: right;\">\n",
       "      <th></th>\n",
       "      <th>ID Mouse</th>\n",
       "      <th>Timepoint</th>\n",
       "      <th>Medicamento</th>\n",
       "      <th>Sexo</th>\n",
       "      <th>Idade_Meses</th>\n",
       "      <th>Peso (g)</th>\n",
       "      <th>Tumor Volume (mm3)</th>\n",
       "      <th>Sitios Metastáticos</th>\n",
       "      <th>faixa_etaria</th>\n",
       "    </tr>\n",
       "  </thead>\n",
       "  <tbody>\n",
       "    <tr>\n",
       "      <th>0</th>\n",
       "      <td>m000</td>\n",
       "      <td>15</td>\n",
       "      <td>Capomulin</td>\n",
       "      <td>Feminino</td>\n",
       "      <td>21</td>\n",
       "      <td>23</td>\n",
       "      <td>38.578206</td>\n",
       "      <td>2</td>\n",
       "      <td>18-24 meses</td>\n",
       "    </tr>\n",
       "    <tr>\n",
       "      <th>1</th>\n",
       "      <td>m002</td>\n",
       "      <td>5</td>\n",
       "      <td>Capomulin</td>\n",
       "      <td>Feminino</td>\n",
       "      <td>5</td>\n",
       "      <td>15</td>\n",
       "      <td>42.618402</td>\n",
       "      <td>0</td>\n",
       "      <td>0-6 meses</td>\n",
       "    </tr>\n",
       "    <tr>\n",
       "      <th>2</th>\n",
       "      <td>m003</td>\n",
       "      <td>15</td>\n",
       "      <td>Capomulin</td>\n",
       "      <td>Feminino</td>\n",
       "      <td>8</td>\n",
       "      <td>19</td>\n",
       "      <td>38.578974</td>\n",
       "      <td>0</td>\n",
       "      <td>6-12 meses</td>\n",
       "    </tr>\n",
       "    <tr>\n",
       "      <th>3</th>\n",
       "      <td>m004</td>\n",
       "      <td>20</td>\n",
       "      <td>Capomulin</td>\n",
       "      <td>Masculino</td>\n",
       "      <td>6</td>\n",
       "      <td>28</td>\n",
       "      <td>39.716441</td>\n",
       "      <td>2</td>\n",
       "      <td>6-12 meses</td>\n",
       "    </tr>\n",
       "    <tr>\n",
       "      <th>4</th>\n",
       "      <td>m005</td>\n",
       "      <td>15</td>\n",
       "      <td>Capomulin</td>\n",
       "      <td>Masculino</td>\n",
       "      <td>16</td>\n",
       "      <td>27</td>\n",
       "      <td>40.130019</td>\n",
       "      <td>2</td>\n",
       "      <td>12-18 meses</td>\n",
       "    </tr>\n",
       "    <tr>\n",
       "      <th>...</th>\n",
       "      <td>...</td>\n",
       "      <td>...</td>\n",
       "      <td>...</td>\n",
       "      <td>...</td>\n",
       "      <td>...</td>\n",
       "      <td>...</td>\n",
       "      <td>...</td>\n",
       "      <td>...</td>\n",
       "      <td>...</td>\n",
       "    </tr>\n",
       "    <tr>\n",
       "      <th>71</th>\n",
       "      <td>m094</td>\n",
       "      <td>10</td>\n",
       "      <td>Capomulin</td>\n",
       "      <td>Feminino</td>\n",
       "      <td>12</td>\n",
       "      <td>11</td>\n",
       "      <td>41.573486</td>\n",
       "      <td>0</td>\n",
       "      <td>12-18 meses</td>\n",
       "    </tr>\n",
       "    <tr>\n",
       "      <th>72</th>\n",
       "      <td>m095</td>\n",
       "      <td>20</td>\n",
       "      <td>Capomulin</td>\n",
       "      <td>Masculino</td>\n",
       "      <td>24</td>\n",
       "      <td>16</td>\n",
       "      <td>33.017532</td>\n",
       "      <td>3</td>\n",
       "      <td>24 meses ou mais</td>\n",
       "    </tr>\n",
       "    <tr>\n",
       "      <th>73</th>\n",
       "      <td>m096</td>\n",
       "      <td>20</td>\n",
       "      <td>Capomulin</td>\n",
       "      <td>Masculino</td>\n",
       "      <td>24</td>\n",
       "      <td>17</td>\n",
       "      <td>34.511097</td>\n",
       "      <td>1</td>\n",
       "      <td>24 meses ou mais</td>\n",
       "    </tr>\n",
       "    <tr>\n",
       "      <th>74</th>\n",
       "      <td>m097</td>\n",
       "      <td>0</td>\n",
       "      <td>Capomulin</td>\n",
       "      <td>Masculino</td>\n",
       "      <td>1</td>\n",
       "      <td>29</td>\n",
       "      <td>40.057265</td>\n",
       "      <td>2</td>\n",
       "      <td>0-6 meses</td>\n",
       "    </tr>\n",
       "    <tr>\n",
       "      <th>75</th>\n",
       "      <td>m098</td>\n",
       "      <td>20</td>\n",
       "      <td>Capomulin</td>\n",
       "      <td>Masculino</td>\n",
       "      <td>3</td>\n",
       "      <td>25</td>\n",
       "      <td>35.375483</td>\n",
       "      <td>1</td>\n",
       "      <td>0-6 meses</td>\n",
       "    </tr>\n",
       "  </tbody>\n",
       "</table>\n",
       "<p>76 rows × 9 columns</p>\n",
       "</div>"
      ],
      "text/plain": [
       "   ID Mouse  Timepoint Medicamento       Sexo  Idade_Meses  Peso (g)  \\\n",
       "0      m000         15   Capomulin   Feminino           21        23   \n",
       "1      m002          5   Capomulin   Feminino            5        15   \n",
       "2      m003         15   Capomulin   Feminino            8        19   \n",
       "3      m004         20   Capomulin  Masculino            6        28   \n",
       "4      m005         15   Capomulin  Masculino           16        27   \n",
       "..      ...        ...         ...        ...          ...       ...   \n",
       "71     m094         10   Capomulin   Feminino           12        11   \n",
       "72     m095         20   Capomulin  Masculino           24        16   \n",
       "73     m096         20   Capomulin  Masculino           24        17   \n",
       "74     m097          0   Capomulin  Masculino            1        29   \n",
       "75     m098         20   Capomulin  Masculino            3        25   \n",
       "\n",
       "    Tumor Volume (mm3)  Sitios Metastáticos      faixa_etaria  \n",
       "0            38.578206                    2       18-24 meses  \n",
       "1            42.618402                    0         0-6 meses  \n",
       "2            38.578974                    0        6-12 meses  \n",
       "3            39.716441                    2        6-12 meses  \n",
       "4            40.130019                    2       12-18 meses  \n",
       "..                 ...                  ...               ...  \n",
       "71           41.573486                    0       12-18 meses  \n",
       "72           33.017532                    3  24 meses ou mais  \n",
       "73           34.511097                    1  24 meses ou mais  \n",
       "74           40.057265                    2         0-6 meses  \n",
       "75           35.375483                    1         0-6 meses  \n",
       "\n",
       "[76 rows x 9 columns]"
      ]
     },
     "execution_count": 26,
     "metadata": {},
     "output_type": "execute_result"
    }
   ],
   "source": [
    "Capomulin_merge"
   ]
  },
  {
   "cell_type": "code",
   "execution_count": 27,
   "id": "b5696cf9-3e6f-4223-858c-aed417503bb4",
   "metadata": {},
   "outputs": [],
   "source": [
    "# Extrai os tumores\n",
    "Capomulin_tumors = Capomulin_merge[\"Tumor Volume (mm3)\"]"
   ]
  },
  {
   "cell_type": "code",
   "execution_count": 28,
   "id": "13ba38c0-5274-4428-84ba-3e7e00398975",
   "metadata": {},
   "outputs": [],
   "source": [
    "# Extrai os quartis\n",
    "Cap_quartiles = Capomulin_tumors.quantile([0.25,0.5,0.75])"
   ]
  },
  {
   "cell_type": "code",
   "execution_count": 29,
   "id": "a8265731-a1eb-4903-ae1c-ebbab75371e4",
   "metadata": {},
   "outputs": [
    {
     "data": {
      "text/plain": [
       "0.25    35.587189\n",
       "0.50    38.585446\n",
       "0.75    41.078609\n",
       "Name: Tumor Volume (mm3), dtype: float64"
      ]
     },
     "execution_count": 29,
     "metadata": {},
     "output_type": "execute_result"
    }
   ],
   "source": [
    "Cap_quartiles"
   ]
  },
  {
   "cell_type": "code",
   "execution_count": 30,
   "id": "ed647b7f-3f77-4284-bc24-92c2d0814e61",
   "metadata": {},
   "outputs": [],
   "source": [
    "# Separa o primeiro e o terceiro quartil\n",
    "Cap_lowerq = Cap_quartiles[0.25]\n",
    "Cap_upperq = Cap_quartiles[0.75]"
   ]
  },
  {
   "cell_type": "code",
   "execution_count": 31,
   "id": "4b51ddf2-04f2-47c8-8c43-20b4fde347ae",
   "metadata": {},
   "outputs": [],
   "source": [
    "# IQR\n",
    "Cap_IQR = Cap_upperq - Cap_lowerq"
   ]
  },
  {
   "cell_type": "code",
   "execution_count": 32,
   "id": "873e0963-53b5-4f0e-ab3e-9b268e7a90f5",
   "metadata": {},
   "outputs": [],
   "source": [
    "# Limites (Whiskers)\n",
    "Cap_lowerbound = Cap_lowerq - (Cap_IQR * 1.5)\n",
    "Cap_upperbound = Cap_upperq + (Cap_IQR * 1.5)"
   ]
  },
  {
   "cell_type": "code",
   "execution_count": 33,
   "id": "a27ddee3-0d98-4263-9ea8-665c0c76fa2c",
   "metadata": {},
   "outputs": [
    {
     "name": "stdout",
     "output_type": "stream",
     "text": [
      "Primeiro Quartil da Medida do Tumor com Capomulin: 35.58718855604685\n",
      "Terceiro Quartil da Medida do Tumor com Capomulin: 41.07860879053021\n",
      "Intervalo Interquartil (IQR): 5.491420234483364\n",
      "Valores Abaixo de 27.3500582043218 podem ser outliers\n",
      "Valores Acima de 49.315739142255254 podem ser outliers\n"
     ]
    }
   ],
   "source": [
    "print(f\"Primeiro Quartil da Medida do Tumor com Capomulin: {Cap_lowerq}\")\n",
    "print(f\"Terceiro Quartil da Medida do Tumor com Capomulin: {Cap_upperq}\")\n",
    "print(f\"Intervalo Interquartil (IQR): {Cap_IQR}\")\n",
    "print(f\"Valores Abaixo de {Cap_lowerbound} podem ser outliers\")\n",
    "print(f\"Valores Acima de {Cap_upperbound} podem ser outliers\")"
   ]
  },
  {
   "cell_type": "markdown",
   "id": "028f2b05-182a-4111-b41f-e830710d9b98",
   "metadata": {},
   "source": [
    "### Apartir daqui, irei \"automatizar\" o processo para os medicamentos, em vista que, o exemplo acima é apenas para elucidar a regra por trás de cada Outlier"
   ]
  },
  {
   "cell_type": "code",
   "execution_count": 34,
   "id": "ea471015-472f-439b-9632-e5c11be5e847",
   "metadata": {},
   "outputs": [],
   "source": [
    "# Extraindo o último tratamento de cada cobaia\n",
    "last_timepoint = pd.DataFrame(dados.groupby(\"ID Mouse\")[\"Timepoint\"].max().sort_values()) \\\n",
    "                .reset_index().rename(columns = {\"Timepoint\": \"Ultimo Tratamento\"})"
   ]
  },
  {
   "cell_type": "code",
   "execution_count": 35,
   "id": "e2b8f972-ef23-4c79-81e5-428af018ee61",
   "metadata": {},
   "outputs": [
    {
     "data": {
      "text/html": [
       "<div>\n",
       "<style scoped>\n",
       "    .dataframe tbody tr th:only-of-type {\n",
       "        vertical-align: middle;\n",
       "    }\n",
       "\n",
       "    .dataframe tbody tr th {\n",
       "        vertical-align: top;\n",
       "    }\n",
       "\n",
       "    .dataframe thead th {\n",
       "        text-align: right;\n",
       "    }\n",
       "</style>\n",
       "<table border=\"1\" class=\"dataframe\">\n",
       "  <thead>\n",
       "    <tr style=\"text-align: right;\">\n",
       "      <th></th>\n",
       "      <th>ID Mouse</th>\n",
       "      <th>Ultimo Tratamento</th>\n",
       "    </tr>\n",
       "  </thead>\n",
       "  <tbody>\n",
       "    <tr>\n",
       "      <th>0</th>\n",
       "      <td>m000</td>\n",
       "      <td>20</td>\n",
       "    </tr>\n",
       "    <tr>\n",
       "      <th>1</th>\n",
       "      <td>m072</td>\n",
       "      <td>20</td>\n",
       "    </tr>\n",
       "    <tr>\n",
       "      <th>2</th>\n",
       "      <td>m071</td>\n",
       "      <td>20</td>\n",
       "    </tr>\n",
       "    <tr>\n",
       "      <th>3</th>\n",
       "      <td>m070</td>\n",
       "      <td>20</td>\n",
       "    </tr>\n",
       "    <tr>\n",
       "      <th>4</th>\n",
       "      <td>m069</td>\n",
       "      <td>20</td>\n",
       "    </tr>\n",
       "  </tbody>\n",
       "</table>\n",
       "</div>"
      ],
      "text/plain": [
       "  ID Mouse  Ultimo Tratamento\n",
       "0     m000                 20\n",
       "1     m072                 20\n",
       "2     m071                 20\n",
       "3     m070                 20\n",
       "4     m069                 20"
      ]
     },
     "execution_count": 35,
     "metadata": {},
     "output_type": "execute_result"
    }
   ],
   "source": [
    "last_timepoint.head()"
   ]
  },
  {
   "cell_type": "code",
   "execution_count": 36,
   "id": "61bd1bc5-fcd3-453c-abb3-e08ad5ca3b7e",
   "metadata": {},
   "outputs": [],
   "source": [
    "# Adiciona o último timepoint como uma coluna no dataframe original\n",
    "merged_df = pd.merge(dados, last_timepoint, on = \"ID Mouse\")"
   ]
  },
  {
   "cell_type": "code",
   "execution_count": 37,
   "id": "71b9faf6-9d00-48cb-851c-6caf8f195bd9",
   "metadata": {},
   "outputs": [
    {
     "data": {
      "text/html": [
       "<div>\n",
       "<style scoped>\n",
       "    .dataframe tbody tr th:only-of-type {\n",
       "        vertical-align: middle;\n",
       "    }\n",
       "\n",
       "    .dataframe tbody tr th {\n",
       "        vertical-align: top;\n",
       "    }\n",
       "\n",
       "    .dataframe thead th {\n",
       "        text-align: right;\n",
       "    }\n",
       "</style>\n",
       "<table border=\"1\" class=\"dataframe\">\n",
       "  <thead>\n",
       "    <tr style=\"text-align: right;\">\n",
       "      <th></th>\n",
       "      <th>ID Mouse</th>\n",
       "      <th>Medicamento</th>\n",
       "      <th>Sexo</th>\n",
       "      <th>Idade_Meses</th>\n",
       "      <th>Peso (g)</th>\n",
       "      <th>Timepoint</th>\n",
       "      <th>Tumor Volume (mm3)</th>\n",
       "      <th>Sitios Metastáticos</th>\n",
       "      <th>faixa_etaria</th>\n",
       "      <th>Ultimo Tratamento</th>\n",
       "    </tr>\n",
       "  </thead>\n",
       "  <tbody>\n",
       "    <tr>\n",
       "      <th>0</th>\n",
       "      <td>m000</td>\n",
       "      <td>Placebo</td>\n",
       "      <td>Masculino</td>\n",
       "      <td>18</td>\n",
       "      <td>21</td>\n",
       "      <td>0</td>\n",
       "      <td>45.780350</td>\n",
       "      <td>2</td>\n",
       "      <td>18-24 meses</td>\n",
       "      <td>20</td>\n",
       "    </tr>\n",
       "    <tr>\n",
       "      <th>1</th>\n",
       "      <td>m000</td>\n",
       "      <td>Ramicane</td>\n",
       "      <td>Masculino</td>\n",
       "      <td>24</td>\n",
       "      <td>17</td>\n",
       "      <td>5</td>\n",
       "      <td>42.728114</td>\n",
       "      <td>0</td>\n",
       "      <td>24 meses ou mais</td>\n",
       "      <td>20</td>\n",
       "    </tr>\n",
       "    <tr>\n",
       "      <th>2</th>\n",
       "      <td>m000</td>\n",
       "      <td>Ramicane</td>\n",
       "      <td>Feminino</td>\n",
       "      <td>19</td>\n",
       "      <td>23</td>\n",
       "      <td>10</td>\n",
       "      <td>40.827502</td>\n",
       "      <td>1</td>\n",
       "      <td>18-24 meses</td>\n",
       "      <td>20</td>\n",
       "    </tr>\n",
       "    <tr>\n",
       "      <th>3</th>\n",
       "      <td>m000</td>\n",
       "      <td>Capomulin</td>\n",
       "      <td>Feminino</td>\n",
       "      <td>21</td>\n",
       "      <td>23</td>\n",
       "      <td>15</td>\n",
       "      <td>38.578206</td>\n",
       "      <td>2</td>\n",
       "      <td>18-24 meses</td>\n",
       "      <td>20</td>\n",
       "    </tr>\n",
       "    <tr>\n",
       "      <th>4</th>\n",
       "      <td>m000</td>\n",
       "      <td>Infubinol</td>\n",
       "      <td>Masculino</td>\n",
       "      <td>12</td>\n",
       "      <td>17</td>\n",
       "      <td>20</td>\n",
       "      <td>35.094393</td>\n",
       "      <td>2</td>\n",
       "      <td>12-18 meses</td>\n",
       "      <td>20</td>\n",
       "    </tr>\n",
       "    <tr>\n",
       "      <th>...</th>\n",
       "      <td>...</td>\n",
       "      <td>...</td>\n",
       "      <td>...</td>\n",
       "      <td>...</td>\n",
       "      <td>...</td>\n",
       "      <td>...</td>\n",
       "      <td>...</td>\n",
       "      <td>...</td>\n",
       "      <td>...</td>\n",
       "      <td>...</td>\n",
       "    </tr>\n",
       "    <tr>\n",
       "      <th>495</th>\n",
       "      <td>m099</td>\n",
       "      <td>Placebo</td>\n",
       "      <td>Feminino</td>\n",
       "      <td>19</td>\n",
       "      <td>29</td>\n",
       "      <td>0</td>\n",
       "      <td>40.746550</td>\n",
       "      <td>2</td>\n",
       "      <td>18-24 meses</td>\n",
       "      <td>20</td>\n",
       "    </tr>\n",
       "    <tr>\n",
       "      <th>496</th>\n",
       "      <td>m099</td>\n",
       "      <td>Infubinol</td>\n",
       "      <td>Masculino</td>\n",
       "      <td>3</td>\n",
       "      <td>19</td>\n",
       "      <td>5</td>\n",
       "      <td>41.191849</td>\n",
       "      <td>2</td>\n",
       "      <td>0-6 meses</td>\n",
       "      <td>20</td>\n",
       "    </tr>\n",
       "    <tr>\n",
       "      <th>497</th>\n",
       "      <td>m099</td>\n",
       "      <td>Ramicane</td>\n",
       "      <td>Masculino</td>\n",
       "      <td>15</td>\n",
       "      <td>16</td>\n",
       "      <td>10</td>\n",
       "      <td>41.715409</td>\n",
       "      <td>0</td>\n",
       "      <td>12-18 meses</td>\n",
       "      <td>20</td>\n",
       "    </tr>\n",
       "    <tr>\n",
       "      <th>498</th>\n",
       "      <td>m099</td>\n",
       "      <td>Placebo</td>\n",
       "      <td>Masculino</td>\n",
       "      <td>14</td>\n",
       "      <td>19</td>\n",
       "      <td>15</td>\n",
       "      <td>34.176424</td>\n",
       "      <td>2</td>\n",
       "      <td>12-18 meses</td>\n",
       "      <td>20</td>\n",
       "    </tr>\n",
       "    <tr>\n",
       "      <th>499</th>\n",
       "      <td>m099</td>\n",
       "      <td>Ramicane</td>\n",
       "      <td>Masculino</td>\n",
       "      <td>1</td>\n",
       "      <td>14</td>\n",
       "      <td>20</td>\n",
       "      <td>38.140446</td>\n",
       "      <td>1</td>\n",
       "      <td>0-6 meses</td>\n",
       "      <td>20</td>\n",
       "    </tr>\n",
       "  </tbody>\n",
       "</table>\n",
       "<p>500 rows × 10 columns</p>\n",
       "</div>"
      ],
      "text/plain": [
       "    ID Mouse Medicamento       Sexo  Idade_Meses  Peso (g)  Timepoint  \\\n",
       "0       m000     Placebo  Masculino           18        21          0   \n",
       "1       m000    Ramicane  Masculino           24        17          5   \n",
       "2       m000    Ramicane   Feminino           19        23         10   \n",
       "3       m000   Capomulin   Feminino           21        23         15   \n",
       "4       m000   Infubinol  Masculino           12        17         20   \n",
       "..       ...         ...        ...          ...       ...        ...   \n",
       "495     m099     Placebo   Feminino           19        29          0   \n",
       "496     m099   Infubinol  Masculino            3        19          5   \n",
       "497     m099    Ramicane  Masculino           15        16         10   \n",
       "498     m099     Placebo  Masculino           14        19         15   \n",
       "499     m099    Ramicane  Masculino            1        14         20   \n",
       "\n",
       "     Tumor Volume (mm3)  Sitios Metastáticos      faixa_etaria  \\\n",
       "0             45.780350                    2       18-24 meses   \n",
       "1             42.728114                    0  24 meses ou mais   \n",
       "2             40.827502                    1       18-24 meses   \n",
       "3             38.578206                    2       18-24 meses   \n",
       "4             35.094393                    2       12-18 meses   \n",
       "..                  ...                  ...               ...   \n",
       "495           40.746550                    2       18-24 meses   \n",
       "496           41.191849                    2         0-6 meses   \n",
       "497           41.715409                    0       12-18 meses   \n",
       "498           34.176424                    2       12-18 meses   \n",
       "499           38.140446                    1         0-6 meses   \n",
       "\n",
       "     Ultimo Tratamento  \n",
       "0                   20  \n",
       "1                   20  \n",
       "2                   20  \n",
       "3                   20  \n",
       "4                   20  \n",
       "..                 ...  \n",
       "495                 20  \n",
       "496                 20  \n",
       "497                 20  \n",
       "498                 20  \n",
       "499                 20  \n",
       "\n",
       "[500 rows x 10 columns]"
      ]
     },
     "execution_count": 37,
     "metadata": {},
     "output_type": "execute_result"
    }
   ],
   "source": [
    "merged_df"
   ]
  },
  {
   "cell_type": "code",
   "execution_count": 38,
   "id": "9669054d-0dab-4063-8cf6-9ce12d64ada8",
   "metadata": {},
   "outputs": [],
   "source": [
    "# Lista para o volume do tumor\n",
    "tumor_volume = []"
   ]
  },
  {
   "cell_type": "code",
   "execution_count": 39,
   "id": "6d90bac6-1cc8-4984-b274-f6cea9a4d4ca",
   "metadata": {},
   "outputs": [],
   "source": [
    "# Lista de Tratamentos\n",
    "lista_med = [\"Capomulin\", \"Ramicane\", \"Infubinol\", \"Placebo\"]"
   ]
  },
  {
   "cell_type": "markdown",
   "id": "51fd8088-375b-404a-a1ef-2dce4b3c002d",
   "metadata": {},
   "source": [
    "## Pergunta 1 - Há outliers em cada Tratamento ?"
   ]
  },
  {
   "cell_type": "code",
   "execution_count": 40,
   "id": "7fb65bf1-3925-47f3-bcc4-3f8ec48ac8ce",
   "metadata": {},
   "outputs": [
    {
     "name": "stdout",
     "output_type": "stream",
     "text": [
      "\n",
      "Relatório Estatítisco de Outliers\n",
      "\n",
      "IQR para Capomulin: 4.852178469471447\n",
      "Limite Inferior para Capomulin: 25.767389137683136\n",
      "Limite Superior para Capomulin: 45.17610301556893\n",
      "Medicamento: Capomulin -> Número de outliers: 0\n",
      "\n",
      "IQR para Ramicane: 5.003897167188235\n",
      "Limite Inferior para Ramicane: 26.055360480530023\n",
      "Limite Superior para Ramicane: 46.07094914928297\n",
      "Medicamento: Ramicane -> Número de outliers: 0\n",
      "\n",
      "IQR para Infubinol: 3.8793474601479048\n",
      "Limite Inferior para Infubinol: 26.74425645494983\n",
      "Limite Superior para Infubinol: 42.26164629554145\n",
      "Medicamento: Infubinol -> Número de outliers: 0\n",
      "\n",
      "IQR para Placebo: 5.16298824225909\n",
      "Limite Inferior para Placebo: 24.757630535846673\n",
      "Limite Superior para Placebo: 45.40958350488303\n",
      "Medicamento: Placebo -> Número de outliers: 0\n"
     ]
    }
   ],
   "source": [
    "print(f\"\\nRelatório Estatítisco de Outliers\")\n",
    "\n",
    "for medicamento in lista_med:\n",
    "\n",
    "    # Filtra o df apenas com o medicamento na iteração\n",
    "    df = merged_df.loc[merged_df[\"Medicamento\"] == medicamento]\n",
    "\n",
    "    #Localiza os dados do volume final do tumor no último ponto de tempo registrado para o medicamento\n",
    "    final_volume = df.loc[df['Timepoint'] == df['Ultimo Tratamento']]\n",
    "\n",
    "    #Seleciona a coluna de volume do tumor dos dados filtrados\n",
    "    final_volumes = final_volume['Tumor Volume (mm3)']\n",
    "\n",
    "    # Adiciona os volumes finais de tumor à lista de volumes de tumor\n",
    "    tumor_volume.append(final_volumes)\n",
    "\n",
    "    #Calcula os quartis para os volumes finais do tumor\n",
    "    quartiles = final_volumes.quantile([0.25, .5, 0.75])\n",
    "\n",
    "    #Atribui o primeiro quartil à variável lowerq\n",
    "    lowerq = quartiles[0.25]\n",
    "\n",
    "    #Atribui o terceiro quartil à variável upperq\n",
    "    upperq = quartiles[0.75]\n",
    "\n",
    "    # Calcula o intervelo interquartil (IQR)\n",
    "    iqr = upperq - lowerq\n",
    "\n",
    "    #Calcula o limite inferior para detecção de outliers\n",
    "    lower_bound = lowerq - (1.5 * iqr)\n",
    "\n",
    "    #Calcula o olimite superior para detecçção de outliers\n",
    "    upper_bound = upperq + (1.5 * iqr)\n",
    "\n",
    "    #Conta os outliers com base nos limites definidos\n",
    "    outliers = final_volumes[(final_volume['Tumor Volume (mm3)'] <= lower_bound) | \\\n",
    "                             (final_volume['Tumor Volume (mm3)'] >= upper_bound)].count()\n",
    "\n",
    "    #Imprime\n",
    "    print(f'\\nIQR para {medicamento}: {iqr}')\n",
    "    print(f\"Limite Inferior para {medicamento}: {lower_bound}\")\n",
    "    print(f\"Limite Superior para {medicamento}: {upper_bound}\")\n",
    "    print(f\"Medicamento: {medicamento} -> Número de outliers: {outliers}\")\n",
    "    "
   ]
  },
  {
   "cell_type": "code",
   "execution_count": 42,
   "id": "5c8e35a6-bfb2-43f3-b6c6-19e5a4cec0d1",
   "metadata": {},
   "outputs": [
    {
     "data": {
      "image/png": "[encoded data removed]",
      "text/plain": [
       "<Figure size 640x480 with 1 Axes>"
      ]
     },
     "metadata": {},
     "output_type": "display_data"
    }
   ],
   "source": [
    "#Boxplot\n",
    "format = dict(marker = \"o\")\n",
    "plt.boxplot(tumor_volume, flierprops = format, showmeans = True)\n",
    "plt.title(\"Volume Final do tumor Por Medicamento\")\n",
    "plt.ylabel(\"Tumor Volume (mm3)\")\n",
    "plt.xticks([1,2,3,4], [\"Capomulin\", \"Ramicane\", \"Infubinol\", \"Placebo\"])\n",
    "plt.show()"
   ]
  },
  {
   "cell_type": "markdown",
   "id": "8ce718df-5aaa-47f6-a44b-7f2ca481e935",
   "metadata": {},
   "source": [
    "## Pergunta 2 - Com o Uso de Medicamentos Há Efeito no Volume do Tumor Ao Longo do Tempo?"
   ]
  },
  {
   "cell_type": "code",
   "execution_count": 43,
   "id": "ef7839e3-0277-4577-90c2-22dcf18c7fc7",
   "metadata": {},
   "outputs": [],
   "source": [
    "#Extrai os dados de uma cobaia\n",
    "tratamento_mouse = dados.loc[dados['ID Mouse'] == 'm000']"
   ]
  },
  {
   "cell_type": "code",
   "execution_count": 44,
   "id": "1da31a55-bbb3-4aad-830b-34da2cb6c25a",
   "metadata": {},
   "outputs": [
    {
     "data": {
      "image/png": "[encoded data removed]",
      "text/plain": [
       "<Figure size 640x480 with 1 Axes>"
      ]
     },
     "metadata": {},
     "output_type": "display_data"
    }
   ],
   "source": [
    "#Plot\n",
    "plt.plot(tratamento_mouse['Timepoint'], tratamento_mouse['Tumor Volume (mm3)'], marker = 'o')\n",
    "plt.xlabel('\\nTempo (dias)')\n",
    "plt.ylabel('Tumor Volume (mm3)')\n",
    "plt.title('Tratamento com Capomulin Para o Mouse m000')\n",
    "plt.show()"
   ]
  },
  {
   "cell_type": "markdown",
   "id": "51dfa357-51d5-4d62-bedb-40fb006d36df",
   "metadata": {},
   "source": [
    ">\n",
    ">Notoriamente nós vemos que com base nesta cobaia, há efeito do medicamento ao longo do tempo"
   ]
  },
  {
   "cell_type": "markdown",
   "id": "40a6e9d0-6ea1-44dd-a8ea-fd30cd8e65d5",
   "metadata": {},
   "source": [
    "## Pergunta 3 - Para Um dos Medicamentos Qual a Relação Entre Peso da Cobaia e Tamanho do Tumor?"
   ]
  },
  {
   "cell_type": "code",
   "execution_count": 45,
   "id": "b8c85042-23f9-4efb-a5f7-c6a4f0ac4335",
   "metadata": {},
   "outputs": [],
   "source": [
    "# Filtra os dados\n",
    "capomulin_tratamento = dados.loc[dados['Medicamento'] == 'Capomulin']"
   ]
  },
  {
   "cell_type": "code",
   "execution_count": 46,
   "id": "692ca3f9-c883-4e9c-8d2c-6f84d944ed64",
   "metadata": {},
   "outputs": [
    {
     "data": {
      "text/html": [
       "<div>\n",
       "<style scoped>\n",
       "    .dataframe tbody tr th:only-of-type {\n",
       "        vertical-align: middle;\n",
       "    }\n",
       "\n",
       "    .dataframe tbody tr th {\n",
       "        vertical-align: top;\n",
       "    }\n",
       "\n",
       "    .dataframe thead th {\n",
       "        text-align: right;\n",
       "    }\n",
       "</style>\n",
       "<table border=\"1\" class=\"dataframe\">\n",
       "  <thead>\n",
       "    <tr style=\"text-align: right;\">\n",
       "      <th></th>\n",
       "      <th>ID Mouse</th>\n",
       "      <th>Medicamento</th>\n",
       "      <th>Sexo</th>\n",
       "      <th>Idade_Meses</th>\n",
       "      <th>Peso (g)</th>\n",
       "      <th>Timepoint</th>\n",
       "      <th>Tumor Volume (mm3)</th>\n",
       "      <th>Sitios Metastáticos</th>\n",
       "      <th>faixa_etaria</th>\n",
       "    </tr>\n",
       "  </thead>\n",
       "  <tbody>\n",
       "    <tr>\n",
       "      <th>3</th>\n",
       "      <td>m000</td>\n",
       "      <td>Capomulin</td>\n",
       "      <td>Feminino</td>\n",
       "      <td>21</td>\n",
       "      <td>23</td>\n",
       "      <td>15</td>\n",
       "      <td>38.578206</td>\n",
       "      <td>2</td>\n",
       "      <td>18-24 meses</td>\n",
       "    </tr>\n",
       "    <tr>\n",
       "      <th>11</th>\n",
       "      <td>m002</td>\n",
       "      <td>Capomulin</td>\n",
       "      <td>Feminino</td>\n",
       "      <td>5</td>\n",
       "      <td>15</td>\n",
       "      <td>5</td>\n",
       "      <td>42.618402</td>\n",
       "      <td>0</td>\n",
       "      <td>0-6 meses</td>\n",
       "    </tr>\n",
       "    <tr>\n",
       "      <th>18</th>\n",
       "      <td>m003</td>\n",
       "      <td>Capomulin</td>\n",
       "      <td>Feminino</td>\n",
       "      <td>8</td>\n",
       "      <td>19</td>\n",
       "      <td>15</td>\n",
       "      <td>38.578974</td>\n",
       "      <td>0</td>\n",
       "      <td>6-12 meses</td>\n",
       "    </tr>\n",
       "    <tr>\n",
       "      <th>24</th>\n",
       "      <td>m004</td>\n",
       "      <td>Capomulin</td>\n",
       "      <td>Masculino</td>\n",
       "      <td>6</td>\n",
       "      <td>28</td>\n",
       "      <td>20</td>\n",
       "      <td>39.716441</td>\n",
       "      <td>2</td>\n",
       "      <td>6-12 meses</td>\n",
       "    </tr>\n",
       "    <tr>\n",
       "      <th>28</th>\n",
       "      <td>m005</td>\n",
       "      <td>Capomulin</td>\n",
       "      <td>Masculino</td>\n",
       "      <td>16</td>\n",
       "      <td>27</td>\n",
       "      <td>15</td>\n",
       "      <td>40.130019</td>\n",
       "      <td>2</td>\n",
       "      <td>12-18 meses</td>\n",
       "    </tr>\n",
       "  </tbody>\n",
       "</table>\n",
       "</div>"
      ],
      "text/plain": [
       "   ID Mouse Medicamento       Sexo  Idade_Meses  Peso (g)  Timepoint  \\\n",
       "3      m000   Capomulin   Feminino           21        23         15   \n",
       "11     m002   Capomulin   Feminino            5        15          5   \n",
       "18     m003   Capomulin   Feminino            8        19         15   \n",
       "24     m004   Capomulin  Masculino            6        28         20   \n",
       "28     m005   Capomulin  Masculino           16        27         15   \n",
       "\n",
       "    Tumor Volume (mm3)  Sitios Metastáticos faixa_etaria  \n",
       "3            38.578206                    2  18-24 meses  \n",
       "11           42.618402                    0    0-6 meses  \n",
       "18           38.578974                    0   6-12 meses  \n",
       "24           39.716441                    2   6-12 meses  \n",
       "28           40.130019                    2  12-18 meses  "
      ]
     },
     "execution_count": 46,
     "metadata": {},
     "output_type": "execute_result"
    }
   ],
   "source": [
    "capomulin_tratamento.head()"
   ]
  },
  {
   "cell_type": "code",
   "execution_count": 47,
   "id": "1524a411-c85a-4977-9d3e-21cf4c761863",
   "metadata": {},
   "outputs": [
    {
     "name": "stdout",
     "output_type": "stream",
     "text": [
      "<class 'pandas.core.frame.DataFrame'>\n",
      "Index: 124 entries, 3 to 494\n",
      "Data columns (total 9 columns):\n",
      " #   Column               Non-Null Count  Dtype   \n",
      "---  ------               --------------  -----   \n",
      " 0   ID Mouse             124 non-null    object  \n",
      " 1   Medicamento          124 non-null    object  \n",
      " 2   Sexo                 124 non-null    object  \n",
      " 3   Idade_Meses          124 non-null    int64   \n",
      " 4   Peso (g)             124 non-null    int64   \n",
      " 5   Timepoint            124 non-null    int64   \n",
      " 6   Tumor Volume (mm3)   124 non-null    float64 \n",
      " 7   Sitios Metastáticos  124 non-null    int64   \n",
      " 8   faixa_etaria         124 non-null    category\n",
      "dtypes: category(1), float64(1), int64(4), object(3)\n",
      "memory usage: 9.0+ KB\n"
     ]
    }
   ],
   "source": [
    "capomulin_tratamento.info()"
   ]
  },
  {
   "cell_type": "code",
   "execution_count": 48,
   "id": "03b18d02-143d-44ce-a503-ab7cae58dd79",
   "metadata": {},
   "outputs": [],
   "source": [
    "#Média das colunas numéricas\n",
    "avg_tumor_volume = capomulin_tratamento.groupby('ID Mouse')[['Idade_Meses',\n",
    "                                                             'Peso (g)',\n",
    "                                                             'Timepoint',\n",
    "                                                             'Tumor Volume (mm3)',\n",
    "                                                             'Sitios Metastáticos']].mean()"
   ]
  },
  {
   "cell_type": "code",
   "execution_count": 49,
   "id": "54e11924-21fe-4f3e-8dab-fe5ca0b57de5",
   "metadata": {},
   "outputs": [
    {
     "data": {
      "text/html": [
       "<div>\n",
       "<style scoped>\n",
       "    .dataframe tbody tr th:only-of-type {\n",
       "        vertical-align: middle;\n",
       "    }\n",
       "\n",
       "    .dataframe tbody tr th {\n",
       "        vertical-align: top;\n",
       "    }\n",
       "\n",
       "    .dataframe thead th {\n",
       "        text-align: right;\n",
       "    }\n",
       "</style>\n",
       "<table border=\"1\" class=\"dataframe\">\n",
       "  <thead>\n",
       "    <tr style=\"text-align: right;\">\n",
       "      <th></th>\n",
       "      <th>Idade_Meses</th>\n",
       "      <th>Peso (g)</th>\n",
       "      <th>Timepoint</th>\n",
       "      <th>Tumor Volume (mm3)</th>\n",
       "      <th>Sitios Metastáticos</th>\n",
       "    </tr>\n",
       "    <tr>\n",
       "      <th>ID Mouse</th>\n",
       "      <th></th>\n",
       "      <th></th>\n",
       "      <th></th>\n",
       "      <th></th>\n",
       "      <th></th>\n",
       "    </tr>\n",
       "  </thead>\n",
       "  <tbody>\n",
       "    <tr>\n",
       "      <th>m000</th>\n",
       "      <td>21.0</td>\n",
       "      <td>23.0</td>\n",
       "      <td>15.0</td>\n",
       "      <td>38.578206</td>\n",
       "      <td>2.0</td>\n",
       "    </tr>\n",
       "    <tr>\n",
       "      <th>m002</th>\n",
       "      <td>5.0</td>\n",
       "      <td>15.0</td>\n",
       "      <td>5.0</td>\n",
       "      <td>42.618402</td>\n",
       "      <td>0.0</td>\n",
       "    </tr>\n",
       "    <tr>\n",
       "      <th>m003</th>\n",
       "      <td>8.0</td>\n",
       "      <td>19.0</td>\n",
       "      <td>15.0</td>\n",
       "      <td>38.578974</td>\n",
       "      <td>0.0</td>\n",
       "    </tr>\n",
       "    <tr>\n",
       "      <th>m004</th>\n",
       "      <td>6.0</td>\n",
       "      <td>28.0</td>\n",
       "      <td>20.0</td>\n",
       "      <td>39.716441</td>\n",
       "      <td>2.0</td>\n",
       "    </tr>\n",
       "    <tr>\n",
       "      <th>m005</th>\n",
       "      <td>16.0</td>\n",
       "      <td>27.0</td>\n",
       "      <td>15.0</td>\n",
       "      <td>40.130019</td>\n",
       "      <td>2.0</td>\n",
       "    </tr>\n",
       "  </tbody>\n",
       "</table>\n",
       "</div>"
      ],
      "text/plain": [
       "          Idade_Meses  Peso (g)  Timepoint  Tumor Volume (mm3)  \\\n",
       "ID Mouse                                                         \n",
       "m000             21.0      23.0       15.0           38.578206   \n",
       "m002              5.0      15.0        5.0           42.618402   \n",
       "m003              8.0      19.0       15.0           38.578974   \n",
       "m004              6.0      28.0       20.0           39.716441   \n",
       "m005             16.0      27.0       15.0           40.130019   \n",
       "\n",
       "          Sitios Metastáticos  \n",
       "ID Mouse                       \n",
       "m000                      2.0  \n",
       "m002                      0.0  \n",
       "m003                      0.0  \n",
       "m004                      2.0  \n",
       "m005                      2.0  "
      ]
     },
     "execution_count": 49,
     "metadata": {},
     "output_type": "execute_result"
    }
   ],
   "source": [
    "avg_tumor_volume.head()"
   ]
  },
  {
   "cell_type": "code",
   "execution_count": 50,
   "id": "6f976a8a-7999-4536-bca6-891b625ad387",
   "metadata": {},
   "outputs": [
    {
     "data": {
      "image/png": "[encoded data removed]",
      "text/plain": [
       "<Figure size 640x480 with 1 Axes>"
      ]
     },
     "metadata": {},
     "output_type": "display_data"
    }
   ],
   "source": [
    "#Scatter Plot\n",
    "x_values = avg_tumor_volume['Peso (g)']\n",
    "y_values = avg_tumor_volume['Tumor Volume (mm3)']\n",
    "plt.scatter(x_values, y_values)\n",
    "plt.title('Peso (g) do Mouse x Média Tumor Volume (mm3)')\n",
    "plt.xlabel('\\nPeso (g)')\n",
    "plt.ylabel('Média de Tumor Volume (mm3')\n",
    "plt.show()"
   ]
  },
  {
   "cell_type": "markdown",
   "id": "37f8c51b-5bad-4aec-8d1a-b05cc427ede2",
   "metadata": {},
   "source": [
    "> Aparenta ter uma correlação negativa - Quanto menor o Tumor, Maior o Peso"
   ]
  },
  {
   "cell_type": "code",
   "execution_count": 51,
   "id": "0499aeef-b4a1-40d3-a4d8-516049b63902",
   "metadata": {},
   "outputs": [
    {
     "name": "stdout",
     "output_type": "stream",
     "text": [
      "A correlação entre Peso (g) e Tumor Volume (mm3) é de -0.22\n"
     ]
    }
   ],
   "source": [
    "#Calcula a correlação\n",
    "correlacao = st.pearsonr(avg_tumor_volume['Peso (g)'], avg_tumor_volume['Tumor Volume (mm3)'])\n",
    "print(f'A correlação entre Peso (g) e Tumor Volume (mm3) é de {round(correlacao[0],2)}')"
   ]
  },
  {
   "cell_type": "code",
   "execution_count": 52,
   "id": "aeb648de-ed45-4cb4-b434-af25529d3b33",
   "metadata": {},
   "outputs": [
    {
     "data": {
      "text/plain": [
       "PearsonRResult(statistic=-0.21858785932842079, pvalue=0.057823621843328545)"
      ]
     },
     "execution_count": 52,
     "metadata": {},
     "output_type": "execute_result"
    }
   ],
   "source": [
    "correlacao"
   ]
  },
  {
   "cell_type": "markdown",
   "id": "f79e5703-78a9-4e85-a1df-5bc71b9d5558",
   "metadata": {},
   "source": [
    "> Coeficiente de Pearson comprovando que há uma pequena correlação negativa"
   ]
  },
  {
   "cell_type": "markdown",
   "id": "78abb369-a8ec-4407-bf1c-1ec7f67760ea",
   "metadata": {},
   "source": [
    "## Quantificando e Prevendo a Relação Através de Regressão Linear\n",
    "\n",
    "Regressão Linear é um método estatístico usado para modelar a relação entre uma variável dependente e uma ou mais variáveis independentes. O objetivo é encontrar uma linha reta que melhor se ajuste aos dados, minimizando a soma dos quadrados das diferenças entre os valores observados e os valores previstos pela linha de regressão. Em outras palavras, busca-se descrever como a variável de interesse responde à mudança das outras variáveis.\n"
   ]
  },
  {
   "cell_type": "code",
   "execution_count": 55,
   "id": "843b879a-64b0-4009-823b-7c31bb897622",
   "metadata": {},
   "outputs": [],
   "source": [
    "#Modelo de Regressão\n",
    "modelo = st.linregress(avg_tumor_volume['Peso (g)'], avg_tumor_volume['Tumor Volume (mm3)'])"
   ]
  },
  {
   "cell_type": "code",
   "execution_count": 56,
   "id": "c1dd87a9-a484-467f-bc7c-fe2262371294",
   "metadata": {},
   "outputs": [
    {
     "data": {
      "text/plain": [
       "43.1616906149073"
      ]
     },
     "execution_count": 56,
     "metadata": {},
     "output_type": "execute_result"
    }
   ],
   "source": [
    "modelo.intercept"
   ]
  },
  {
   "cell_type": "code",
   "execution_count": 58,
   "id": "fe8304b5-92fa-4d98-9836-ea3c826c9797",
   "metadata": {},
   "outputs": [
    {
     "data": {
      "text/plain": [
       "-0.16303360099718336"
      ]
     },
     "execution_count": 58,
     "metadata": {},
     "output_type": "execute_result"
    }
   ],
   "source": [
    "modelo.slope"
   ]
  },
  {
   "cell_type": "markdown",
   "id": "f5705ed8-3cd0-47a7-b686-fc39b1853599",
   "metadata": {},
   "source": [
    "Formula da Regressão Linear Simples\n",
    "\n",
    "y = β0 + β1x\n",
    "• y é a variável dependente que estamos tentando prever ou explicar.\n",
    "• x é a variável independente usada para prever y.\n",
    "• β0 é o intercepto da reta, representando o valor esperado de y quanto x é igual a zero.\n",
    "• β1 é o coeficiente da variável independente (também chamado slope), indicando a mudança esperada em y para uma umento de uma unidade em x."
   ]
  },
  {
   "cell_type": "code",
   "execution_count": 60,
   "id": "d32397ba-d72b-4a02-9862-498c4e932fb6",
   "metadata": {},
   "outputs": [],
   "source": [
    "# Cria a fórmula de regressão com os coeficientes encontrados\n",
    "modelo_reg = modelo.intercept + modelo.slope * avg_tumor_volume['Peso (g)']"
   ]
  },
  {
   "cell_type": "code",
   "execution_count": 61,
   "id": "ff6be414-ffa6-42ef-a946-ee6b893eb6ed",
   "metadata": {},
   "outputs": [],
   "source": [
    "# Calcula a linha de regressão\n",
    "line_equation = f'y={round(modelo.slope,2)}x + {round(modelo.intercept,2)}'"
   ]
  },
  {
   "cell_type": "code",
   "execution_count": 62,
   "id": "8b8e468b-6894-497b-89ad-19d83028919d",
   "metadata": {},
   "outputs": [
    {
     "data": {
      "text/plain": [
       "'y=-0.16x + 43.16'"
      ]
     },
     "execution_count": 62,
     "metadata": {},
     "output_type": "execute_result"
    }
   ],
   "source": [
    "line_equation"
   ]
  },
  {
   "cell_type": "code",
   "execution_count": 71,
   "id": "a7a7ef5f-d3cc-4daf-9e71-ed92f2305e57",
   "metadata": {},
   "outputs": [
    {
     "data": {
      "image/png": "[encoded data removed]",
      "text/plain": [
       "<Figure size 640x480 with 1 Axes>"
      ]
     },
     "metadata": {},
     "output_type": "display_data"
    }
   ],
   "source": [
    "# Plot\n",
    "plt.scatter(avg_tumor_volume['Peso (g)'], avg_tumor_volume['Tumor Volume (mm3)'], color = 'r')\n",
    "plt.plot(avg_tumor_volume['Peso (g)'], modelo_reg, color = 'blue')\n",
    "plt.xlabel('\\nPeso (g)')\n",
    "plt.ylabel('Tumor Volume (mm3')\n",
    "plt.title('Peso(g) Vs Tumor volume(mm3) Para Capomulin')\n",
    "plt.annotate(line_equation, (20,36))\n",
    "plt.show()"
   ]
  },
  {
   "cell_type": "markdown",
   "id": "7569649b-26bd-45b7-a1dc-91321e6130cf",
   "metadata": {},
   "source": [
    "Há uma relação negativa entre as variáveis. Isso significa que à medida que o volume do tumor diminui, aumenta o peso da cobaia (mouse). Ou seja, quanto menor o tumor, maior o potencial de ganho de peso da cobaia, possivelmente devido à melhora da saúde ou outras condições relacionadas."
   ]
  },
  {
   "cell_type": "code",
   "execution_count": 73,
   "id": "c25bee48-6aa8-4c90-a5fd-a680cd19b5e0",
   "metadata": {},
   "outputs": [
    {
     "name": "stdout",
     "output_type": "stream",
     "text": [
      "Author: Mateus Pereira Barboza\n",
      "\n"
     ]
    }
   ],
   "source": [
    "%watermark -a \"Mateus Pereira Barboza\""
   ]
  },
  {
   "cell_type": "code",
   "execution_count": null,
   "id": "a1dcfbd0-4e64-4ede-bb6b-960e53668727",
   "metadata": {},
   "outputs": [],
   "source": []
  }
 ],
 "metadata": {
  "kernelspec": {
   "display_name": "Python 3 (ipykernel)",
   "language": "python",
   "name": "python3"
  },
  "language_info": {
   "codemirror_mode": {
    "name": "ipython",
    "version": 3
   },
   "file_extension": ".py",
   "mimetype": "text/x-python",
   "name": "python",
   "nbconvert_exporter": "python",
   "pygments_lexer": "ipython3",
   "version": "3.12.7"
  }
 },
 "nbformat": 4,
 "nbformat_minor": 5
}
